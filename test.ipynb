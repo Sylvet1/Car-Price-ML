{
 "cells": [
  {
   "cell_type": "markdown",
   "metadata": {},
   "source": [
    "# LEER UN CSV\n"
   ]
  },
  {
   "cell_type": "markdown",
   "metadata": {},
   "source": [
    "\n",
    "## TABLA"
   ]
  },
  {
   "cell_type": "code",
   "execution_count": 9,
   "metadata": {},
   "outputs": [
    {
     "name": "stdout",
     "output_type": "stream",
     "text": [
      "TABLA\n"
     ]
    },
    {
     "data": {
      "text/html": [
       "<div>\n",
       "<style scoped>\n",
       "    .dataframe tbody tr th:only-of-type {\n",
       "        vertical-align: middle;\n",
       "    }\n",
       "\n",
       "    .dataframe tbody tr th {\n",
       "        vertical-align: top;\n",
       "    }\n",
       "\n",
       "    .dataframe thead th {\n",
       "        text-align: right;\n",
       "    }\n",
       "</style>\n",
       "<table border=\"1\" class=\"dataframe\">\n",
       "  <thead>\n",
       "    <tr style=\"text-align: right;\">\n",
       "      <th></th>\n",
       "      <th>Movimientos</th>\n",
       "      <th>Fecha de solicitud</th>\n",
       "      <th>Tipo de transacción</th>\n",
       "      <th>Estado</th>\n",
       "      <th>Signo</th>\n",
       "      <th>Monto</th>\n",
       "      <th>Comisión</th>\n",
       "      <th>Impuesto</th>\n",
       "      <th>Pago</th>\n",
       "      <th>Número de identificación</th>\n",
       "      <th>...</th>\n",
       "      <th>Terminal</th>\n",
       "      <th>Lote</th>\n",
       "      <th>Recibo</th>\n",
       "      <th>Huella del Dispositivo</th>\n",
       "      <th>Código de respuesta</th>\n",
       "      <th>Código de autorización</th>\n",
       "      <th>RRN</th>\n",
       "      <th>Código de afiliado</th>\n",
       "      <th>Descripción.1</th>\n",
       "      <th>Saldo Actual</th>\n",
       "    </tr>\n",
       "  </thead>\n",
       "  <tbody>\n",
       "    <tr>\n",
       "      <th>0</th>\n",
       "      <td>543063</td>\n",
       "      <td>22/09/2023 20:54:20</td>\n",
       "      <td>Recarga con carga a saldo operativo</td>\n",
       "      <td>Aprobada</td>\n",
       "      <td>+</td>\n",
       "      <td>2,00</td>\n",
       "      <td>0,05</td>\n",
       "      <td>0,00</td>\n",
       "      <td>1,95</td>\n",
       "      <td>A4016229</td>\n",
       "      <td>...</td>\n",
       "      <td>Emagic</td>\n",
       "      <td>202309222054201443</td>\n",
       "      <td>STAN202309222054201443</td>\n",
       "      <td>NaN</td>\n",
       "      <td>0</td>\n",
       "      <td>903658</td>\n",
       "      <td>RRN202309222054201443</td>\n",
       "      <td>NaN</td>\n",
       "      <td>Transferencia a billetera desde Emagic</td>\n",
       "      <td>39,30</td>\n",
       "    </tr>\n",
       "    <tr>\n",
       "      <th>1</th>\n",
       "      <td>543064</td>\n",
       "      <td>22/09/2023 20:54:20</td>\n",
       "      <td>Debito al saldo operativo</td>\n",
       "      <td>Aprobada</td>\n",
       "      <td>-</td>\n",
       "      <td>2,00</td>\n",
       "      <td>0,00</td>\n",
       "      <td>0,00</td>\n",
       "      <td>0,00</td>\n",
       "      <td>NaN</td>\n",
       "      <td>...</td>\n",
       "      <td>Emagic</td>\n",
       "      <td>202309222054201443</td>\n",
       "      <td>STAN202309222054201443</td>\n",
       "      <td>NaN</td>\n",
       "      <td>0</td>\n",
       "      <td>687605</td>\n",
       "      <td>RRN202309222054201443</td>\n",
       "      <td>NaN</td>\n",
       "      <td>Transferencia a billetera desde Emagic</td>\n",
       "      <td>35,63</td>\n",
       "    </tr>\n",
       "    <tr>\n",
       "      <th>2</th>\n",
       "      <td>537378</td>\n",
       "      <td>20/09/2023 9:40:38</td>\n",
       "      <td>Recarga con carga a saldo operativo</td>\n",
       "      <td>Aprobada</td>\n",
       "      <td>+</td>\n",
       "      <td>2,00</td>\n",
       "      <td>0,05</td>\n",
       "      <td>0,00</td>\n",
       "      <td>1,95</td>\n",
       "      <td>A4016229</td>\n",
       "      <td>...</td>\n",
       "      <td>Emagic</td>\n",
       "      <td>202309200940377953</td>\n",
       "      <td>STAN202309200940377953</td>\n",
       "      <td>NaN</td>\n",
       "      <td>0</td>\n",
       "      <td>671536</td>\n",
       "      <td>RRN202309200940377953</td>\n",
       "      <td>NaN</td>\n",
       "      <td>Transferencia a billetera desde Emagic</td>\n",
       "      <td>39,30</td>\n",
       "    </tr>\n",
       "    <tr>\n",
       "      <th>3</th>\n",
       "      <td>537379</td>\n",
       "      <td>20/09/2023 9:40:38</td>\n",
       "      <td>Debito al saldo operativo</td>\n",
       "      <td>Aprobada</td>\n",
       "      <td>-</td>\n",
       "      <td>2,00</td>\n",
       "      <td>0,00</td>\n",
       "      <td>0,00</td>\n",
       "      <td>0,00</td>\n",
       "      <td>NaN</td>\n",
       "      <td>...</td>\n",
       "      <td>Emagic</td>\n",
       "      <td>202309200940377953</td>\n",
       "      <td>STAN202309200940377953</td>\n",
       "      <td>NaN</td>\n",
       "      <td>0</td>\n",
       "      <td>333365</td>\n",
       "      <td>RRN202309200940377953</td>\n",
       "      <td>NaN</td>\n",
       "      <td>Transferencia a billetera desde Emagic</td>\n",
       "      <td>35,63</td>\n",
       "    </tr>\n",
       "    <tr>\n",
       "      <th>4</th>\n",
       "      <td>536745</td>\n",
       "      <td>19/09/2023 20:49:47</td>\n",
       "      <td>Recarga con carga a saldo operativo</td>\n",
       "      <td>Aprobada</td>\n",
       "      <td>+</td>\n",
       "      <td>1,10</td>\n",
       "      <td>0,03</td>\n",
       "      <td>0,00</td>\n",
       "      <td>1,07</td>\n",
       "      <td>A4016229</td>\n",
       "      <td>...</td>\n",
       "      <td>Emagic</td>\n",
       "      <td>202309192049469458</td>\n",
       "      <td>STAN202309192049469458</td>\n",
       "      <td>NaN</td>\n",
       "      <td>0</td>\n",
       "      <td>56559</td>\n",
       "      <td>RRN202309192049469458</td>\n",
       "      <td>NaN</td>\n",
       "      <td>Transferencia a billetera desde Emagic</td>\n",
       "      <td>39,30</td>\n",
       "    </tr>\n",
       "  </tbody>\n",
       "</table>\n",
       "<p>5 rows × 26 columns</p>\n",
       "</div>"
      ],
      "text/plain": [
       "   Movimientos   Fecha de solicitud                  Tipo de transacción  \\\n",
       "0       543063  22/09/2023 20:54:20  Recarga con carga a saldo operativo   \n",
       "1       543064  22/09/2023 20:54:20            Debito al saldo operativo   \n",
       "2       537378   20/09/2023 9:40:38  Recarga con carga a saldo operativo   \n",
       "3       537379   20/09/2023 9:40:38            Debito al saldo operativo   \n",
       "4       536745  19/09/2023 20:49:47  Recarga con carga a saldo operativo   \n",
       "\n",
       "     Estado Signo Monto Comisión Impuesto  Pago Número de identificación  ...  \\\n",
       "0  Aprobada     +  2,00     0,05     0,00  1,95                 A4016229  ...   \n",
       "1  Aprobada     -  2,00     0,00     0,00  0,00                      NaN  ...   \n",
       "2  Aprobada     +  2,00     0,05     0,00  1,95                 A4016229  ...   \n",
       "3  Aprobada     -  2,00     0,00     0,00  0,00                      NaN  ...   \n",
       "4  Aprobada     +  1,10     0,03     0,00  1,07                 A4016229  ...   \n",
       "\n",
       "   Terminal                Lote                  Recibo  \\\n",
       "0    Emagic  202309222054201443  STAN202309222054201443   \n",
       "1    Emagic  202309222054201443  STAN202309222054201443   \n",
       "2    Emagic  202309200940377953  STAN202309200940377953   \n",
       "3    Emagic  202309200940377953  STAN202309200940377953   \n",
       "4    Emagic  202309192049469458  STAN202309192049469458   \n",
       "\n",
       "   Huella del Dispositivo  Código de respuesta Código de autorización  \\\n",
       "0                     NaN                    0                 903658   \n",
       "1                     NaN                    0                 687605   \n",
       "2                     NaN                    0                 671536   \n",
       "3                     NaN                    0                 333365   \n",
       "4                     NaN                    0                  56559   \n",
       "\n",
       "                     RRN  Código de afiliado  \\\n",
       "0  RRN202309222054201443                 NaN   \n",
       "1  RRN202309222054201443                 NaN   \n",
       "2  RRN202309200940377953                 NaN   \n",
       "3  RRN202309200940377953                 NaN   \n",
       "4  RRN202309192049469458                 NaN   \n",
       "\n",
       "                            Descripción.1  Saldo Actual  \n",
       "0  Transferencia a billetera desde Emagic         39,30  \n",
       "1  Transferencia a billetera desde Emagic         35,63  \n",
       "2  Transferencia a billetera desde Emagic         39,30  \n",
       "3  Transferencia a billetera desde Emagic         35,63  \n",
       "4  Transferencia a billetera desde Emagic         39,30  \n",
       "\n",
       "[5 rows x 26 columns]"
      ]
     },
     "execution_count": 9,
     "metadata": {},
     "output_type": "execute_result"
    }
   ],
   "source": [
    "print(\"TABLA\")\n",
    "import pandas as pd\n",
    "dataFrame = pd.read_csv('Solicitudes_ProcesoWally-Carga.csv', delimiter=';')\n",
    "dataFrame.head()"
   ]
  },
  {
   "cell_type": "code",
   "execution_count": 10,
   "metadata": {},
   "outputs": [
    {
     "name": "stdout",
     "output_type": "stream",
     "text": [
      "<class 'pandas.core.frame.DataFrame'>\n",
      "RangeIndex: 30 entries, 0 to 29\n",
      "Data columns (total 26 columns):\n",
      " #   Column                      Non-Null Count  Dtype  \n",
      "---  ------                      --------------  -----  \n",
      " 0   Movimientos                 30 non-null     int64  \n",
      " 1   Fecha de solicitud          30 non-null     object \n",
      " 2   Tipo de transacción         30 non-null     object \n",
      " 3   Estado                      30 non-null     object \n",
      " 4   Signo                       30 non-null     object \n",
      " 5   Monto                       30 non-null     object \n",
      " 6   Comisión                    30 non-null     object \n",
      " 7   Impuesto                    30 non-null     object \n",
      " 8   Pago                        30 non-null     object \n",
      " 9   Número de identificación    15 non-null     object \n",
      " 10  Número de cliente           15 non-null     float64\n",
      " 11  Nombre Cliente              15 non-null     object \n",
      " 12  Teléfono                    15 non-null     float64\n",
      " 13  Nro de tarjeta enmascarado  0 non-null      float64\n",
      " 14  Tipo de tarjeta             0 non-null      float64\n",
      " 15  Descripción                 30 non-null     object \n",
      " 16  Terminal                    30 non-null     object \n",
      " 17  Lote                        30 non-null     int64  \n",
      " 18  Recibo                      30 non-null     object \n",
      " 19  Huella del Dispositivo      0 non-null      float64\n",
      " 20  Código de respuesta         30 non-null     int64  \n",
      " 21  Código de autorización      30 non-null     int64  \n",
      " 22  RRN                         30 non-null     object \n",
      " 23  Código de afiliado          0 non-null      float64\n",
      " 24  Descripción.1               30 non-null     object \n",
      " 25  Saldo Actual                30 non-null     object \n",
      "dtypes: float64(6), int64(4), object(16)\n",
      "memory usage: 6.2+ KB\n"
     ]
    }
   ],
   "source": [
    "dataFrame.info()"
   ]
  },
  {
   "cell_type": "markdown",
   "metadata": {},
   "source": [
    "## GRAFICO DE BARAS - DATOS CATEGORICOS"
   ]
  },
  {
   "cell_type": "code",
   "execution_count": 6,
   "metadata": {},
   "outputs": [
    {
     "name": "stdout",
     "output_type": "stream",
     "text": [
      "\n",
      "GRAFICO DE BARRAS DATOS CATEGORICOS\n"
     ]
    },
    {
     "data": {
      "image/png": "[encoded data removed]",
      "text/plain": [
       "<Figure size 640x480 with 1 Axes>"
      ]
     },
     "metadata": {},
     "output_type": "display_data"
    }
   ],
   "source": [
    "\n",
    "print(\"\\nGRAFICO DE BARRAS DATOS CATEGORICOS\")\n",
    "import matplotlib.pyplot as plt\n",
    "\n",
    "dataFrame['Signo'].value_counts().plot(kind='bar') #poner la columna categorica\n",
    "plt.show()"
   ]
  },
  {
   "cell_type": "markdown",
   "metadata": {},
   "source": [
    "## PASTEL - MUESTRA PORCIONES"
   ]
  },
  {
   "cell_type": "code",
   "execution_count": 14,
   "metadata": {},
   "outputs": [
    {
     "name": "stdout",
     "output_type": "stream",
     "text": [
      "\n",
      "GRAFICO DE PASTEL\n"
     ]
    },
    {
     "data": {
      "image/png": "[encoded data removed]",
      "text/plain": [
       "<Figure size 640x480 with 1 Axes>"
      ]
     },
     "metadata": {},
     "output_type": "display_data"
    }
   ],
   "source": [
    "\n",
    "print(\"\\nGRAFICO DE PASTEL\")\n",
    "\n",
    "dataFrame['Signo'].value_counts().plot(kind='pie', autopct='%1.1f%%') #poner la columna categorica\n",
    "plt.show()"
   ]
  },
  {
   "cell_type": "markdown",
   "metadata": {},
   "source": [
    "## HISTOGRAMA, MUESTRA DISTRIBUCION DE UNA COLUMNA NUMERICA"
   ]
  },
  {
   "cell_type": "code",
   "execution_count": 15,
   "metadata": {},
   "outputs": [
    {
     "name": "stdout",
     "output_type": "stream",
     "text": [
      "\n",
      "HISTOGRAMA\n"
     ]
    },
    {
     "ename": "TypeError",
     "evalue": "no numeric data to plot",
     "output_type": "error",
     "traceback": [
      "\u001b[1;31m---------------------------------------------------------------------------\u001b[0m",
      "\u001b[1;31mTypeError\u001b[0m                                 Traceback (most recent call last)",
      "\u001b[1;32mc:\\Users\\Richi\\Documents\\GIT-PERSONAL\\ML\\Car-Price-ML\\test.ipynb Cell 10\u001b[0m line \u001b[0;36m3\n\u001b[0;32m      <a href='vscode-notebook-cell:/c%3A/Users/Richi/Documents/GIT-PERSONAL/ML/Car-Price-ML/test.ipynb#X12sZmlsZQ%3D%3D?line=0'>1</a>\u001b[0m \u001b[39mprint\u001b[39m(\u001b[39m\"\u001b[39m\u001b[39m\\n\u001b[39;00m\u001b[39mHISTOGRAMA\u001b[39m\u001b[39m\"\u001b[39m)\n\u001b[1;32m----> <a href='vscode-notebook-cell:/c%3A/Users/Richi/Documents/GIT-PERSONAL/ML/Car-Price-ML/test.ipynb#X12sZmlsZQ%3D%3D?line=2'>3</a>\u001b[0m dataFrame[\u001b[39m'\u001b[39;49m\u001b[39mComisión\u001b[39;49m\u001b[39m'\u001b[39;49m]\u001b[39m.\u001b[39;49mplot(kind\u001b[39m=\u001b[39;49m\u001b[39m'\u001b[39;49m\u001b[39mhist\u001b[39;49m\u001b[39m'\u001b[39;49m, bins\u001b[39m=\u001b[39;49m\u001b[39m30\u001b[39;49m) \u001b[39m#columna unmerica\u001b[39;00m\n\u001b[0;32m      <a href='vscode-notebook-cell:/c%3A/Users/Richi/Documents/GIT-PERSONAL/ML/Car-Price-ML/test.ipynb#X12sZmlsZQ%3D%3D?line=3'>4</a>\u001b[0m plt\u001b[39m.\u001b[39mshow()\n",
      "File \u001b[1;32mc:\\Users\\Richi\\miniconda3\\envs\\Python311\\Lib\\site-packages\\pandas\\plotting\\_core.py:1031\u001b[0m, in \u001b[0;36mPlotAccessor.__call__\u001b[1;34m(self, *args, **kwargs)\u001b[0m\n\u001b[0;32m   1028\u001b[0m             label_name \u001b[39m=\u001b[39m label_kw \u001b[39mor\u001b[39;00m data\u001b[39m.\u001b[39mcolumns\n\u001b[0;32m   1029\u001b[0m             data\u001b[39m.\u001b[39mcolumns \u001b[39m=\u001b[39m label_name\n\u001b[1;32m-> 1031\u001b[0m \u001b[39mreturn\u001b[39;00m plot_backend\u001b[39m.\u001b[39;49mplot(data, kind\u001b[39m=\u001b[39;49mkind, \u001b[39m*\u001b[39;49m\u001b[39m*\u001b[39;49mkwargs)\n",
      "File \u001b[1;32mc:\\Users\\Richi\\miniconda3\\envs\\Python311\\Lib\\site-packages\\pandas\\plotting\\_matplotlib\\__init__.py:71\u001b[0m, in \u001b[0;36mplot\u001b[1;34m(data, kind, **kwargs)\u001b[0m\n\u001b[0;32m     69\u001b[0m         kwargs[\u001b[39m\"\u001b[39m\u001b[39max\u001b[39m\u001b[39m\"\u001b[39m] \u001b[39m=\u001b[39m \u001b[39mgetattr\u001b[39m(ax, \u001b[39m\"\u001b[39m\u001b[39mleft_ax\u001b[39m\u001b[39m\"\u001b[39m, ax)\n\u001b[0;32m     70\u001b[0m plot_obj \u001b[39m=\u001b[39m PLOT_CLASSES[kind](data, \u001b[39m*\u001b[39m\u001b[39m*\u001b[39mkwargs)\n\u001b[1;32m---> 71\u001b[0m plot_obj\u001b[39m.\u001b[39;49mgenerate()\n\u001b[0;32m     72\u001b[0m plot_obj\u001b[39m.\u001b[39mdraw()\n\u001b[0;32m     73\u001b[0m \u001b[39mreturn\u001b[39;00m plot_obj\u001b[39m.\u001b[39mresult\n",
      "File \u001b[1;32mc:\\Users\\Richi\\miniconda3\\envs\\Python311\\Lib\\site-packages\\pandas\\plotting\\_matplotlib\\core.py:451\u001b[0m, in \u001b[0;36mMPLPlot.generate\u001b[1;34m(self)\u001b[0m\n\u001b[0;32m    449\u001b[0m \u001b[39mdef\u001b[39;00m \u001b[39mgenerate\u001b[39m(\u001b[39mself\u001b[39m) \u001b[39m-\u001b[39m\u001b[39m>\u001b[39m \u001b[39mNone\u001b[39;00m:\n\u001b[0;32m    450\u001b[0m     \u001b[39mself\u001b[39m\u001b[39m.\u001b[39m_args_adjust()\n\u001b[1;32m--> 451\u001b[0m     \u001b[39mself\u001b[39;49m\u001b[39m.\u001b[39;49m_compute_plot_data()\n\u001b[0;32m    452\u001b[0m     \u001b[39mself\u001b[39m\u001b[39m.\u001b[39m_setup_subplots()\n\u001b[0;32m    453\u001b[0m     \u001b[39mself\u001b[39m\u001b[39m.\u001b[39m_make_plot()\n",
      "File \u001b[1;32mc:\\Users\\Richi\\miniconda3\\envs\\Python311\\Lib\\site-packages\\pandas\\plotting\\_matplotlib\\core.py:636\u001b[0m, in \u001b[0;36mMPLPlot._compute_plot_data\u001b[1;34m(self)\u001b[0m\n\u001b[0;32m    634\u001b[0m \u001b[39m# no non-numeric frames or series allowed\u001b[39;00m\n\u001b[0;32m    635\u001b[0m \u001b[39mif\u001b[39;00m is_empty:\n\u001b[1;32m--> 636\u001b[0m     \u001b[39mraise\u001b[39;00m \u001b[39mTypeError\u001b[39;00m(\u001b[39m\"\u001b[39m\u001b[39mno numeric data to plot\u001b[39m\u001b[39m\"\u001b[39m)\n\u001b[0;32m    638\u001b[0m \u001b[39mself\u001b[39m\u001b[39m.\u001b[39mdata \u001b[39m=\u001b[39m numeric_data\u001b[39m.\u001b[39mapply(\u001b[39mself\u001b[39m\u001b[39m.\u001b[39m_convert_to_ndarray)\n",
      "\u001b[1;31mTypeError\u001b[0m: no numeric data to plot"
     ]
    }
   ],
   "source": [
    "print(\"\\nHISTOGRAMA\")\n",
    "\n",
    "dataFrame['Comisión'].plot(kind='hist', bins=30) #columna unmerica\n",
    "plt.show()"
   ]
  }
 ],
 "metadata": {
  "kernelspec": {
   "display_name": "Python311",
   "language": "python",
   "name": "python3"
  },
  "language_info": {
   "codemirror_mode": {
    "name": "ipython",
    "version": 3
   },
   "file_extension": ".py",
   "mimetype": "text/x-python",
   "name": "python",
   "nbconvert_exporter": "python",
   "pygments_lexer": "ipython3",
   "version": "3.11.5"
  },
  "orig_nbformat": 4
 },
 "nbformat": 4,
 "nbformat_minor": 2
}
