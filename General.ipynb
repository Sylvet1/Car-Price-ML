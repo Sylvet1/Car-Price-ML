{
 "cells": [
  {
   "cell_type": "code",
   "execution_count": 139,
   "metadata": {},
   "outputs": [],
   "source": [
    "import pandas as pd\n",
    "import matplotlib.pyplot as plt\n",
    "import seaborn as sns\n",
    "from sklearn.preprocessing import LabelEncoder\n",
    "import numpy as np\n",
    "import plotly.figure_factory as ff\n",
    "\n",
    "# Cargar el archivo CSV\n",
    "data = pd.read_csv('Solicitudes_ProcesoWally-Carga.csv', delimiter=';')\n",
    "#data = pd.read_csv('Solicitudes_ProcesoWally-Carga.csv')\n",
    "# Mostrar las primeras filas del dataframe\n",
    "data.head()\n",
    "\n",
    "\n",
    "def show_table(data):\n",
    "    return data.head()\n",
    "\n",
    "\n",
    "def plot_bar(data):\n",
    "    categorical_cols = data.select_dtypes(include=['object', 'category']).columns\n",
    "    if len(categorical_cols) == 0:\n",
    "        print(\"No hay columnas categóricas disponibles para visualizar.\")\n",
    "        return\n",
    "    # Elegir la columna categórica con la menor cantidad de categorías\n",
    "    col = min(categorical_cols, key=lambda x: data[x].nunique())\n",
    "    data[col].value_counts().plot(kind='bar', color='skyblue')\n",
    "    plt.title(f'Frecuencia de {col}')\n",
    "    plt.xlabel(col)\n",
    "    plt.ylabel('Frecuencia')\n",
    "    plt.xticks(rotation=45, ha='right')\n",
    "    plt.tight_layout()\n",
    "    plt.show()\n",
    "\n",
    "def plot_pie(data):\n",
    "    categorical_cols = data.select_dtypes(include=['object', 'category']).columns\n",
    "    if len(categorical_cols) <= 1:\n",
    "        print(\"No hay suficientes columnas categóricas disponibles para visualizar.\")\n",
    "        return\n",
    "    # Elegir otra columna categórica\n",
    "    col = categorical_cols[1]\n",
    "    data[col].value_counts().plot(kind='pie', autopct='%1.1f%%', startangle=90)\n",
    "    plt.title(f'Proporción de {col}')\n",
    "    plt.ylabel('')\n",
    "    plt.show()\n",
    "\n",
    "def plot_histogram(data):\n",
    "    numeric_cols = data.select_dtypes(include=['float64', 'int64', 'int32']).columns\n",
    "    if len(numeric_cols) == 0:\n",
    "        print(\"No hay columnas numéricas disponibles para visualizar.\")\n",
    "        return\n",
    "    col = numeric_cols[0]\n",
    "    plt.hist(data[col], bins=30, color='lightgreen', edgecolor='black')\n",
    "    plt.title(f'Distribución de {col}')\n",
    "    plt.xlabel(col)\n",
    "    plt.ylabel('Frecuencia')\n",
    "    plt.grid(axis='y')\n",
    "    plt.show()\n",
    "\n",
    "\n",
    "def plot_line(data):\n",
    "    date_cols = data.select_dtypes(include=['datetime']).columns\n",
    "    numeric_cols = data.select_dtypes(include=['float64', 'int64']).columns\n",
    "    if len(date_cols) == 0 or len(numeric_cols) == 0:\n",
    "        print(\"No hay columnas de fecha y/o numéricas disponibles para visualizar.\")\n",
    "        return\n",
    "    plt.plot(data[date_cols[0]], data[numeric_cols[0]], color='royalblue')\n",
    "    plt.title(f'Tendencia de {numeric_cols[0]} en función de {date_cols[0]}')\n",
    "    plt.xlabel(date_cols[0])\n",
    "    plt.ylabel(numeric_cols[0])\n",
    "    plt.xticks(rotation=45)\n",
    "    plt.grid(True, which='both', linestyle='--', linewidth=0.5)\n",
    "    plt.tight_layout()\n",
    "    plt.show()\n",
    "\n",
    "def plot_scatter(data):\n",
    "    numeric_cols = data.select_dtypes(include=['float64', 'int64', 'int32']).columns\n",
    "    if len(numeric_cols) < 2:\n",
    "        print(\"No hay suficientes columnas numéricas disponibles para visualizar.\")\n",
    "        return\n",
    "    plt.scatter(data[numeric_cols[0]], data[numeric_cols[1]], color='purple', alpha=0.6)\n",
    "    plt.title(f'Relación entre {numeric_cols[0]} y {numeric_cols[1]}')\n",
    "    plt.xlabel(numeric_cols[0])\n",
    "    plt.ylabel(numeric_cols[1])\n",
    "    plt.grid(True, which='both', linestyle='--', linewidth=0.5)\n",
    "    plt.tight_layout()\n",
    "    plt.show()\n",
    "\n",
    "\n",
    "def plot_box(data):\n",
    "    numeric_cols = data.select_dtypes(include=['float64', 'int64', 'int32']).columns\n",
    "    if len(numeric_cols) == 0:\n",
    "        print(\"No hay columnas numéricas disponibles para visualizar.\")\n",
    "        return\n",
    "    plt.boxplot(data[numeric_cols[0]], vert=False, patch_artist=True, boxprops=dict(facecolor='lightyellow'))\n",
    "    plt.title(f'Distribución de {numeric_cols[0]}')\n",
    "    plt.xlabel(numeric_cols[0])\n",
    "    plt.yticks([])\n",
    "    plt.grid(axis='x')\n",
    "    plt.show()\n",
    "\n",
    "def plot_area(data):\n",
    "    date_cols = data.select_dtypes(include=['datetime']).columns\n",
    "    numeric_cols = data.select_dtypes(include=['float64', 'int64']).columns\n",
    "    if len(date_cols) == 0 or len(numeric_cols) == 0:\n",
    "        print(\"No hay columnas de fecha y/o numéricas disponibles para visualizar.\")\n",
    "        return\n",
    "    plt.fill_between(data[date_cols[0]], data[numeric_cols[0]], color='lightpink', label=numeric_cols[0])\n",
    "    plt.title(f'Evolución de {numeric_cols[0]} en función de {date_cols[0]}')\n",
    "    plt.xlabel(date_cols[0])\n",
    "    plt.ylabel(numeric_cols[0])\n",
    "    plt.xticks(rotation=45)\n",
    "    plt.grid(True, which='both', linestyle='--', linewidth=0.5)\n",
    "    plt.legend()\n",
    "    plt.tight_layout()\n",
    "    plt.show()\n"
   ]
  },
  {
   "cell_type": "code",
   "execution_count": 140,
   "metadata": {},
   "outputs": [
    {
     "name": "stdout",
     "output_type": "stream",
     "text": [
      "<class 'pandas.core.frame.DataFrame'>\n",
      "RangeIndex: 30 entries, 0 to 29\n",
      "Data columns (total 26 columns):\n",
      " #   Column                      Non-Null Count  Dtype  \n",
      "---  ------                      --------------  -----  \n",
      " 0   Movimientos                 30 non-null     int64  \n",
      " 1   Fecha de solicitud          30 non-null     object \n",
      " 2   Tipo de transacción         30 non-null     object \n",
      " 3   Estado                      30 non-null     object \n",
      " 4   Signo                       30 non-null     object \n",
      " 5   Monto                       30 non-null     object \n",
      " 6   Comisión                    30 non-null     object \n",
      " 7   Impuesto                    30 non-null     object \n",
      " 8   Pago                        30 non-null     object \n",
      " 9   Número de identificación    15 non-null     object \n",
      " 10  Número de cliente           15 non-null     float64\n",
      " 11  Nombre Cliente              15 non-null     object \n",
      " 12  Teléfono                    15 non-null     float64\n",
      " 13  Nro de tarjeta enmascarado  0 non-null      float64\n",
      " 14  Tipo de tarjeta             0 non-null      float64\n",
      " 15  Descripción                 30 non-null     object \n",
      " 16  Terminal                    30 non-null     object \n",
      " 17  Lote                        30 non-null     int64  \n",
      " 18  Recibo                      30 non-null     object \n",
      " 19  Huella del Dispositivo      0 non-null      float64\n",
      " 20  Código de respuesta         30 non-null     int64  \n",
      " 21  Código de autorización      30 non-null     int64  \n",
      " 22  RRN                         30 non-null     object \n",
      " 23  Código de afiliado          0 non-null      float64\n",
      " 24  Descripción.1               30 non-null     object \n",
      " 25  Saldo Actual                30 non-null     object \n",
      "dtypes: float64(6), int64(4), object(16)\n",
      "memory usage: 6.2+ KB\n"
     ]
    }
   ],
   "source": [
    "data.info()"
   ]
  },
  {
   "cell_type": "code",
   "execution_count": 141,
   "metadata": {},
   "outputs": [
    {
     "data": {
      "text/html": [
       "<div>\n",
       "<style scoped>\n",
       "    .dataframe tbody tr th:only-of-type {\n",
       "        vertical-align: middle;\n",
       "    }\n",
       "\n",
       "    .dataframe tbody tr th {\n",
       "        vertical-align: top;\n",
       "    }\n",
       "\n",
       "    .dataframe thead th {\n",
       "        text-align: right;\n",
       "    }\n",
       "</style>\n",
       "<table border=\"1\" class=\"dataframe\">\n",
       "  <thead>\n",
       "    <tr style=\"text-align: right;\">\n",
       "      <th></th>\n",
       "      <th>Movimientos</th>\n",
       "      <th>Fecha de solicitud</th>\n",
       "      <th>Tipo de transacción</th>\n",
       "      <th>Estado</th>\n",
       "      <th>Signo</th>\n",
       "      <th>Monto</th>\n",
       "      <th>Comisión</th>\n",
       "      <th>Impuesto</th>\n",
       "      <th>Pago</th>\n",
       "      <th>Número de identificación</th>\n",
       "      <th>...</th>\n",
       "      <th>Terminal</th>\n",
       "      <th>Lote</th>\n",
       "      <th>Recibo</th>\n",
       "      <th>Huella del Dispositivo</th>\n",
       "      <th>Código de respuesta</th>\n",
       "      <th>Código de autorización</th>\n",
       "      <th>RRN</th>\n",
       "      <th>Código de afiliado</th>\n",
       "      <th>Descripción.1</th>\n",
       "      <th>Saldo Actual</th>\n",
       "    </tr>\n",
       "  </thead>\n",
       "  <tbody>\n",
       "    <tr>\n",
       "      <th>0</th>\n",
       "      <td>543063</td>\n",
       "      <td>22/09/2023 20:54:20</td>\n",
       "      <td>Recarga con carga a saldo operativo</td>\n",
       "      <td>Aprobada</td>\n",
       "      <td>+</td>\n",
       "      <td>2,00</td>\n",
       "      <td>0,05</td>\n",
       "      <td>0,00</td>\n",
       "      <td>1,95</td>\n",
       "      <td>A4016229</td>\n",
       "      <td>...</td>\n",
       "      <td>Emagic</td>\n",
       "      <td>202309222054201443</td>\n",
       "      <td>STAN202309222054201443</td>\n",
       "      <td>NaN</td>\n",
       "      <td>0</td>\n",
       "      <td>903658</td>\n",
       "      <td>RRN202309222054201443</td>\n",
       "      <td>NaN</td>\n",
       "      <td>Transferencia a billetera desde Emagic</td>\n",
       "      <td>39,30</td>\n",
       "    </tr>\n",
       "    <tr>\n",
       "      <th>1</th>\n",
       "      <td>543064</td>\n",
       "      <td>22/09/2023 20:54:20</td>\n",
       "      <td>Debito al saldo operativo</td>\n",
       "      <td>Aprobada</td>\n",
       "      <td>-</td>\n",
       "      <td>2,00</td>\n",
       "      <td>0,00</td>\n",
       "      <td>0,00</td>\n",
       "      <td>0,00</td>\n",
       "      <td>NaN</td>\n",
       "      <td>...</td>\n",
       "      <td>Emagic</td>\n",
       "      <td>202309222054201443</td>\n",
       "      <td>STAN202309222054201443</td>\n",
       "      <td>NaN</td>\n",
       "      <td>0</td>\n",
       "      <td>687605</td>\n",
       "      <td>RRN202309222054201443</td>\n",
       "      <td>NaN</td>\n",
       "      <td>Transferencia a billetera desde Emagic</td>\n",
       "      <td>35,63</td>\n",
       "    </tr>\n",
       "    <tr>\n",
       "      <th>2</th>\n",
       "      <td>537378</td>\n",
       "      <td>20/09/2023 9:40:38</td>\n",
       "      <td>Recarga con carga a saldo operativo</td>\n",
       "      <td>Aprobada</td>\n",
       "      <td>+</td>\n",
       "      <td>2,00</td>\n",
       "      <td>0,05</td>\n",
       "      <td>0,00</td>\n",
       "      <td>1,95</td>\n",
       "      <td>A4016229</td>\n",
       "      <td>...</td>\n",
       "      <td>Emagic</td>\n",
       "      <td>202309200940377953</td>\n",
       "      <td>STAN202309200940377953</td>\n",
       "      <td>NaN</td>\n",
       "      <td>0</td>\n",
       "      <td>671536</td>\n",
       "      <td>RRN202309200940377953</td>\n",
       "      <td>NaN</td>\n",
       "      <td>Transferencia a billetera desde Emagic</td>\n",
       "      <td>39,30</td>\n",
       "    </tr>\n",
       "    <tr>\n",
       "      <th>3</th>\n",
       "      <td>537379</td>\n",
       "      <td>20/09/2023 9:40:38</td>\n",
       "      <td>Debito al saldo operativo</td>\n",
       "      <td>Aprobada</td>\n",
       "      <td>-</td>\n",
       "      <td>2,00</td>\n",
       "      <td>0,00</td>\n",
       "      <td>0,00</td>\n",
       "      <td>0,00</td>\n",
       "      <td>NaN</td>\n",
       "      <td>...</td>\n",
       "      <td>Emagic</td>\n",
       "      <td>202309200940377953</td>\n",
       "      <td>STAN202309200940377953</td>\n",
       "      <td>NaN</td>\n",
       "      <td>0</td>\n",
       "      <td>333365</td>\n",
       "      <td>RRN202309200940377953</td>\n",
       "      <td>NaN</td>\n",
       "      <td>Transferencia a billetera desde Emagic</td>\n",
       "      <td>35,63</td>\n",
       "    </tr>\n",
       "    <tr>\n",
       "      <th>4</th>\n",
       "      <td>536745</td>\n",
       "      <td>19/09/2023 20:49:47</td>\n",
       "      <td>Recarga con carga a saldo operativo</td>\n",
       "      <td>Aprobada</td>\n",
       "      <td>+</td>\n",
       "      <td>1,10</td>\n",
       "      <td>0,03</td>\n",
       "      <td>0,00</td>\n",
       "      <td>1,07</td>\n",
       "      <td>A4016229</td>\n",
       "      <td>...</td>\n",
       "      <td>Emagic</td>\n",
       "      <td>202309192049469458</td>\n",
       "      <td>STAN202309192049469458</td>\n",
       "      <td>NaN</td>\n",
       "      <td>0</td>\n",
       "      <td>56559</td>\n",
       "      <td>RRN202309192049469458</td>\n",
       "      <td>NaN</td>\n",
       "      <td>Transferencia a billetera desde Emagic</td>\n",
       "      <td>39,30</td>\n",
       "    </tr>\n",
       "  </tbody>\n",
       "</table>\n",
       "<p>5 rows × 26 columns</p>\n",
       "</div>"
      ],
      "text/plain": [
       "   Movimientos   Fecha de solicitud                  Tipo de transacción  \\\n",
       "0       543063  22/09/2023 20:54:20  Recarga con carga a saldo operativo   \n",
       "1       543064  22/09/2023 20:54:20            Debito al saldo operativo   \n",
       "2       537378   20/09/2023 9:40:38  Recarga con carga a saldo operativo   \n",
       "3       537379   20/09/2023 9:40:38            Debito al saldo operativo   \n",
       "4       536745  19/09/2023 20:49:47  Recarga con carga a saldo operativo   \n",
       "\n",
       "     Estado Signo Monto Comisión Impuesto  Pago Número de identificación  ...  \\\n",
       "0  Aprobada     +  2,00     0,05     0,00  1,95                 A4016229  ...   \n",
       "1  Aprobada     -  2,00     0,00     0,00  0,00                      NaN  ...   \n",
       "2  Aprobada     +  2,00     0,05     0,00  1,95                 A4016229  ...   \n",
       "3  Aprobada     -  2,00     0,00     0,00  0,00                      NaN  ...   \n",
       "4  Aprobada     +  1,10     0,03     0,00  1,07                 A4016229  ...   \n",
       "\n",
       "   Terminal                Lote                  Recibo  \\\n",
       "0    Emagic  202309222054201443  STAN202309222054201443   \n",
       "1    Emagic  202309222054201443  STAN202309222054201443   \n",
       "2    Emagic  202309200940377953  STAN202309200940377953   \n",
       "3    Emagic  202309200940377953  STAN202309200940377953   \n",
       "4    Emagic  202309192049469458  STAN202309192049469458   \n",
       "\n",
       "   Huella del Dispositivo  Código de respuesta Código de autorización  \\\n",
       "0                     NaN                    0                 903658   \n",
       "1                     NaN                    0                 687605   \n",
       "2                     NaN                    0                 671536   \n",
       "3                     NaN                    0                 333365   \n",
       "4                     NaN                    0                  56559   \n",
       "\n",
       "                     RRN  Código de afiliado  \\\n",
       "0  RRN202309222054201443                 NaN   \n",
       "1  RRN202309222054201443                 NaN   \n",
       "2  RRN202309200940377953                 NaN   \n",
       "3  RRN202309200940377953                 NaN   \n",
       "4  RRN202309192049469458                 NaN   \n",
       "\n",
       "                            Descripción.1  Saldo Actual  \n",
       "0  Transferencia a billetera desde Emagic         39,30  \n",
       "1  Transferencia a billetera desde Emagic         35,63  \n",
       "2  Transferencia a billetera desde Emagic         39,30  \n",
       "3  Transferencia a billetera desde Emagic         35,63  \n",
       "4  Transferencia a billetera desde Emagic         39,30  \n",
       "\n",
       "[5 rows x 26 columns]"
      ]
     },
     "execution_count": 141,
     "metadata": {},
     "output_type": "execute_result"
    }
   ],
   "source": [
    "show_table(data)"
   ]
  },
  {
   "cell_type": "markdown",
   "metadata": {},
   "source": [
    "## depurando data"
   ]
  },
  {
   "cell_type": "code",
   "execution_count": 142,
   "metadata": {},
   "outputs": [],
   "source": [
    "\n",
    "# Convertir la columna \"Fecha de solicitud\" a datetime\n",
    "data['Fecha de solicitud'] = pd.to_datetime(data['Fecha de solicitud'], format='%d/%m/%Y %H:%M:%S') # data[columna_fechaSolicitud] = pd.to_datetime(data[columna_fechaSolicitud]....\n",
    "# Crear columnas separadas para el día, mes y año\n",
    "data['Dia'] = data['Fecha de solicitud'].dt.day\n",
    "data['Mes'] = data['Fecha de solicitud'].dt.month\n",
    "data['Año'] = data['Fecha de solicitud'].dt.year\n",
    "# Crear columnas separadas para la hora, minuto y segundo\n",
    "data['Hora'] = data['Fecha de solicitud'].dt.hour\n",
    "data['Minuto'] = data['Fecha de solicitud'].dt.minute\n",
    "data['Segundo'] = data['Fecha de solicitud'].dt.second\n"
   ]
  },
  {
   "cell_type": "code",
   "execution_count": 143,
   "metadata": {},
   "outputs": [
    {
     "name": "stdout",
     "output_type": "stream",
     "text": [
      "Hay Nan en el DataFrame:  True\n",
      "Numero de Nan en cada columna\n",
      " Movimientos                    0\n",
      "Fecha de solicitud             0\n",
      "Tipo de transacción            0\n",
      "Estado                         0\n",
      "Signo                          0\n",
      "Monto                          0\n",
      "Comisión                       0\n",
      "Impuesto                       0\n",
      "Pago                           0\n",
      "Número de identificación      15\n",
      "Número de cliente             15\n",
      "Nombre Cliente                15\n",
      "Teléfono                      15\n",
      "Nro de tarjeta enmascarado    30\n",
      "Tipo de tarjeta               30\n",
      "Descripción                    0\n",
      "Terminal                       0\n",
      "Lote                           0\n",
      "Recibo                         0\n",
      "Huella del Dispositivo        30\n",
      "Código de respuesta            0\n",
      "Código de autorización         0\n",
      "RRN                            0\n",
      "Código de afiliado            30\n",
      "Descripción.1                  0\n",
      "Saldo Actual                   0\n",
      "Dia                            0\n",
      "Mes                            0\n",
      "Año                            0\n",
      "Hora                           0\n",
      "Minuto                         0\n",
      "Segundo                        0\n",
      "dtype: int64\n",
      "Contar el total de NaN en todo el DataFrame 180\n",
      "Visualizar las filas que contienen NaN en una columna específica Empty DataFrame\n",
      "Columns: [Movimientos, Fecha de solicitud, Tipo de transacción, Estado, Signo, Monto, Comisión, Impuesto, Pago, Número de identificación, Número de cliente, Nombre Cliente, Teléfono, Nro de tarjeta enmascarado, Tipo de tarjeta, Descripción, Terminal, Lote, Recibo, Huella del Dispositivo, Código de respuesta, Código de autorización, RRN, Código de afiliado, Descripción.1, Saldo Actual, Dia, Mes, Año, Hora, Minuto, Segundo]\n",
      "Index: []\n",
      "\n",
      "[0 rows x 32 columns]\n"
     ]
    }
   ],
   "source": [
    "print(\"Hay Nan en el DataFrame: \",data.isna().any().any()) #Verificar si hay NaN en el DataFrame:\n",
    "print(\"Numero de Nan en cada columna\\n\",data.isna().sum()) #Contar el número de NaN en cada columna\n",
    "print(\"Contar el total de NaN en todo el DataFrame\",data.isna().sum().sum()) #Contar el total de NaN en todo el DataFrame\n",
    "print(\"Visualizar las filas que contienen NaN en una columna específica\", data[data['Monto'].isna()]) #Visualizar las filas que contienen NaN en una columna específica: Monto"
   ]
  },
  {
   "cell_type": "code",
   "execution_count": 144,
   "metadata": {},
   "outputs": [],
   "source": [
    "#data.dropna(inplace=True) #Eliminar filas con NaN:\n",
    "data.fillna(0, inplace=True) #reemplazar todos los valores NaN en tu DataFrame con cero"
   ]
  },
  {
   "cell_type": "code",
   "execution_count": 145,
   "metadata": {},
   "outputs": [
    {
     "name": "stdout",
     "output_type": "stream",
     "text": [
      "Hay Nan en el DataFrame:  False\n",
      "Numero de Nan en cada columna\n",
      " Movimientos                   0\n",
      "Fecha de solicitud            0\n",
      "Tipo de transacción           0\n",
      "Estado                        0\n",
      "Signo                         0\n",
      "Monto                         0\n",
      "Comisión                      0\n",
      "Impuesto                      0\n",
      "Pago                          0\n",
      "Número de identificación      0\n",
      "Número de cliente             0\n",
      "Nombre Cliente                0\n",
      "Teléfono                      0\n",
      "Nro de tarjeta enmascarado    0\n",
      "Tipo de tarjeta               0\n",
      "Descripción                   0\n",
      "Terminal                      0\n",
      "Lote                          0\n",
      "Recibo                        0\n",
      "Huella del Dispositivo        0\n",
      "Código de respuesta           0\n",
      "Código de autorización        0\n",
      "RRN                           0\n",
      "Código de afiliado            0\n",
      "Descripción.1                 0\n",
      "Saldo Actual                  0\n",
      "Dia                           0\n",
      "Mes                           0\n",
      "Año                           0\n",
      "Hora                          0\n",
      "Minuto                        0\n",
      "Segundo                       0\n",
      "dtype: int64\n",
      "Contar el total de NaN en todo el DataFrame 0\n"
     ]
    }
   ],
   "source": [
    "print(\"Hay Nan en el DataFrame: \",data.isna().any().any()) #Verificar si hay NaN en el DataFrame:\n",
    "print(\"Numero de Nan en cada columna\\n\",data.isna().sum()) #Contar el número de NaN en cada columna\n",
    "print(\"Contar el total de NaN en todo el DataFrame\",data.isna().sum().sum()) #Contar el total de NaN en todo el DataFrame"
   ]
  },
  {
   "cell_type": "code",
   "execution_count": 146,
   "metadata": {},
   "outputs": [],
   "source": [
    "# Reemplazar las comas por puntos y convertir la columna a float64\n",
    "data['Monto'] = data['Monto'].str.replace(',', '.').astype(float)\n",
    "# Reemplazar las comas por puntos y convertir la columna a float64\n",
    "data['Comisión'] = data['Comisión'].str.replace(',', '.').astype(float)\n",
    "# Reemplazar las comas por puntos y convertir la columna a float64\n",
    "data['Impuesto'] = data['Impuesto'].str.replace(',', '.').astype(float)\n",
    "# Reemplazar las comas por puntos y convertir la columna a float64\n",
    "data['Pago'] = data['Pago'].str.replace(',', '.').astype(float)\n",
    "# Reemplazar las comas por puntos y convertir la columna a float64\n",
    "data['Saldo Actual'] = data['Saldo Actual'].str.replace(',', '.').astype(float)\n"
   ]
  },
  {
   "cell_type": "code",
   "execution_count": 147,
   "metadata": {},
   "outputs": [],
   "source": [
    "reemplazos = {\n",
    "    \"Recarga con carga a saldo operativo\": \"RECARGA\",\n",
    "    \"Debito al saldo operativo\": \"DEBITO\"\n",
    "}\n",
    "\n",
    "# Reemplazar los valores y cambiar el tipo de datos a category\n",
    "data['Tipo de transacción'] = data['Tipo de transacción'].replace(reemplazos).astype('category')"
   ]
  },
  {
   "cell_type": "code",
   "execution_count": 148,
   "metadata": {},
   "outputs": [],
   "source": [
    "data['Código de afiliado'] = data['Código de afiliado'].astype(int) #convertir una columna de tipo float a int en pandas"
   ]
  },
  {
   "cell_type": "code",
   "execution_count": 149,
   "metadata": {},
   "outputs": [],
   "source": [
    "data['Estado'] = data['Estado'].astype('category') # convertir una columna de tipo object a category en pandas\n",
    "data['Signo'] = data['Signo'].astype('category') # convertir una columna de tipo object a category en pandas"
   ]
  },
  {
   "cell_type": "code",
   "execution_count": 150,
   "metadata": {},
   "outputs": [
    {
     "name": "stdout",
     "output_type": "stream",
     "text": [
      "<class 'pandas.core.frame.DataFrame'>\n",
      "RangeIndex: 30 entries, 0 to 29\n",
      "Data columns (total 32 columns):\n",
      " #   Column                      Non-Null Count  Dtype         \n",
      "---  ------                      --------------  -----         \n",
      " 0   Movimientos                 30 non-null     int64         \n",
      " 1   Fecha de solicitud          30 non-null     datetime64[ns]\n",
      " 2   Tipo de transacción         30 non-null     category      \n",
      " 3   Estado                      30 non-null     category      \n",
      " 4   Signo                       30 non-null     category      \n",
      " 5   Monto                       30 non-null     float64       \n",
      " 6   Comisión                    30 non-null     float64       \n",
      " 7   Impuesto                    30 non-null     float64       \n",
      " 8   Pago                        30 non-null     float64       \n",
      " 9   Número de identificación    30 non-null     object        \n",
      " 10  Número de cliente           30 non-null     float64       \n",
      " 11  Nombre Cliente              30 non-null     object        \n",
      " 12  Teléfono                    30 non-null     float64       \n",
      " 13  Nro de tarjeta enmascarado  30 non-null     float64       \n",
      " 14  Tipo de tarjeta             30 non-null     float64       \n",
      " 15  Descripción                 30 non-null     object        \n",
      " 16  Terminal                    30 non-null     object        \n",
      " 17  Lote                        30 non-null     int64         \n",
      " 18  Recibo                      30 non-null     object        \n",
      " 19  Huella del Dispositivo      30 non-null     float64       \n",
      " 20  Código de respuesta         30 non-null     int64         \n",
      " 21  Código de autorización      30 non-null     int64         \n",
      " 22  RRN                         30 non-null     object        \n",
      " 23  Código de afiliado          30 non-null     int32         \n",
      " 24  Descripción.1               30 non-null     object        \n",
      " 25  Saldo Actual                30 non-null     float64       \n",
      " 26  Dia                         30 non-null     int32         \n",
      " 27  Mes                         30 non-null     int32         \n",
      " 28  Año                         30 non-null     int32         \n",
      " 29  Hora                        30 non-null     int32         \n",
      " 30  Minuto                      30 non-null     int32         \n",
      " 31  Segundo                     30 non-null     int32         \n",
      "dtypes: category(3), datetime64[ns](1), float64(10), int32(7), int64(4), object(7)\n",
      "memory usage: 6.5+ KB\n"
     ]
    }
   ],
   "source": [
    "data.info()"
   ]
  },
  {
   "cell_type": "code",
   "execution_count": 151,
   "metadata": {},
   "outputs": [
    {
     "name": "stdout",
     "output_type": "stream",
     "text": [
      "    Movimientos  Fecha de solicitud Tipo de transacción    Estado Signo  \\\n",
      "0        543063 2023-09-22 20:54:20             RECARGA  Aprobada     +   \n",
      "1        543064 2023-09-22 20:54:20              DEBITO  Aprobada     -   \n",
      "2        537378 2023-09-20 09:40:38             RECARGA  Aprobada     +   \n",
      "3        537379 2023-09-20 09:40:38              DEBITO  Aprobada     -   \n",
      "4        536745 2023-09-19 20:49:47             RECARGA  Aprobada     +   \n",
      "5        536746 2023-09-19 20:49:47              DEBITO  Aprobada     -   \n",
      "6        536711 2023-09-19 20:37:22             RECARGA  Aprobada     +   \n",
      "7        536712 2023-09-19 20:37:22              DEBITO  Aprobada     -   \n",
      "8        536596 2023-09-19 19:32:37             RECARGA  Aprobada     +   \n",
      "9        536597 2023-09-19 19:32:37              DEBITO  Aprobada     -   \n",
      "10       535881 2023-09-19 14:16:19             RECARGA  Aprobada     +   \n",
      "11       535882 2023-09-19 14:16:19              DEBITO  Aprobada     -   \n",
      "12       523943 2023-09-18 16:00:16             RECARGA  Aprobada     +   \n",
      "13       523944 2023-09-18 16:00:16              DEBITO  Aprobada     -   \n",
      "14       516938 2023-09-15 11:26:07             RECARGA  Aprobada     +   \n",
      "15       516939 2023-09-15 11:26:07              DEBITO  Aprobada     -   \n",
      "16       515502 2023-09-14 15:58:42             RECARGA  Aprobada     +   \n",
      "17       515503 2023-09-14 15:58:42              DEBITO  Aprobada     -   \n",
      "18       513720 2023-09-13 17:34:06             RECARGA  Aprobada     +   \n",
      "19       513721 2023-09-13 17:34:06              DEBITO  Aprobada     -   \n",
      "20       513710 2023-09-13 17:28:07             RECARGA  Aprobada     +   \n",
      "21       513711 2023-09-13 17:28:07              DEBITO  Aprobada     -   \n",
      "22       510033 2023-09-11 19:50:28             RECARGA  Aprobada     +   \n",
      "23       510034 2023-09-11 19:50:28              DEBITO  Aprobada     -   \n",
      "24       503675 2023-09-08 15:22:22             RECARGA  Aprobada     +   \n",
      "25       503676 2023-09-08 15:22:22              DEBITO  Aprobada     -   \n",
      "26       503636 2023-09-08 15:11:34             RECARGA  Aprobada     +   \n",
      "27       503637 2023-09-08 15:11:34              DEBITO  Aprobada     -   \n",
      "28       496540 2023-09-05 12:33:12             RECARGA  Aprobada     +   \n",
      "29       496541 2023-09-05 12:33:12              DEBITO  Aprobada     -   \n",
      "\n",
      "    Monto  Comisión  Impuesto   Pago Número de identificación  ...  \\\n",
      "0     2.0      0.05      0.00   1.95                 A4016229  ...   \n",
      "1     2.0      0.00      0.00   0.00                        0  ...   \n",
      "2     2.0      0.05      0.00   1.95                 A4016229  ...   \n",
      "3     2.0      0.00      0.00   0.00                        0  ...   \n",
      "4     1.1      0.03      0.00   1.07                 A4016229  ...   \n",
      "5     1.1      0.00      0.00   0.00                        0  ...   \n",
      "6     2.2      0.06      0.00   2.14                 A4016229  ...   \n",
      "7     2.2      0.00      0.00   0.00                        0  ...   \n",
      "8     3.0      0.08      0.01   2.91                 A4016229  ...   \n",
      "9     3.0      0.00      0.00   0.00                        0  ...   \n",
      "10    2.0      0.05      0.00   1.95                 A4016229  ...   \n",
      "11    2.0      0.00      0.00   0.00                        0  ...   \n",
      "12    2.0      0.05      0.00   1.95                 A4016229  ...   \n",
      "13    2.0      0.00      0.00   0.00                        0  ...   \n",
      "14    2.0      0.05      0.00   1.95                 A4016229  ...   \n",
      "15    2.0      0.00      0.00   0.00                        0  ...   \n",
      "16    3.0      0.08      0.01   2.91                 A4016229  ...   \n",
      "17    3.0      0.00      0.00   0.00                        0  ...   \n",
      "18    3.0      0.08      0.01   2.91                 A4016229  ...   \n",
      "19    3.0      0.00      0.00   0.00                        0  ...   \n",
      "20    5.0      0.12      0.01   4.87                 A4016229  ...   \n",
      "21    5.0      0.00      0.00   0.00                        0  ...   \n",
      "22    3.0      0.08      0.01   2.91                 A4016229  ...   \n",
      "23    3.0      0.00      0.00   0.00                        0  ...   \n",
      "24   12.0      0.30      0.02  11.68               V026078021  ...   \n",
      "25   12.0      0.00      0.00   0.00                        0  ...   \n",
      "26    4.0      0.10      0.01   3.89                 A4016229  ...   \n",
      "27    4.0      0.00      0.00   0.00                        0  ...   \n",
      "28    2.0      0.05      0.00   1.95                 A4016229  ...   \n",
      "29    2.0      0.00      0.00   0.00                        0  ...   \n",
      "\n",
      "                      RRN Código de afiliado  \\\n",
      "0   RRN202309222054201443                  0   \n",
      "1   RRN202309222054201443                  0   \n",
      "2   RRN202309200940377953                  0   \n",
      "3   RRN202309200940377953                  0   \n",
      "4   RRN202309192049469458                  0   \n",
      "5   RRN202309192049469458                  0   \n",
      "6   RRN202309192037219669                  0   \n",
      "7   RRN202309192037219669                  0   \n",
      "8   RRN202309191932366335                  0   \n",
      "9   RRN202309191932366335                  0   \n",
      "10  RRN202309191416188347                  0   \n",
      "11  RRN202309191416188347                  0   \n",
      "12  RRN202309181600160315                  0   \n",
      "13  RRN202309181600160315                  0   \n",
      "14  RRN202309151126069429                  0   \n",
      "15  RRN202309151126069429                  0   \n",
      "16  RRN202309141558416181                  0   \n",
      "17  RRN202309141558416181                  0   \n",
      "18  RRN202309131734054323                  0   \n",
      "19  RRN202309131734054323                  0   \n",
      "20  RRN202309131728066873                  0   \n",
      "21  RRN202309131728066873                  0   \n",
      "22  RRN202309111950284722                  0   \n",
      "23  RRN202309111950284722                  0   \n",
      "24  RRN202309081522220823                  0   \n",
      "25  RRN202309081522220823                  0   \n",
      "26  RRN202309081511344808                  0   \n",
      "27  RRN202309081511344808                  0   \n",
      "28  RRN202309051233122580                  0   \n",
      "29  RRN202309051233122580                  0   \n",
      "\n",
      "                             Descripción.1  Saldo Actual  Dia Mes   Año  Hora  \\\n",
      "0   Transferencia a billetera desde Emagic         39.30   22   9  2023    20   \n",
      "1   Transferencia a billetera desde Emagic         35.63   22   9  2023    20   \n",
      "2   Transferencia a billetera desde Emagic         39.30   20   9  2023     9   \n",
      "3   Transferencia a billetera desde Emagic         35.63   20   9  2023     9   \n",
      "4   Transferencia a billetera desde Emagic         39.30   19   9  2023    20   \n",
      "5   Transferencia a billetera desde Emagic         35.63   19   9  2023    20   \n",
      "6   Transferencia a billetera desde Emagic         39.30   19   9  2023    20   \n",
      "7   Transferencia a billetera desde Emagic         35.63   19   9  2023    20   \n",
      "8   Transferencia a billetera desde Emagic         39.30   19   9  2023    19   \n",
      "9   Transferencia a billetera desde Emagic         35.63   19   9  2023    19   \n",
      "10  Transferencia a billetera desde Emagic         39.30   19   9  2023    14   \n",
      "11  Transferencia a billetera desde Emagic         35.63   19   9  2023    14   \n",
      "12  Transferencia a billetera desde Emagic         39.30   18   9  2023    16   \n",
      "13  Transferencia a billetera desde Emagic         35.63   18   9  2023    16   \n",
      "14  Transferencia a billetera desde Emagic         39.30   15   9  2023    11   \n",
      "15  Transferencia a billetera desde Emagic         35.63   15   9  2023    11   \n",
      "16  Transferencia a billetera desde Emagic         39.30   14   9  2023    15   \n",
      "17  Transferencia a billetera desde Emagic         35.63   14   9  2023    15   \n",
      "18  Transferencia a billetera desde Emagic         39.30   13   9  2023    17   \n",
      "19  Transferencia a billetera desde Emagic         35.63   13   9  2023    17   \n",
      "20  Transferencia a billetera desde Emagic         39.30   13   9  2023    17   \n",
      "21  Transferencia a billetera desde Emagic         35.63   13   9  2023    17   \n",
      "22  Transferencia a billetera desde Emagic         39.30   11   9  2023    19   \n",
      "23  Transferencia a billetera desde Emagic         35.63   11   9  2023    19   \n",
      "24  Transferencia a billetera desde Emagic          1.68    8   9  2023    15   \n",
      "25  Transferencia a billetera desde Emagic         35.63    8   9  2023    15   \n",
      "26  Transferencia a billetera desde Emagic         39.30    8   9  2023    15   \n",
      "27  Transferencia a billetera desde Emagic         35.63    8   9  2023    15   \n",
      "28  Transferencia a billetera desde Emagic         39.30    5   9  2023    12   \n",
      "29  Transferencia a billetera desde Emagic         35.63    5   9  2023    12   \n",
      "\n",
      "   Minuto  Segundo  \n",
      "0      54       20  \n",
      "1      54       20  \n",
      "2      40       38  \n",
      "3      40       38  \n",
      "4      49       47  \n",
      "5      49       47  \n",
      "6      37       22  \n",
      "7      37       22  \n",
      "8      32       37  \n",
      "9      32       37  \n",
      "10     16       19  \n",
      "11     16       19  \n",
      "12      0       16  \n",
      "13      0       16  \n",
      "14     26        7  \n",
      "15     26        7  \n",
      "16     58       42  \n",
      "17     58       42  \n",
      "18     34        6  \n",
      "19     34        6  \n",
      "20     28        7  \n",
      "21     28        7  \n",
      "22     50       28  \n",
      "23     50       28  \n",
      "24     22       22  \n",
      "25     22       22  \n",
      "26     11       34  \n",
      "27     11       34  \n",
      "28     33       12  \n",
      "29     33       12  \n",
      "\n",
      "[30 rows x 32 columns]\n"
     ]
    }
   ],
   "source": [
    "print(data)"
   ]
  },
  {
   "cell_type": "code",
   "execution_count": 152,
   "metadata": {},
   "outputs": [],
   "source": [
    "dataA = data.copy()"
   ]
  },
  {
   "cell_type": "markdown",
   "metadata": {},
   "source": [
    "### matriz de correlacion de pearson"
   ]
  },
  {
   "cell_type": "code",
   "execution_count": 153,
   "metadata": {},
   "outputs": [
    {
     "data": {
      "text/plain": [
       "\"\\n    Si más adelante necesitas revertir la transformación y obtener las cadenas originales a partir de los números, puedes usar el método inverse_transform() del encoder:\\n\\n    original_values = encoder.inverse_transform(data['Número de identificación'])\\n\""
      ]
     },
     "execution_count": 153,
     "metadata": {},
     "output_type": "execute_result"
    }
   ],
   "source": [
    "dataA['Signo'] = dataA['Signo'].replace({'+': 1, '-': 0}) #reemplazar el signo '+' por 1 y el signo '-' por 0 usando el método replace() de pandas. \n",
    "\n",
    "encoder = LabelEncoder()\n",
    "dataA['Número de identificación'] = encoder.fit_transform(dataA['Número de identificación'].astype(str))\n",
    "dataA['Nombre Cliente'] = encoder.fit_transform(dataA['Nombre Cliente'].astype(str))\n",
    "dataA['Terminal'] = encoder.fit_transform(dataA['Terminal'].astype(str))\n",
    "dataA['Descripción'] = encoder.fit_transform(dataA['Descripción'].astype(str))\n",
    "dataA['Estado'] = encoder.fit_transform(dataA['Estado'].astype(str))\n",
    "dataA['Recibo'] = encoder.fit_transform(dataA['Recibo'].astype(str))\n",
    "dataA['Tipo de transacción'] = encoder.fit_transform(dataA['Tipo de transacción'].astype(str))\n",
    "dataA['RRN'] = encoder.fit_transform(dataA['RRN'].astype(str))\n",
    "dataA['Descripción.1'] = encoder.fit_transform(dataA['Descripción.1'].astype(str))\n",
    "\n",
    "\n",
    "'''\n",
    "    Si más adelante necesitas revertir la transformación y obtener las cadenas originales a partir de los números, puedes usar el método inverse_transform() del encoder:\n",
    "\n",
    "    original_values = encoder.inverse_transform(data['Número de identificación'])\n",
    "'''\n"
   ]
  },
  {
   "cell_type": "code",
   "execution_count": 154,
   "metadata": {},
   "outputs": [
    {
     "name": "stderr",
     "output_type": "stream",
     "text": [
      "c:\\Users\\Richi\\miniconda3\\envs\\Python311\\Lib\\site-packages\\seaborn\\matrix.py:260: FutureWarning:\n",
      "\n",
      "Format strings passed to MaskedConstant are ignored, but in future may error or produce different behavior\n",
      "\n"
     ]
    },
    {
     "data": {
      "image/png": "[encoded data removed]",
      "text/plain": [
       "<Figure size 1500x1200 with 2 Axes>"
      ]
     },
     "metadata": {},
     "output_type": "display_data"
    }
   ],
   "source": [
    "correlation_matrix = dataA.corr()\n",
    "# Establecer un tamaño para la figura\n",
    "plt.figure(figsize=(15, 12))\n",
    "\n",
    "# Crear una máscara para la parte superior del triángulo (ya que la matriz es espejo)\n",
    "mask = np.triu(np.ones_like(correlation_matrix, dtype=bool))\n",
    "\n",
    "# Establecer un umbral para mostrar sólo correlaciones significativas\n",
    "threshold = 0.5\n",
    "mask |= np.abs(correlation_matrix) < threshold\n",
    "\n",
    "# Dibujar el mapa de calor\n",
    "sns.heatmap(correlation_matrix, annot=True, fmt=\".2f\", cmap='coolwarm', vmin=-1, vmax=1, mask=mask, linewidths=0.5)\n",
    "\n",
    "# Ajustar el título y mostrar el gráfico\n",
    "plt.title(\"Matriz de correlación de Pearson\")\n",
    "plt.show()"
   ]
  },
  {
   "cell_type": "code",
   "execution_count": 155,
   "metadata": {},
   "outputs": [
    {
     "name": "stderr",
     "output_type": "stream",
     "text": [
      "c:\\Users\\Richi\\miniconda3\\envs\\Python311\\Lib\\site-packages\\seaborn\\matrix.py:260: FutureWarning:\n",
      "\n",
      "Format strings passed to MaskedConstant are ignored, but in future may error or produce different behavior\n",
      "\n"
     ]
    },
    {
     "data": {
      "image/png": "[encoded data removed]",
      "text/plain": [
       "<Figure size 640x480 with 2 Axes>"
      ]
     },
     "metadata": {},
     "output_type": "display_data"
    }
   ],
   "source": [
    "# Dibujar el mapa de calor con las anotaciones (valores)\n",
    "sns.heatmap(correlation_matrix, annot=True, fmt=\".2f\", cmap='coolwarm', vmin=-1, vmax=1, linewidths=0.5)\n",
    "\n",
    "# Ajustar el título y mostrar el gráfico\n",
    "plt.title(\"Matriz de correlación de Pearson\")\n",
    "plt.show()"
   ]
  },
  {
   "cell_type": "code",
   "execution_count": 156,
   "metadata": {},
   "outputs": [
    {
     "data": {
      "application/vnd.plotly.v1+json": {
       "config": {
        "plotlyServerURL": "https://plot.ly"
       },
       "data": [
        {
         "colorscale": [
          [
           0,
           "#440154"
          ],
          [
           0.1111111111111111,
           "#482878"
          ],
          [
           0.2222222222222222,
           "#3e4989"
          ],
          [
           0.3333333333333333,
           "#31688e"
          ],
          [
           0.4444444444444444,
           "#26828e"
          ],
          [
           0.5555555555555556,
           "#1f9e89"
          ],
          [
           0.6666666666666666,
           "#35b779"
          ],
          [
           0.7777777777777778,
           "#6ece58"
          ],
          [
           0.8888888888888888,
           "#b5de2b"
          ],
          [
           1,
           "#fde725"
          ]
         ],
         "reversescale": true,
         "showscale": true,
         "type": "heatmap",
         "x": [
          "Movimientos",
          "Fecha de solicitud",
          "Tipo de transacción",
          "Estado",
          "Signo",
          "Monto",
          "Comisión",
          "Impuesto",
          "Pago",
          "Número de identificación",
          "Número de cliente",
          "Nombre Cliente",
          "Teléfono",
          "Nro de tarjeta enmascarado",
          "Tipo de tarjeta",
          "Descripción",
          "Terminal",
          "Lote",
          "Recibo",
          "Huella del Dispositivo",
          "Código de respuesta",
          "Código de autorización",
          "RRN",
          "Código de afiliado",
          "Descripción.1",
          "Saldo Actual",
          "Dia",
          "Mes",
          "Año",
          "Hora",
          "Minuto",
          "Segundo"
         ],
         "y": [
          "Movimientos",
          "Fecha de solicitud",
          "Tipo de transacción",
          "Estado",
          "Signo",
          "Monto",
          "Comisión",
          "Impuesto",
          "Pago",
          "Número de identificación",
          "Número de cliente",
          "Nombre Cliente",
          "Teléfono",
          "Nro de tarjeta enmascarado",
          "Tipo de tarjeta",
          "Descripción",
          "Terminal",
          "Lote",
          "Recibo",
          "Huella del Dispositivo",
          "Código de respuesta",
          "Código de autorización",
          "RRN",
          "Código de afiliado",
          "Descripción.1",
          "Saldo Actual",
          "Dia",
          "Mes",
          "Año",
          "Hora",
          "Minuto",
          "Segundo"
         ],
         "z": [
          [
           1,
           0.9769676431730889,
           -0.000034282450277807487,
           null,
           -0.000034282450277807487,
           -0.47111489096318654,
           -0.2426973767292312,
           -0.32266607784942425,
           -0.24723811486620498,
           -0.07298107292818562,
           -0.00003902958069951684,
           -0.07298107292818562,
           0.0013287632475258212,
           null,
           null,
           null,
           null,
           0.9762567580002225,
           0.9750295688937043,
           null,
           null,
           0.1992308018329708,
           0.9750295688937043,
           null,
           null,
           0.2314369172806731,
           0.9759560609032368,
           null,
           null,
           0.3141935527056644,
           0.2423273737474162,
           0.3241421081090353
          ],
          [
           0.9769676431730889,
           1,
           -3.5339493615465044e-14,
           null,
           -3.5339493615465044e-14,
           -0.4941053172733939,
           -0.25511760551717727,
           -0.32174408381026587,
           -0.2593002233401452,
           -0.08193019027697954,
           -0.000005331613018955663,
           -0.08193019027697954,
           0.0015308677742645555,
           null,
           null,
           null,
           null,
           0.999786121148379,
           0.9686597628610967,
           null,
           null,
           0.17118962017334816,
           0.9686597628610967,
           null,
           null,
           0.2599355620461023,
           0.9996307459907926,
           null,
           null,
           0.30077464805065857,
           0.2099535097777884,
           0.24662509285373524
          ],
          [
           -0.000034282450277807487,
           -3.5339493615465044e-14,
           1,
           null,
           1,
           2.9329749266588944e-18,
           0.6799732492486559,
           0.5207556439232953,
           0.6697539412559734,
           0.9494253265550826,
           0.9999999997912441,
           0.9494253265550826,
           0.9999827892075267,
           null,
           null,
           null,
           null,
           1.1047949594615932e-11,
           5.481956220950647e-17,
           null,
           null,
           0.4263778849322491,
           5.481956220950647e-17,
           null,
           null,
           0.08722503697624835,
           1.1926425075340708e-17,
           null,
           null,
           0,
           3.2840839953582972e-18,
           1.3780563311621446e-17
          ],
          [
           null,
           null,
           null,
           null,
           null,
           null,
           null,
           null,
           null,
           null,
           null,
           null,
           null,
           null,
           null,
           null,
           null,
           null,
           null,
           null,
           null,
           null,
           null,
           null,
           null,
           null,
           null,
           null,
           null,
           null,
           null,
           null
          ],
          [
           -0.000034282450277807487,
           -3.5339493615465044e-14,
           1,
           null,
           1,
           2.9329749266588944e-18,
           0.6799732492486559,
           0.5207556439232953,
           0.6697539412559734,
           0.9494253265550826,
           0.9999999997912441,
           0.9494253265550826,
           0.9999827892075267,
           null,
           null,
           null,
           null,
           1.1047949594615932e-11,
           5.481956220950647e-17,
           null,
           null,
           0.4263778849322491,
           5.481956220950647e-17,
           null,
           null,
           0.08722503697624835,
           1.1926425075340708e-17,
           null,
           null,
           0,
           3.2840839953582972e-18,
           1.3780563311621446e-17
          ],
          [
           -0.47111489096318654,
           -0.4941053172733939,
           2.9329749266588944e-18,
           null,
           2.9329749266588944e-18,
           1,
           0.5179609828730943,
           0.4962933383375538,
           0.5250842158531885,
           0.20645467683921856,
           0.000013435052839710762,
           0.20645467683921856,
           -0.00385761110230938,
           null,
           null,
           null,
           null,
           -0.4961379835281105,
           -0.48121534393851156,
           null,
           null,
           -0.23822898928118372,
           -0.48121534393851156,
           null,
           null,
           -0.655007785040502,
           -0.49677563821946963,
           null,
           null,
           -0.03648841594245597,
           -0.22522554702078892,
           -0.10542311359850216
          ],
          [
           -0.2426973767292312,
           -0.25511760551717727,
           0.6799732492486559,
           null,
           0.6799732492486559,
           0.5179609828730943,
           1,
           0.8766131850537704,
           0.9993150942368616,
           0.860122351166663,
           0.6799872102166704,
           0.860122351166663,
           0.675952888314538,
           null,
           null,
           null,
           null,
           -0.2563780212929977,
           -0.24823045301552651,
           null,
           null,
           0.25293289283126774,
           -0.24823045301552651,
           null,
           null,
           -0.6213442950137039,
           -0.25677181176816566,
           null,
           null,
           -0.009669546829906707,
           -0.10722730434112643,
           -0.04563153752273076
          ],
          [
           -0.32266607784942425,
           -0.32174408381026587,
           0.5207556439232953,
           null,
           0.5207556439232953,
           0.4962933383375538,
           0.8766131850537704,
           1,
           0.8692361897205354,
           0.6643749901047786,
           0.520766703738985,
           0.6643749901047786,
           0.5175710416068509,
           null,
           null,
           null,
           null,
           -0.32569356171738895,
           -0.3465280928414453,
           null,
           null,
           0.30495244410074307,
           -0.3465280928414453,
           null,
           null,
           -0.49378868804575987,
           -0.32690808991592285,
           null,
           null,
           0.08899242957589225,
           -0.017879828205511455,
           0.03837906136709824
          ],
          [
           -0.24723811486620498,
           -0.2593002233401452,
           0.6697539412559734,
           null,
           0.6697539412559734,
           0.5250842158531885,
           0.9993150942368616,
           0.8692361897205354,
           1,
           0.852752892072456,
           0.6697680540469614,
           0.852752892072456,
           0.6656901638369187,
           null,
           null,
           null,
           null,
           -0.26035575363249025,
           -0.25246905828179594,
           null,
           null,
           0.24726692442352452,
           -0.25246905828179594,
           null,
           null,
           -0.6296374937425591,
           -0.2606869721894594,
           null,
           null,
           -0.019631973212744954,
           -0.11871112656720245,
           -0.055785968623219745
          ],
          [
           -0.07298107292818562,
           -0.08193019027697954,
           0.9494253265550826,
           null,
           0.9494253265550826,
           0.20645467683921856,
           0.860122351166663,
           0.6643749901047786,
           0.852752892072456,
           1,
           0.949431742208996,
           1,
           0.9475668004841681,
           null,
           null,
           null,
           null,
           -0.08203740517241316,
           -0.06867164457482916,
           null,
           null,
           0.34335301285806014,
           -0.06867164457482916,
           null,
           null,
           -0.2299825114343003,
           -0.08207069705643669,
           null,
           null,
           -0.016702020715662756,
           -0.040120542714251986,
           -0.008286098532432227
          ],
          [
           -0.00003902958069951684,
           -0.000005331613018955663,
           0.9999999997912441,
           null,
           0.9999999997912441,
           0.000013435052839710762,
           0.6799872102166704,
           0.520766703738985,
           0.6697680540469614,
           0.949431742208996,
           1,
           0.949431742208996,
           0.9999826691184077,
           null,
           null,
           null,
           null,
           -0.000005338578953348662,
           -0.000004468812175118914,
           null,
           null,
           0.4263738852675438,
           -0.000004468812175118914,
           null,
           null,
           0.08720468172489568,
           -0.0000053407564723106504,
           null,
           null,
           -0.0000010868851909505575,
           -0.0000026108471824569737,
           -5.392184538043698e-7
          ],
          [
           -0.07298107292818562,
           -0.08193019027697954,
           0.9494253265550826,
           null,
           0.9494253265550826,
           0.20645467683921856,
           0.860122351166663,
           0.6643749901047786,
           0.852752892072456,
           1,
           0.949431742208996,
           1,
           0.9475668004841681,
           null,
           null,
           null,
           null,
           -0.08203740517241316,
           -0.06867164457482916,
           null,
           null,
           0.34335301285806014,
           -0.06867164457482916,
           null,
           null,
           -0.2299825114343003,
           -0.08207069705643669,
           null,
           null,
           -0.016702020715662756,
           -0.040120542714251986,
           -0.008286098532432227
          ],
          [
           0.0013287632475258212,
           0.0015308677742645555,
           0.9999827892075267,
           null,
           0.9999827892075267,
           -0.00385761110230938,
           0.675952888314538,
           0.5175710416068509,
           0.6656901638369187,
           0.9475668004841681,
           0.9999826691184077,
           0.9475668004841681,
           1,
           null,
           null,
           null,
           null,
           0.0015328710987038104,
           0.0012831314968563877,
           null,
           null,
           0.42751894610467195,
           0.0012831314968563877,
           null,
           null,
           0.09306814049361506,
           0.0015334931471944052,
           null,
           null,
           0.00031207769923232673,
           0.0007496534027451569,
           0.00015482597044015983
          ],
          [
           null,
           null,
           null,
           null,
           null,
           null,
           null,
           null,
           null,
           null,
           null,
           null,
           null,
           null,
           null,
           null,
           null,
           null,
           null,
           null,
           null,
           null,
           null,
           null,
           null,
           null,
           null,
           null,
           null,
           null,
           null,
           null
          ],
          [
           null,
           null,
           null,
           null,
           null,
           null,
           null,
           null,
           null,
           null,
           null,
           null,
           null,
           null,
           null,
           null,
           null,
           null,
           null,
           null,
           null,
           null,
           null,
           null,
           null,
           null,
           null,
           null,
           null,
           null,
           null,
           null
          ],
          [
           null,
           null,
           null,
           null,
           null,
           null,
           null,
           null,
           null,
           null,
           null,
           null,
           null,
           null,
           null,
           null,
           null,
           null,
           null,
           null,
           null,
           null,
           null,
           null,
           null,
           null,
           null,
           null,
           null,
           null,
           null,
           null
          ],
          [
           null,
           null,
           null,
           null,
           null,
           null,
           null,
           null,
           null,
           null,
           null,
           null,
           null,
           null,
           null,
           null,
           null,
           null,
           null,
           null,
           null,
           null,
           null,
           null,
           null,
           null,
           null,
           null,
           null,
           null,
           null,
           null
          ],
          [
           0.9762567580002225,
           0.999786121148379,
           1.1047949594615932e-11,
           null,
           1.1047949594615932e-11,
           -0.4961379835281105,
           -0.2563780212929977,
           -0.32569356171738895,
           -0.26035575363249025,
           -0.08203740517241316,
           -0.000005338578953348662,
           -0.08203740517241316,
           0.0015328710987038104,
           null,
           null,
           null,
           null,
           1,
           0.9694786212155361,
           null,
           null,
           0.16629695108332673,
           0.9694786212155361,
           null,
           null,
           0.2602757170650481,
           0.9999788907448619,
           null,
           null,
           0.2810609580888146,
           0.20309016545688552,
           0.24407457341280928
          ],
          [
           0.9750295688937043,
           0.9686597628610967,
           5.481956220950647e-17,
           null,
           5.481956220950647e-17,
           -0.48121534393851156,
           -0.24823045301552651,
           -0.3465280928414453,
           -0.25246905828179594,
           -0.06867164457482916,
           -0.000004468812175118914,
           -0.06867164457482916,
           0.0012831314968563877,
           null,
           null,
           null,
           null,
           0.9694786212155361,
           1,
           null,
           null,
           0.14836814158728584,
           1,
           null,
           null,
           0.21787087847410289,
           0.9696863344630294,
           null,
           null,
           0.23266806099710682,
           0.3149404705654708,
           0.3244004170816475
          ],
          [
           null,
           null,
           null,
           null,
           null,
           null,
           null,
           null,
           null,
           null,
           null,
           null,
           null,
           null,
           null,
           null,
           null,
           null,
           null,
           null,
           null,
           null,
           null,
           null,
           null,
           null,
           null,
           null,
           null,
           null,
           null,
           null
          ],
          [
           null,
           null,
           null,
           null,
           null,
           null,
           null,
           null,
           null,
           null,
           null,
           null,
           null,
           null,
           null,
           null,
           null,
           null,
           null,
           null,
           null,
           null,
           null,
           null,
           null,
           null,
           null,
           null,
           null,
           null,
           null,
           null
          ],
          [
           0.1992308018329708,
           0.17118962017334816,
           0.4263778849322491,
           null,
           0.4263778849322491,
           -0.23822898928118372,
           0.25293289283126774,
           0.30495244410074307,
           0.24726692442352452,
           0.34335301285806014,
           0.4263738852675438,
           0.34335301285806014,
           0.42751894610467195,
           null,
           null,
           null,
           null,
           0.16629695108332673,
           0.14836814158728584,
           null,
           null,
           1,
           0.1483681415872859,
           null,
           null,
           0.23218471695369908,
           0.16476661986435231,
           null,
           null,
           0.2681135886403061,
           0.18494936265040762,
           0.12633096460068166
          ],
          [
           0.9750295688937043,
           0.9686597628610967,
           5.481956220950647e-17,
           null,
           5.481956220950647e-17,
           -0.48121534393851156,
           -0.24823045301552651,
           -0.3465280928414453,
           -0.25246905828179594,
           -0.06867164457482916,
           -0.000004468812175118914,
           -0.06867164457482916,
           0.0012831314968563877,
           null,
           null,
           null,
           null,
           0.9694786212155361,
           1,
           null,
           null,
           0.1483681415872859,
           1,
           null,
           null,
           0.21787087847410289,
           0.9696863344630294,
           null,
           null,
           0.23266806099710682,
           0.3149404705654708,
           0.3244004170816475
          ],
          [
           null,
           null,
           null,
           null,
           null,
           null,
           null,
           null,
           null,
           null,
           null,
           null,
           null,
           null,
           null,
           null,
           null,
           null,
           null,
           null,
           null,
           null,
           null,
           null,
           null,
           null,
           null,
           null,
           null,
           null,
           null,
           null
          ],
          [
           null,
           null,
           null,
           null,
           null,
           null,
           null,
           null,
           null,
           null,
           null,
           null,
           null,
           null,
           null,
           null,
           null,
           null,
           null,
           null,
           null,
           null,
           null,
           null,
           null,
           null,
           null,
           null,
           null,
           null,
           null,
           null
          ],
          [
           0.2314369172806731,
           0.2599355620461023,
           0.08722503697624835,
           null,
           0.08722503697624835,
           -0.655007785040502,
           -0.6213442950137039,
           -0.49378868804575987,
           -0.6296374937425591,
           -0.2299825114343003,
           0.08720468172489568,
           -0.2299825114343003,
           0.09306814049361506,
           null,
           null,
           null,
           null,
           0.2602757170650481,
           0.21787087847410289,
           null,
           null,
           0.23218471695369908,
           0.21787087847410289,
           null,
           null,
           1,
           0.2603813404407941,
           null,
           null,
           0.05298961380849025,
           0.12728831441464836,
           0.026288864604324644
          ],
          [
           0.9759560609032368,
           0.9996307459907926,
           1.1926425075340708e-17,
           null,
           1.1926425075340708e-17,
           -0.49677563821946963,
           -0.25677181176816566,
           -0.32690808991592285,
           -0.2606869721894594,
           -0.08207069705643669,
           -0.0000053407564723106504,
           -0.08207069705643669,
           0.0015334931471944052,
           null,
           null,
           null,
           null,
           0.9999788907448619,
           0.9696863344630294,
           null,
           null,
           0.16476661986435231,
           0.9696863344630294,
           null,
           null,
           0.2603813404407941,
           1,
           null,
           null,
           0.2748261144351133,
           0.20115567685616456,
           0.2433434517306242
          ],
          [
           null,
           null,
           null,
           null,
           null,
           null,
           null,
           null,
           null,
           null,
           null,
           null,
           null,
           null,
           null,
           null,
           null,
           null,
           null,
           null,
           null,
           null,
           null,
           null,
           null,
           null,
           null,
           null,
           null,
           null,
           null,
           null
          ],
          [
           null,
           null,
           null,
           null,
           null,
           null,
           null,
           null,
           null,
           null,
           null,
           null,
           null,
           null,
           null,
           null,
           null,
           null,
           null,
           null,
           null,
           null,
           null,
           null,
           null,
           null,
           null,
           null,
           null,
           null,
           null,
           null
          ],
          [
           0.3141935527056644,
           0.30077464805065857,
           0,
           null,
           0,
           -0.03648841594245597,
           -0.009669546829906707,
           0.08899242957589225,
           -0.019631973212744954,
           -0.016702020715662756,
           -0.0000010868851909505575,
           -0.016702020715662756,
           0.00031207769923232673,
           null,
           null,
           null,
           null,
           0.2810609580888146,
           0.23266806099710682,
           null,
           null,
           0.2681135886403061,
           0.23266806099710682,
           null,
           null,
           0.05298961380849025,
           0.2748261144351133,
           null,
           null,
           1,
           0.3003278153710199,
           0.1603356235999907
          ],
          [
           0.2423273737474162,
           0.2099535097777884,
           3.2840839953582972e-18,
           null,
           3.2840839953582972e-18,
           -0.22522554702078892,
           -0.10722730434112643,
           -0.017879828205511455,
           -0.11871112656720245,
           -0.040120542714251986,
           -0.0000026108471824569737,
           -0.040120542714251986,
           0.0007496534027451569,
           null,
           null,
           null,
           null,
           0.20309016545688552,
           0.3149404705654708,
           null,
           null,
           0.18494936265040762,
           0.3149404705654708,
           null,
           null,
           0.12728831441464836,
           0.20115567685616456,
           null,
           null,
           0.3003278153710199,
           1,
           0.3983079939319898
          ],
          [
           0.3241421081090353,
           0.24662509285373524,
           1.3780563311621446e-17,
           null,
           1.3780563311621446e-17,
           -0.10542311359850216,
           -0.04563153752273076,
           0.03837906136709824,
           -0.055785968623219745,
           -0.008286098532432227,
           -5.392184538043698e-7,
           -0.008286098532432227,
           0.00015482597044015983,
           null,
           null,
           null,
           null,
           0.24407457341280928,
           0.3244004170816475,
           null,
           null,
           0.12633096460068166,
           0.3244004170816475,
           null,
           null,
           0.026288864604324644,
           0.2433434517306242,
           null,
           null,
           0.1603356235999907,
           0.3983079939319898,
           1
          ]
         ]
        }
       ],
       "layout": {
        "annotations": [
         {
          "font": {
           "color": "#FFFFFF"
          },
          "showarrow": false,
          "text": "1.0",
          "x": "Movimientos",
          "xref": "x",
          "y": "Movimientos",
          "yref": "y"
         },
         {
          "font": {
           "color": "#FFFFFF"
          },
          "showarrow": false,
          "text": "0.98",
          "x": "Fecha de solicitud",
          "xref": "x",
          "y": "Movimientos",
          "yref": "y"
         },
         {
          "font": {
           "color": "#FFFFFF"
          },
          "showarrow": false,
          "text": "-0.0",
          "x": "Tipo de transacción",
          "xref": "x",
          "y": "Movimientos",
          "yref": "y"
         },
         {
          "font": {
           "color": "#FFFFFF"
          },
          "showarrow": false,
          "text": "nan",
          "x": "Estado",
          "xref": "x",
          "y": "Movimientos",
          "yref": "y"
         },
         {
          "font": {
           "color": "#FFFFFF"
          },
          "showarrow": false,
          "text": "-0.0",
          "x": "Signo",
          "xref": "x",
          "y": "Movimientos",
          "yref": "y"
         },
         {
          "font": {
           "color": "#FFFFFF"
          },
          "showarrow": false,
          "text": "-0.47",
          "x": "Monto",
          "xref": "x",
          "y": "Movimientos",
          "yref": "y"
         },
         {
          "font": {
           "color": "#FFFFFF"
          },
          "showarrow": false,
          "text": "-0.24",
          "x": "Comisión",
          "xref": "x",
          "y": "Movimientos",
          "yref": "y"
         },
         {
          "font": {
           "color": "#FFFFFF"
          },
          "showarrow": false,
          "text": "-0.32",
          "x": "Impuesto",
          "xref": "x",
          "y": "Movimientos",
          "yref": "y"
         },
         {
          "font": {
           "color": "#FFFFFF"
          },
          "showarrow": false,
          "text": "-0.25",
          "x": "Pago",
          "xref": "x",
          "y": "Movimientos",
          "yref": "y"
         },
         {
          "font": {
           "color": "#FFFFFF"
          },
          "showarrow": false,
          "text": "-0.07",
          "x": "Número de identificación",
          "xref": "x",
          "y": "Movimientos",
          "yref": "y"
         },
         {
          "font": {
           "color": "#FFFFFF"
          },
          "showarrow": false,
          "text": "-0.0",
          "x": "Número de cliente",
          "xref": "x",
          "y": "Movimientos",
          "yref": "y"
         },
         {
          "font": {
           "color": "#FFFFFF"
          },
          "showarrow": false,
          "text": "-0.07",
          "x": "Nombre Cliente",
          "xref": "x",
          "y": "Movimientos",
          "yref": "y"
         },
         {
          "font": {
           "color": "#FFFFFF"
          },
          "showarrow": false,
          "text": "0.0",
          "x": "Teléfono",
          "xref": "x",
          "y": "Movimientos",
          "yref": "y"
         },
         {
          "font": {
           "color": "#FFFFFF"
          },
          "showarrow": false,
          "text": "nan",
          "x": "Nro de tarjeta enmascarado",
          "xref": "x",
          "y": "Movimientos",
          "yref": "y"
         },
         {
          "font": {
           "color": "#FFFFFF"
          },
          "showarrow": false,
          "text": "nan",
          "x": "Tipo de tarjeta",
          "xref": "x",
          "y": "Movimientos",
          "yref": "y"
         },
         {
          "font": {
           "color": "#FFFFFF"
          },
          "showarrow": false,
          "text": "nan",
          "x": "Descripción",
          "xref": "x",
          "y": "Movimientos",
          "yref": "y"
         },
         {
          "font": {
           "color": "#FFFFFF"
          },
          "showarrow": false,
          "text": "nan",
          "x": "Terminal",
          "xref": "x",
          "y": "Movimientos",
          "yref": "y"
         },
         {
          "font": {
           "color": "#FFFFFF"
          },
          "showarrow": false,
          "text": "0.98",
          "x": "Lote",
          "xref": "x",
          "y": "Movimientos",
          "yref": "y"
         },
         {
          "font": {
           "color": "#FFFFFF"
          },
          "showarrow": false,
          "text": "0.98",
          "x": "Recibo",
          "xref": "x",
          "y": "Movimientos",
          "yref": "y"
         },
         {
          "font": {
           "color": "#FFFFFF"
          },
          "showarrow": false,
          "text": "nan",
          "x": "Huella del Dispositivo",
          "xref": "x",
          "y": "Movimientos",
          "yref": "y"
         },
         {
          "font": {
           "color": "#FFFFFF"
          },
          "showarrow": false,
          "text": "nan",
          "x": "Código de respuesta",
          "xref": "x",
          "y": "Movimientos",
          "yref": "y"
         },
         {
          "font": {
           "color": "#FFFFFF"
          },
          "showarrow": false,
          "text": "0.2",
          "x": "Código de autorización",
          "xref": "x",
          "y": "Movimientos",
          "yref": "y"
         },
         {
          "font": {
           "color": "#FFFFFF"
          },
          "showarrow": false,
          "text": "0.98",
          "x": "RRN",
          "xref": "x",
          "y": "Movimientos",
          "yref": "y"
         },
         {
          "font": {
           "color": "#FFFFFF"
          },
          "showarrow": false,
          "text": "nan",
          "x": "Código de afiliado",
          "xref": "x",
          "y": "Movimientos",
          "yref": "y"
         },
         {
          "font": {
           "color": "#FFFFFF"
          },
          "showarrow": false,
          "text": "nan",
          "x": "Descripción.1",
          "xref": "x",
          "y": "Movimientos",
          "yref": "y"
         },
         {
          "font": {
           "color": "#FFFFFF"
          },
          "showarrow": false,
          "text": "0.23",
          "x": "Saldo Actual",
          "xref": "x",
          "y": "Movimientos",
          "yref": "y"
         },
         {
          "font": {
           "color": "#FFFFFF"
          },
          "showarrow": false,
          "text": "0.98",
          "x": "Dia",
          "xref": "x",
          "y": "Movimientos",
          "yref": "y"
         },
         {
          "font": {
           "color": "#FFFFFF"
          },
          "showarrow": false,
          "text": "nan",
          "x": "Mes",
          "xref": "x",
          "y": "Movimientos",
          "yref": "y"
         },
         {
          "font": {
           "color": "#FFFFFF"
          },
          "showarrow": false,
          "text": "nan",
          "x": "Año",
          "xref": "x",
          "y": "Movimientos",
          "yref": "y"
         },
         {
          "font": {
           "color": "#FFFFFF"
          },
          "showarrow": false,
          "text": "0.31",
          "x": "Hora",
          "xref": "x",
          "y": "Movimientos",
          "yref": "y"
         },
         {
          "font": {
           "color": "#FFFFFF"
          },
          "showarrow": false,
          "text": "0.24",
          "x": "Minuto",
          "xref": "x",
          "y": "Movimientos",
          "yref": "y"
         },
         {
          "font": {
           "color": "#FFFFFF"
          },
          "showarrow": false,
          "text": "0.32",
          "x": "Segundo",
          "xref": "x",
          "y": "Movimientos",
          "yref": "y"
         },
         {
          "font": {
           "color": "#FFFFFF"
          },
          "showarrow": false,
          "text": "0.98",
          "x": "Movimientos",
          "xref": "x",
          "y": "Fecha de solicitud",
          "yref": "y"
         },
         {
          "font": {
           "color": "#FFFFFF"
          },
          "showarrow": false,
          "text": "1.0",
          "x": "Fecha de solicitud",
          "xref": "x",
          "y": "Fecha de solicitud",
          "yref": "y"
         },
         {
          "font": {
           "color": "#FFFFFF"
          },
          "showarrow": false,
          "text": "-0.0",
          "x": "Tipo de transacción",
          "xref": "x",
          "y": "Fecha de solicitud",
          "yref": "y"
         },
         {
          "font": {
           "color": "#FFFFFF"
          },
          "showarrow": false,
          "text": "nan",
          "x": "Estado",
          "xref": "x",
          "y": "Fecha de solicitud",
          "yref": "y"
         },
         {
          "font": {
           "color": "#FFFFFF"
          },
          "showarrow": false,
          "text": "-0.0",
          "x": "Signo",
          "xref": "x",
          "y": "Fecha de solicitud",
          "yref": "y"
         },
         {
          "font": {
           "color": "#FFFFFF"
          },
          "showarrow": false,
          "text": "-0.49",
          "x": "Monto",
          "xref": "x",
          "y": "Fecha de solicitud",
          "yref": "y"
         },
         {
          "font": {
           "color": "#FFFFFF"
          },
          "showarrow": false,
          "text": "-0.26",
          "x": "Comisión",
          "xref": "x",
          "y": "Fecha de solicitud",
          "yref": "y"
         },
         {
          "font": {
           "color": "#FFFFFF"
          },
          "showarrow": false,
          "text": "-0.32",
          "x": "Impuesto",
          "xref": "x",
          "y": "Fecha de solicitud",
          "yref": "y"
         },
         {
          "font": {
           "color": "#FFFFFF"
          },
          "showarrow": false,
          "text": "-0.26",
          "x": "Pago",
          "xref": "x",
          "y": "Fecha de solicitud",
          "yref": "y"
         },
         {
          "font": {
           "color": "#FFFFFF"
          },
          "showarrow": false,
          "text": "-0.08",
          "x": "Número de identificación",
          "xref": "x",
          "y": "Fecha de solicitud",
          "yref": "y"
         },
         {
          "font": {
           "color": "#FFFFFF"
          },
          "showarrow": false,
          "text": "-0.0",
          "x": "Número de cliente",
          "xref": "x",
          "y": "Fecha de solicitud",
          "yref": "y"
         },
         {
          "font": {
           "color": "#FFFFFF"
          },
          "showarrow": false,
          "text": "-0.08",
          "x": "Nombre Cliente",
          "xref": "x",
          "y": "Fecha de solicitud",
          "yref": "y"
         },
         {
          "font": {
           "color": "#FFFFFF"
          },
          "showarrow": false,
          "text": "0.0",
          "x": "Teléfono",
          "xref": "x",
          "y": "Fecha de solicitud",
          "yref": "y"
         },
         {
          "font": {
           "color": "#FFFFFF"
          },
          "showarrow": false,
          "text": "nan",
          "x": "Nro de tarjeta enmascarado",
          "xref": "x",
          "y": "Fecha de solicitud",
          "yref": "y"
         },
         {
          "font": {
           "color": "#FFFFFF"
          },
          "showarrow": false,
          "text": "nan",
          "x": "Tipo de tarjeta",
          "xref": "x",
          "y": "Fecha de solicitud",
          "yref": "y"
         },
         {
          "font": {
           "color": "#FFFFFF"
          },
          "showarrow": false,
          "text": "nan",
          "x": "Descripción",
          "xref": "x",
          "y": "Fecha de solicitud",
          "yref": "y"
         },
         {
          "font": {
           "color": "#FFFFFF"
          },
          "showarrow": false,
          "text": "nan",
          "x": "Terminal",
          "xref": "x",
          "y": "Fecha de solicitud",
          "yref": "y"
         },
         {
          "font": {
           "color": "#FFFFFF"
          },
          "showarrow": false,
          "text": "1.0",
          "x": "Lote",
          "xref": "x",
          "y": "Fecha de solicitud",
          "yref": "y"
         },
         {
          "font": {
           "color": "#FFFFFF"
          },
          "showarrow": false,
          "text": "0.97",
          "x": "Recibo",
          "xref": "x",
          "y": "Fecha de solicitud",
          "yref": "y"
         },
         {
          "font": {
           "color": "#FFFFFF"
          },
          "showarrow": false,
          "text": "nan",
          "x": "Huella del Dispositivo",
          "xref": "x",
          "y": "Fecha de solicitud",
          "yref": "y"
         },
         {
          "font": {
           "color": "#FFFFFF"
          },
          "showarrow": false,
          "text": "nan",
          "x": "Código de respuesta",
          "xref": "x",
          "y": "Fecha de solicitud",
          "yref": "y"
         },
         {
          "font": {
           "color": "#FFFFFF"
          },
          "showarrow": false,
          "text": "0.17",
          "x": "Código de autorización",
          "xref": "x",
          "y": "Fecha de solicitud",
          "yref": "y"
         },
         {
          "font": {
           "color": "#FFFFFF"
          },
          "showarrow": false,
          "text": "0.97",
          "x": "RRN",
          "xref": "x",
          "y": "Fecha de solicitud",
          "yref": "y"
         },
         {
          "font": {
           "color": "#FFFFFF"
          },
          "showarrow": false,
          "text": "nan",
          "x": "Código de afiliado",
          "xref": "x",
          "y": "Fecha de solicitud",
          "yref": "y"
         },
         {
          "font": {
           "color": "#FFFFFF"
          },
          "showarrow": false,
          "text": "nan",
          "x": "Descripción.1",
          "xref": "x",
          "y": "Fecha de solicitud",
          "yref": "y"
         },
         {
          "font": {
           "color": "#FFFFFF"
          },
          "showarrow": false,
          "text": "0.26",
          "x": "Saldo Actual",
          "xref": "x",
          "y": "Fecha de solicitud",
          "yref": "y"
         },
         {
          "font": {
           "color": "#FFFFFF"
          },
          "showarrow": false,
          "text": "1.0",
          "x": "Dia",
          "xref": "x",
          "y": "Fecha de solicitud",
          "yref": "y"
         },
         {
          "font": {
           "color": "#FFFFFF"
          },
          "showarrow": false,
          "text": "nan",
          "x": "Mes",
          "xref": "x",
          "y": "Fecha de solicitud",
          "yref": "y"
         },
         {
          "font": {
           "color": "#FFFFFF"
          },
          "showarrow": false,
          "text": "nan",
          "x": "Año",
          "xref": "x",
          "y": "Fecha de solicitud",
          "yref": "y"
         },
         {
          "font": {
           "color": "#FFFFFF"
          },
          "showarrow": false,
          "text": "0.3",
          "x": "Hora",
          "xref": "x",
          "y": "Fecha de solicitud",
          "yref": "y"
         },
         {
          "font": {
           "color": "#FFFFFF"
          },
          "showarrow": false,
          "text": "0.21",
          "x": "Minuto",
          "xref": "x",
          "y": "Fecha de solicitud",
          "yref": "y"
         },
         {
          "font": {
           "color": "#FFFFFF"
          },
          "showarrow": false,
          "text": "0.25",
          "x": "Segundo",
          "xref": "x",
          "y": "Fecha de solicitud",
          "yref": "y"
         },
         {
          "font": {
           "color": "#FFFFFF"
          },
          "showarrow": false,
          "text": "-0.0",
          "x": "Movimientos",
          "xref": "x",
          "y": "Tipo de transacción",
          "yref": "y"
         },
         {
          "font": {
           "color": "#FFFFFF"
          },
          "showarrow": false,
          "text": "-0.0",
          "x": "Fecha de solicitud",
          "xref": "x",
          "y": "Tipo de transacción",
          "yref": "y"
         },
         {
          "font": {
           "color": "#FFFFFF"
          },
          "showarrow": false,
          "text": "1.0",
          "x": "Tipo de transacción",
          "xref": "x",
          "y": "Tipo de transacción",
          "yref": "y"
         },
         {
          "font": {
           "color": "#FFFFFF"
          },
          "showarrow": false,
          "text": "nan",
          "x": "Estado",
          "xref": "x",
          "y": "Tipo de transacción",
          "yref": "y"
         },
         {
          "font": {
           "color": "#FFFFFF"
          },
          "showarrow": false,
          "text": "1.0",
          "x": "Signo",
          "xref": "x",
          "y": "Tipo de transacción",
          "yref": "y"
         },
         {
          "font": {
           "color": "#FFFFFF"
          },
          "showarrow": false,
          "text": "0.0",
          "x": "Monto",
          "xref": "x",
          "y": "Tipo de transacción",
          "yref": "y"
         },
         {
          "font": {
           "color": "#FFFFFF"
          },
          "showarrow": false,
          "text": "0.68",
          "x": "Comisión",
          "xref": "x",
          "y": "Tipo de transacción",
          "yref": "y"
         },
         {
          "font": {
           "color": "#FFFFFF"
          },
          "showarrow": false,
          "text": "0.52",
          "x": "Impuesto",
          "xref": "x",
          "y": "Tipo de transacción",
          "yref": "y"
         },
         {
          "font": {
           "color": "#FFFFFF"
          },
          "showarrow": false,
          "text": "0.67",
          "x": "Pago",
          "xref": "x",
          "y": "Tipo de transacción",
          "yref": "y"
         },
         {
          "font": {
           "color": "#FFFFFF"
          },
          "showarrow": false,
          "text": "0.95",
          "x": "Número de identificación",
          "xref": "x",
          "y": "Tipo de transacción",
          "yref": "y"
         },
         {
          "font": {
           "color": "#FFFFFF"
          },
          "showarrow": false,
          "text": "1.0",
          "x": "Número de cliente",
          "xref": "x",
          "y": "Tipo de transacción",
          "yref": "y"
         },
         {
          "font": {
           "color": "#FFFFFF"
          },
          "showarrow": false,
          "text": "0.95",
          "x": "Nombre Cliente",
          "xref": "x",
          "y": "Tipo de transacción",
          "yref": "y"
         },
         {
          "font": {
           "color": "#FFFFFF"
          },
          "showarrow": false,
          "text": "1.0",
          "x": "Teléfono",
          "xref": "x",
          "y": "Tipo de transacción",
          "yref": "y"
         },
         {
          "font": {
           "color": "#FFFFFF"
          },
          "showarrow": false,
          "text": "nan",
          "x": "Nro de tarjeta enmascarado",
          "xref": "x",
          "y": "Tipo de transacción",
          "yref": "y"
         },
         {
          "font": {
           "color": "#FFFFFF"
          },
          "showarrow": false,
          "text": "nan",
          "x": "Tipo de tarjeta",
          "xref": "x",
          "y": "Tipo de transacción",
          "yref": "y"
         },
         {
          "font": {
           "color": "#FFFFFF"
          },
          "showarrow": false,
          "text": "nan",
          "x": "Descripción",
          "xref": "x",
          "y": "Tipo de transacción",
          "yref": "y"
         },
         {
          "font": {
           "color": "#FFFFFF"
          },
          "showarrow": false,
          "text": "nan",
          "x": "Terminal",
          "xref": "x",
          "y": "Tipo de transacción",
          "yref": "y"
         },
         {
          "font": {
           "color": "#FFFFFF"
          },
          "showarrow": false,
          "text": "0.0",
          "x": "Lote",
          "xref": "x",
          "y": "Tipo de transacción",
          "yref": "y"
         },
         {
          "font": {
           "color": "#FFFFFF"
          },
          "showarrow": false,
          "text": "0.0",
          "x": "Recibo",
          "xref": "x",
          "y": "Tipo de transacción",
          "yref": "y"
         },
         {
          "font": {
           "color": "#FFFFFF"
          },
          "showarrow": false,
          "text": "nan",
          "x": "Huella del Dispositivo",
          "xref": "x",
          "y": "Tipo de transacción",
          "yref": "y"
         },
         {
          "font": {
           "color": "#FFFFFF"
          },
          "showarrow": false,
          "text": "nan",
          "x": "Código de respuesta",
          "xref": "x",
          "y": "Tipo de transacción",
          "yref": "y"
         },
         {
          "font": {
           "color": "#FFFFFF"
          },
          "showarrow": false,
          "text": "0.43",
          "x": "Código de autorización",
          "xref": "x",
          "y": "Tipo de transacción",
          "yref": "y"
         },
         {
          "font": {
           "color": "#FFFFFF"
          },
          "showarrow": false,
          "text": "0.0",
          "x": "RRN",
          "xref": "x",
          "y": "Tipo de transacción",
          "yref": "y"
         },
         {
          "font": {
           "color": "#FFFFFF"
          },
          "showarrow": false,
          "text": "nan",
          "x": "Código de afiliado",
          "xref": "x",
          "y": "Tipo de transacción",
          "yref": "y"
         },
         {
          "font": {
           "color": "#FFFFFF"
          },
          "showarrow": false,
          "text": "nan",
          "x": "Descripción.1",
          "xref": "x",
          "y": "Tipo de transacción",
          "yref": "y"
         },
         {
          "font": {
           "color": "#FFFFFF"
          },
          "showarrow": false,
          "text": "0.09",
          "x": "Saldo Actual",
          "xref": "x",
          "y": "Tipo de transacción",
          "yref": "y"
         },
         {
          "font": {
           "color": "#FFFFFF"
          },
          "showarrow": false,
          "text": "0.0",
          "x": "Dia",
          "xref": "x",
          "y": "Tipo de transacción",
          "yref": "y"
         },
         {
          "font": {
           "color": "#FFFFFF"
          },
          "showarrow": false,
          "text": "nan",
          "x": "Mes",
          "xref": "x",
          "y": "Tipo de transacción",
          "yref": "y"
         },
         {
          "font": {
           "color": "#FFFFFF"
          },
          "showarrow": false,
          "text": "nan",
          "x": "Año",
          "xref": "x",
          "y": "Tipo de transacción",
          "yref": "y"
         },
         {
          "font": {
           "color": "#FFFFFF"
          },
          "showarrow": false,
          "text": "0.0",
          "x": "Hora",
          "xref": "x",
          "y": "Tipo de transacción",
          "yref": "y"
         },
         {
          "font": {
           "color": "#FFFFFF"
          },
          "showarrow": false,
          "text": "0.0",
          "x": "Minuto",
          "xref": "x",
          "y": "Tipo de transacción",
          "yref": "y"
         },
         {
          "font": {
           "color": "#FFFFFF"
          },
          "showarrow": false,
          "text": "0.0",
          "x": "Segundo",
          "xref": "x",
          "y": "Tipo de transacción",
          "yref": "y"
         },
         {
          "font": {
           "color": "#FFFFFF"
          },
          "showarrow": false,
          "text": "nan",
          "x": "Movimientos",
          "xref": "x",
          "y": "Estado",
          "yref": "y"
         },
         {
          "font": {
           "color": "#FFFFFF"
          },
          "showarrow": false,
          "text": "nan",
          "x": "Fecha de solicitud",
          "xref": "x",
          "y": "Estado",
          "yref": "y"
         },
         {
          "font": {
           "color": "#FFFFFF"
          },
          "showarrow": false,
          "text": "nan",
          "x": "Tipo de transacción",
          "xref": "x",
          "y": "Estado",
          "yref": "y"
         },
         {
          "font": {
           "color": "#FFFFFF"
          },
          "showarrow": false,
          "text": "nan",
          "x": "Estado",
          "xref": "x",
          "y": "Estado",
          "yref": "y"
         },
         {
          "font": {
           "color": "#FFFFFF"
          },
          "showarrow": false,
          "text": "nan",
          "x": "Signo",
          "xref": "x",
          "y": "Estado",
          "yref": "y"
         },
         {
          "font": {
           "color": "#FFFFFF"
          },
          "showarrow": false,
          "text": "nan",
          "x": "Monto",
          "xref": "x",
          "y": "Estado",
          "yref": "y"
         },
         {
          "font": {
           "color": "#FFFFFF"
          },
          "showarrow": false,
          "text": "nan",
          "x": "Comisión",
          "xref": "x",
          "y": "Estado",
          "yref": "y"
         },
         {
          "font": {
           "color": "#FFFFFF"
          },
          "showarrow": false,
          "text": "nan",
          "x": "Impuesto",
          "xref": "x",
          "y": "Estado",
          "yref": "y"
         },
         {
          "font": {
           "color": "#FFFFFF"
          },
          "showarrow": false,
          "text": "nan",
          "x": "Pago",
          "xref": "x",
          "y": "Estado",
          "yref": "y"
         },
         {
          "font": {
           "color": "#FFFFFF"
          },
          "showarrow": false,
          "text": "nan",
          "x": "Número de identificación",
          "xref": "x",
          "y": "Estado",
          "yref": "y"
         },
         {
          "font": {
           "color": "#FFFFFF"
          },
          "showarrow": false,
          "text": "nan",
          "x": "Número de cliente",
          "xref": "x",
          "y": "Estado",
          "yref": "y"
         },
         {
          "font": {
           "color": "#FFFFFF"
          },
          "showarrow": false,
          "text": "nan",
          "x": "Nombre Cliente",
          "xref": "x",
          "y": "Estado",
          "yref": "y"
         },
         {
          "font": {
           "color": "#FFFFFF"
          },
          "showarrow": false,
          "text": "nan",
          "x": "Teléfono",
          "xref": "x",
          "y": "Estado",
          "yref": "y"
         },
         {
          "font": {
           "color": "#FFFFFF"
          },
          "showarrow": false,
          "text": "nan",
          "x": "Nro de tarjeta enmascarado",
          "xref": "x",
          "y": "Estado",
          "yref": "y"
         },
         {
          "font": {
           "color": "#FFFFFF"
          },
          "showarrow": false,
          "text": "nan",
          "x": "Tipo de tarjeta",
          "xref": "x",
          "y": "Estado",
          "yref": "y"
         },
         {
          "font": {
           "color": "#FFFFFF"
          },
          "showarrow": false,
          "text": "nan",
          "x": "Descripción",
          "xref": "x",
          "y": "Estado",
          "yref": "y"
         },
         {
          "font": {
           "color": "#FFFFFF"
          },
          "showarrow": false,
          "text": "nan",
          "x": "Terminal",
          "xref": "x",
          "y": "Estado",
          "yref": "y"
         },
         {
          "font": {
           "color": "#FFFFFF"
          },
          "showarrow": false,
          "text": "nan",
          "x": "Lote",
          "xref": "x",
          "y": "Estado",
          "yref": "y"
         },
         {
          "font": {
           "color": "#FFFFFF"
          },
          "showarrow": false,
          "text": "nan",
          "x": "Recibo",
          "xref": "x",
          "y": "Estado",
          "yref": "y"
         },
         {
          "font": {
           "color": "#FFFFFF"
          },
          "showarrow": false,
          "text": "nan",
          "x": "Huella del Dispositivo",
          "xref": "x",
          "y": "Estado",
          "yref": "y"
         },
         {
          "font": {
           "color": "#FFFFFF"
          },
          "showarrow": false,
          "text": "nan",
          "x": "Código de respuesta",
          "xref": "x",
          "y": "Estado",
          "yref": "y"
         },
         {
          "font": {
           "color": "#FFFFFF"
          },
          "showarrow": false,
          "text": "nan",
          "x": "Código de autorización",
          "xref": "x",
          "y": "Estado",
          "yref": "y"
         },
         {
          "font": {
           "color": "#FFFFFF"
          },
          "showarrow": false,
          "text": "nan",
          "x": "RRN",
          "xref": "x",
          "y": "Estado",
          "yref": "y"
         },
         {
          "font": {
           "color": "#FFFFFF"
          },
          "showarrow": false,
          "text": "nan",
          "x": "Código de afiliado",
          "xref": "x",
          "y": "Estado",
          "yref": "y"
         },
         {
          "font": {
           "color": "#FFFFFF"
          },
          "showarrow": false,
          "text": "nan",
          "x": "Descripción.1",
          "xref": "x",
          "y": "Estado",
          "yref": "y"
         },
         {
          "font": {
           "color": "#FFFFFF"
          },
          "showarrow": false,
          "text": "nan",
          "x": "Saldo Actual",
          "xref": "x",
          "y": "Estado",
          "yref": "y"
         },
         {
          "font": {
           "color": "#FFFFFF"
          },
          "showarrow": false,
          "text": "nan",
          "x": "Dia",
          "xref": "x",
          "y": "Estado",
          "yref": "y"
         },
         {
          "font": {
           "color": "#FFFFFF"
          },
          "showarrow": false,
          "text": "nan",
          "x": "Mes",
          "xref": "x",
          "y": "Estado",
          "yref": "y"
         },
         {
          "font": {
           "color": "#FFFFFF"
          },
          "showarrow": false,
          "text": "nan",
          "x": "Año",
          "xref": "x",
          "y": "Estado",
          "yref": "y"
         },
         {
          "font": {
           "color": "#FFFFFF"
          },
          "showarrow": false,
          "text": "nan",
          "x": "Hora",
          "xref": "x",
          "y": "Estado",
          "yref": "y"
         },
         {
          "font": {
           "color": "#FFFFFF"
          },
          "showarrow": false,
          "text": "nan",
          "x": "Minuto",
          "xref": "x",
          "y": "Estado",
          "yref": "y"
         },
         {
          "font": {
           "color": "#FFFFFF"
          },
          "showarrow": false,
          "text": "nan",
          "x": "Segundo",
          "xref": "x",
          "y": "Estado",
          "yref": "y"
         },
         {
          "font": {
           "color": "#FFFFFF"
          },
          "showarrow": false,
          "text": "-0.0",
          "x": "Movimientos",
          "xref": "x",
          "y": "Signo",
          "yref": "y"
         },
         {
          "font": {
           "color": "#FFFFFF"
          },
          "showarrow": false,
          "text": "-0.0",
          "x": "Fecha de solicitud",
          "xref": "x",
          "y": "Signo",
          "yref": "y"
         },
         {
          "font": {
           "color": "#FFFFFF"
          },
          "showarrow": false,
          "text": "1.0",
          "x": "Tipo de transacción",
          "xref": "x",
          "y": "Signo",
          "yref": "y"
         },
         {
          "font": {
           "color": "#FFFFFF"
          },
          "showarrow": false,
          "text": "nan",
          "x": "Estado",
          "xref": "x",
          "y": "Signo",
          "yref": "y"
         },
         {
          "font": {
           "color": "#FFFFFF"
          },
          "showarrow": false,
          "text": "1.0",
          "x": "Signo",
          "xref": "x",
          "y": "Signo",
          "yref": "y"
         },
         {
          "font": {
           "color": "#FFFFFF"
          },
          "showarrow": false,
          "text": "0.0",
          "x": "Monto",
          "xref": "x",
          "y": "Signo",
          "yref": "y"
         },
         {
          "font": {
           "color": "#FFFFFF"
          },
          "showarrow": false,
          "text": "0.68",
          "x": "Comisión",
          "xref": "x",
          "y": "Signo",
          "yref": "y"
         },
         {
          "font": {
           "color": "#FFFFFF"
          },
          "showarrow": false,
          "text": "0.52",
          "x": "Impuesto",
          "xref": "x",
          "y": "Signo",
          "yref": "y"
         },
         {
          "font": {
           "color": "#FFFFFF"
          },
          "showarrow": false,
          "text": "0.67",
          "x": "Pago",
          "xref": "x",
          "y": "Signo",
          "yref": "y"
         },
         {
          "font": {
           "color": "#FFFFFF"
          },
          "showarrow": false,
          "text": "0.95",
          "x": "Número de identificación",
          "xref": "x",
          "y": "Signo",
          "yref": "y"
         },
         {
          "font": {
           "color": "#FFFFFF"
          },
          "showarrow": false,
          "text": "1.0",
          "x": "Número de cliente",
          "xref": "x",
          "y": "Signo",
          "yref": "y"
         },
         {
          "font": {
           "color": "#FFFFFF"
          },
          "showarrow": false,
          "text": "0.95",
          "x": "Nombre Cliente",
          "xref": "x",
          "y": "Signo",
          "yref": "y"
         },
         {
          "font": {
           "color": "#FFFFFF"
          },
          "showarrow": false,
          "text": "1.0",
          "x": "Teléfono",
          "xref": "x",
          "y": "Signo",
          "yref": "y"
         },
         {
          "font": {
           "color": "#FFFFFF"
          },
          "showarrow": false,
          "text": "nan",
          "x": "Nro de tarjeta enmascarado",
          "xref": "x",
          "y": "Signo",
          "yref": "y"
         },
         {
          "font": {
           "color": "#FFFFFF"
          },
          "showarrow": false,
          "text": "nan",
          "x": "Tipo de tarjeta",
          "xref": "x",
          "y": "Signo",
          "yref": "y"
         },
         {
          "font": {
           "color": "#FFFFFF"
          },
          "showarrow": false,
          "text": "nan",
          "x": "Descripción",
          "xref": "x",
          "y": "Signo",
          "yref": "y"
         },
         {
          "font": {
           "color": "#FFFFFF"
          },
          "showarrow": false,
          "text": "nan",
          "x": "Terminal",
          "xref": "x",
          "y": "Signo",
          "yref": "y"
         },
         {
          "font": {
           "color": "#FFFFFF"
          },
          "showarrow": false,
          "text": "0.0",
          "x": "Lote",
          "xref": "x",
          "y": "Signo",
          "yref": "y"
         },
         {
          "font": {
           "color": "#FFFFFF"
          },
          "showarrow": false,
          "text": "0.0",
          "x": "Recibo",
          "xref": "x",
          "y": "Signo",
          "yref": "y"
         },
         {
          "font": {
           "color": "#FFFFFF"
          },
          "showarrow": false,
          "text": "nan",
          "x": "Huella del Dispositivo",
          "xref": "x",
          "y": "Signo",
          "yref": "y"
         },
         {
          "font": {
           "color": "#FFFFFF"
          },
          "showarrow": false,
          "text": "nan",
          "x": "Código de respuesta",
          "xref": "x",
          "y": "Signo",
          "yref": "y"
         },
         {
          "font": {
           "color": "#FFFFFF"
          },
          "showarrow": false,
          "text": "0.43",
          "x": "Código de autorización",
          "xref": "x",
          "y": "Signo",
          "yref": "y"
         },
         {
          "font": {
           "color": "#FFFFFF"
          },
          "showarrow": false,
          "text": "0.0",
          "x": "RRN",
          "xref": "x",
          "y": "Signo",
          "yref": "y"
         },
         {
          "font": {
           "color": "#FFFFFF"
          },
          "showarrow": false,
          "text": "nan",
          "x": "Código de afiliado",
          "xref": "x",
          "y": "Signo",
          "yref": "y"
         },
         {
          "font": {
           "color": "#FFFFFF"
          },
          "showarrow": false,
          "text": "nan",
          "x": "Descripción.1",
          "xref": "x",
          "y": "Signo",
          "yref": "y"
         },
         {
          "font": {
           "color": "#FFFFFF"
          },
          "showarrow": false,
          "text": "0.09",
          "x": "Saldo Actual",
          "xref": "x",
          "y": "Signo",
          "yref": "y"
         },
         {
          "font": {
           "color": "#FFFFFF"
          },
          "showarrow": false,
          "text": "0.0",
          "x": "Dia",
          "xref": "x",
          "y": "Signo",
          "yref": "y"
         },
         {
          "font": {
           "color": "#FFFFFF"
          },
          "showarrow": false,
          "text": "nan",
          "x": "Mes",
          "xref": "x",
          "y": "Signo",
          "yref": "y"
         },
         {
          "font": {
           "color": "#FFFFFF"
          },
          "showarrow": false,
          "text": "nan",
          "x": "Año",
          "xref": "x",
          "y": "Signo",
          "yref": "y"
         },
         {
          "font": {
           "color": "#FFFFFF"
          },
          "showarrow": false,
          "text": "0.0",
          "x": "Hora",
          "xref": "x",
          "y": "Signo",
          "yref": "y"
         },
         {
          "font": {
           "color": "#FFFFFF"
          },
          "showarrow": false,
          "text": "0.0",
          "x": "Minuto",
          "xref": "x",
          "y": "Signo",
          "yref": "y"
         },
         {
          "font": {
           "color": "#FFFFFF"
          },
          "showarrow": false,
          "text": "0.0",
          "x": "Segundo",
          "xref": "x",
          "y": "Signo",
          "yref": "y"
         },
         {
          "font": {
           "color": "#FFFFFF"
          },
          "showarrow": false,
          "text": "-0.47",
          "x": "Movimientos",
          "xref": "x",
          "y": "Monto",
          "yref": "y"
         },
         {
          "font": {
           "color": "#FFFFFF"
          },
          "showarrow": false,
          "text": "-0.49",
          "x": "Fecha de solicitud",
          "xref": "x",
          "y": "Monto",
          "yref": "y"
         },
         {
          "font": {
           "color": "#FFFFFF"
          },
          "showarrow": false,
          "text": "0.0",
          "x": "Tipo de transacción",
          "xref": "x",
          "y": "Monto",
          "yref": "y"
         },
         {
          "font": {
           "color": "#FFFFFF"
          },
          "showarrow": false,
          "text": "nan",
          "x": "Estado",
          "xref": "x",
          "y": "Monto",
          "yref": "y"
         },
         {
          "font": {
           "color": "#FFFFFF"
          },
          "showarrow": false,
          "text": "0.0",
          "x": "Signo",
          "xref": "x",
          "y": "Monto",
          "yref": "y"
         },
         {
          "font": {
           "color": "#FFFFFF"
          },
          "showarrow": false,
          "text": "1.0",
          "x": "Monto",
          "xref": "x",
          "y": "Monto",
          "yref": "y"
         },
         {
          "font": {
           "color": "#FFFFFF"
          },
          "showarrow": false,
          "text": "0.52",
          "x": "Comisión",
          "xref": "x",
          "y": "Monto",
          "yref": "y"
         },
         {
          "font": {
           "color": "#FFFFFF"
          },
          "showarrow": false,
          "text": "0.5",
          "x": "Impuesto",
          "xref": "x",
          "y": "Monto",
          "yref": "y"
         },
         {
          "font": {
           "color": "#FFFFFF"
          },
          "showarrow": false,
          "text": "0.53",
          "x": "Pago",
          "xref": "x",
          "y": "Monto",
          "yref": "y"
         },
         {
          "font": {
           "color": "#FFFFFF"
          },
          "showarrow": false,
          "text": "0.21",
          "x": "Número de identificación",
          "xref": "x",
          "y": "Monto",
          "yref": "y"
         },
         {
          "font": {
           "color": "#FFFFFF"
          },
          "showarrow": false,
          "text": "0.0",
          "x": "Número de cliente",
          "xref": "x",
          "y": "Monto",
          "yref": "y"
         },
         {
          "font": {
           "color": "#FFFFFF"
          },
          "showarrow": false,
          "text": "0.21",
          "x": "Nombre Cliente",
          "xref": "x",
          "y": "Monto",
          "yref": "y"
         },
         {
          "font": {
           "color": "#FFFFFF"
          },
          "showarrow": false,
          "text": "-0.0",
          "x": "Teléfono",
          "xref": "x",
          "y": "Monto",
          "yref": "y"
         },
         {
          "font": {
           "color": "#FFFFFF"
          },
          "showarrow": false,
          "text": "nan",
          "x": "Nro de tarjeta enmascarado",
          "xref": "x",
          "y": "Monto",
          "yref": "y"
         },
         {
          "font": {
           "color": "#FFFFFF"
          },
          "showarrow": false,
          "text": "nan",
          "x": "Tipo de tarjeta",
          "xref": "x",
          "y": "Monto",
          "yref": "y"
         },
         {
          "font": {
           "color": "#FFFFFF"
          },
          "showarrow": false,
          "text": "nan",
          "x": "Descripción",
          "xref": "x",
          "y": "Monto",
          "yref": "y"
         },
         {
          "font": {
           "color": "#FFFFFF"
          },
          "showarrow": false,
          "text": "nan",
          "x": "Terminal",
          "xref": "x",
          "y": "Monto",
          "yref": "y"
         },
         {
          "font": {
           "color": "#FFFFFF"
          },
          "showarrow": false,
          "text": "-0.5",
          "x": "Lote",
          "xref": "x",
          "y": "Monto",
          "yref": "y"
         },
         {
          "font": {
           "color": "#FFFFFF"
          },
          "showarrow": false,
          "text": "-0.48",
          "x": "Recibo",
          "xref": "x",
          "y": "Monto",
          "yref": "y"
         },
         {
          "font": {
           "color": "#FFFFFF"
          },
          "showarrow": false,
          "text": "nan",
          "x": "Huella del Dispositivo",
          "xref": "x",
          "y": "Monto",
          "yref": "y"
         },
         {
          "font": {
           "color": "#FFFFFF"
          },
          "showarrow": false,
          "text": "nan",
          "x": "Código de respuesta",
          "xref": "x",
          "y": "Monto",
          "yref": "y"
         },
         {
          "font": {
           "color": "#FFFFFF"
          },
          "showarrow": false,
          "text": "-0.24",
          "x": "Código de autorización",
          "xref": "x",
          "y": "Monto",
          "yref": "y"
         },
         {
          "font": {
           "color": "#FFFFFF"
          },
          "showarrow": false,
          "text": "-0.48",
          "x": "RRN",
          "xref": "x",
          "y": "Monto",
          "yref": "y"
         },
         {
          "font": {
           "color": "#FFFFFF"
          },
          "showarrow": false,
          "text": "nan",
          "x": "Código de afiliado",
          "xref": "x",
          "y": "Monto",
          "yref": "y"
         },
         {
          "font": {
           "color": "#FFFFFF"
          },
          "showarrow": false,
          "text": "nan",
          "x": "Descripción.1",
          "xref": "x",
          "y": "Monto",
          "yref": "y"
         },
         {
          "font": {
           "color": "#FFFFFF"
          },
          "showarrow": false,
          "text": "-0.66",
          "x": "Saldo Actual",
          "xref": "x",
          "y": "Monto",
          "yref": "y"
         },
         {
          "font": {
           "color": "#FFFFFF"
          },
          "showarrow": false,
          "text": "-0.5",
          "x": "Dia",
          "xref": "x",
          "y": "Monto",
          "yref": "y"
         },
         {
          "font": {
           "color": "#FFFFFF"
          },
          "showarrow": false,
          "text": "nan",
          "x": "Mes",
          "xref": "x",
          "y": "Monto",
          "yref": "y"
         },
         {
          "font": {
           "color": "#FFFFFF"
          },
          "showarrow": false,
          "text": "nan",
          "x": "Año",
          "xref": "x",
          "y": "Monto",
          "yref": "y"
         },
         {
          "font": {
           "color": "#FFFFFF"
          },
          "showarrow": false,
          "text": "-0.04",
          "x": "Hora",
          "xref": "x",
          "y": "Monto",
          "yref": "y"
         },
         {
          "font": {
           "color": "#FFFFFF"
          },
          "showarrow": false,
          "text": "-0.23",
          "x": "Minuto",
          "xref": "x",
          "y": "Monto",
          "yref": "y"
         },
         {
          "font": {
           "color": "#FFFFFF"
          },
          "showarrow": false,
          "text": "-0.11",
          "x": "Segundo",
          "xref": "x",
          "y": "Monto",
          "yref": "y"
         },
         {
          "font": {
           "color": "#FFFFFF"
          },
          "showarrow": false,
          "text": "-0.24",
          "x": "Movimientos",
          "xref": "x",
          "y": "Comisión",
          "yref": "y"
         },
         {
          "font": {
           "color": "#FFFFFF"
          },
          "showarrow": false,
          "text": "-0.26",
          "x": "Fecha de solicitud",
          "xref": "x",
          "y": "Comisión",
          "yref": "y"
         },
         {
          "font": {
           "color": "#FFFFFF"
          },
          "showarrow": false,
          "text": "0.68",
          "x": "Tipo de transacción",
          "xref": "x",
          "y": "Comisión",
          "yref": "y"
         },
         {
          "font": {
           "color": "#FFFFFF"
          },
          "showarrow": false,
          "text": "nan",
          "x": "Estado",
          "xref": "x",
          "y": "Comisión",
          "yref": "y"
         },
         {
          "font": {
           "color": "#FFFFFF"
          },
          "showarrow": false,
          "text": "0.68",
          "x": "Signo",
          "xref": "x",
          "y": "Comisión",
          "yref": "y"
         },
         {
          "font": {
           "color": "#FFFFFF"
          },
          "showarrow": false,
          "text": "0.52",
          "x": "Monto",
          "xref": "x",
          "y": "Comisión",
          "yref": "y"
         },
         {
          "font": {
           "color": "#FFFFFF"
          },
          "showarrow": false,
          "text": "1.0",
          "x": "Comisión",
          "xref": "x",
          "y": "Comisión",
          "yref": "y"
         },
         {
          "font": {
           "color": "#FFFFFF"
          },
          "showarrow": false,
          "text": "0.88",
          "x": "Impuesto",
          "xref": "x",
          "y": "Comisión",
          "yref": "y"
         },
         {
          "font": {
           "color": "#FFFFFF"
          },
          "showarrow": false,
          "text": "1.0",
          "x": "Pago",
          "xref": "x",
          "y": "Comisión",
          "yref": "y"
         },
         {
          "font": {
           "color": "#FFFFFF"
          },
          "showarrow": false,
          "text": "0.86",
          "x": "Número de identificación",
          "xref": "x",
          "y": "Comisión",
          "yref": "y"
         },
         {
          "font": {
           "color": "#FFFFFF"
          },
          "showarrow": false,
          "text": "0.68",
          "x": "Número de cliente",
          "xref": "x",
          "y": "Comisión",
          "yref": "y"
         },
         {
          "font": {
           "color": "#FFFFFF"
          },
          "showarrow": false,
          "text": "0.86",
          "x": "Nombre Cliente",
          "xref": "x",
          "y": "Comisión",
          "yref": "y"
         },
         {
          "font": {
           "color": "#FFFFFF"
          },
          "showarrow": false,
          "text": "0.68",
          "x": "Teléfono",
          "xref": "x",
          "y": "Comisión",
          "yref": "y"
         },
         {
          "font": {
           "color": "#FFFFFF"
          },
          "showarrow": false,
          "text": "nan",
          "x": "Nro de tarjeta enmascarado",
          "xref": "x",
          "y": "Comisión",
          "yref": "y"
         },
         {
          "font": {
           "color": "#FFFFFF"
          },
          "showarrow": false,
          "text": "nan",
          "x": "Tipo de tarjeta",
          "xref": "x",
          "y": "Comisión",
          "yref": "y"
         },
         {
          "font": {
           "color": "#FFFFFF"
          },
          "showarrow": false,
          "text": "nan",
          "x": "Descripción",
          "xref": "x",
          "y": "Comisión",
          "yref": "y"
         },
         {
          "font": {
           "color": "#FFFFFF"
          },
          "showarrow": false,
          "text": "nan",
          "x": "Terminal",
          "xref": "x",
          "y": "Comisión",
          "yref": "y"
         },
         {
          "font": {
           "color": "#FFFFFF"
          },
          "showarrow": false,
          "text": "-0.26",
          "x": "Lote",
          "xref": "x",
          "y": "Comisión",
          "yref": "y"
         },
         {
          "font": {
           "color": "#FFFFFF"
          },
          "showarrow": false,
          "text": "-0.25",
          "x": "Recibo",
          "xref": "x",
          "y": "Comisión",
          "yref": "y"
         },
         {
          "font": {
           "color": "#FFFFFF"
          },
          "showarrow": false,
          "text": "nan",
          "x": "Huella del Dispositivo",
          "xref": "x",
          "y": "Comisión",
          "yref": "y"
         },
         {
          "font": {
           "color": "#FFFFFF"
          },
          "showarrow": false,
          "text": "nan",
          "x": "Código de respuesta",
          "xref": "x",
          "y": "Comisión",
          "yref": "y"
         },
         {
          "font": {
           "color": "#FFFFFF"
          },
          "showarrow": false,
          "text": "0.25",
          "x": "Código de autorización",
          "xref": "x",
          "y": "Comisión",
          "yref": "y"
         },
         {
          "font": {
           "color": "#FFFFFF"
          },
          "showarrow": false,
          "text": "-0.25",
          "x": "RRN",
          "xref": "x",
          "y": "Comisión",
          "yref": "y"
         },
         {
          "font": {
           "color": "#FFFFFF"
          },
          "showarrow": false,
          "text": "nan",
          "x": "Código de afiliado",
          "xref": "x",
          "y": "Comisión",
          "yref": "y"
         },
         {
          "font": {
           "color": "#FFFFFF"
          },
          "showarrow": false,
          "text": "nan",
          "x": "Descripción.1",
          "xref": "x",
          "y": "Comisión",
          "yref": "y"
         },
         {
          "font": {
           "color": "#FFFFFF"
          },
          "showarrow": false,
          "text": "-0.62",
          "x": "Saldo Actual",
          "xref": "x",
          "y": "Comisión",
          "yref": "y"
         },
         {
          "font": {
           "color": "#FFFFFF"
          },
          "showarrow": false,
          "text": "-0.26",
          "x": "Dia",
          "xref": "x",
          "y": "Comisión",
          "yref": "y"
         },
         {
          "font": {
           "color": "#FFFFFF"
          },
          "showarrow": false,
          "text": "nan",
          "x": "Mes",
          "xref": "x",
          "y": "Comisión",
          "yref": "y"
         },
         {
          "font": {
           "color": "#FFFFFF"
          },
          "showarrow": false,
          "text": "nan",
          "x": "Año",
          "xref": "x",
          "y": "Comisión",
          "yref": "y"
         },
         {
          "font": {
           "color": "#FFFFFF"
          },
          "showarrow": false,
          "text": "-0.01",
          "x": "Hora",
          "xref": "x",
          "y": "Comisión",
          "yref": "y"
         },
         {
          "font": {
           "color": "#FFFFFF"
          },
          "showarrow": false,
          "text": "-0.11",
          "x": "Minuto",
          "xref": "x",
          "y": "Comisión",
          "yref": "y"
         },
         {
          "font": {
           "color": "#FFFFFF"
          },
          "showarrow": false,
          "text": "-0.05",
          "x": "Segundo",
          "xref": "x",
          "y": "Comisión",
          "yref": "y"
         },
         {
          "font": {
           "color": "#FFFFFF"
          },
          "showarrow": false,
          "text": "-0.32",
          "x": "Movimientos",
          "xref": "x",
          "y": "Impuesto",
          "yref": "y"
         },
         {
          "font": {
           "color": "#FFFFFF"
          },
          "showarrow": false,
          "text": "-0.32",
          "x": "Fecha de solicitud",
          "xref": "x",
          "y": "Impuesto",
          "yref": "y"
         },
         {
          "font": {
           "color": "#FFFFFF"
          },
          "showarrow": false,
          "text": "0.52",
          "x": "Tipo de transacción",
          "xref": "x",
          "y": "Impuesto",
          "yref": "y"
         },
         {
          "font": {
           "color": "#FFFFFF"
          },
          "showarrow": false,
          "text": "nan",
          "x": "Estado",
          "xref": "x",
          "y": "Impuesto",
          "yref": "y"
         },
         {
          "font": {
           "color": "#FFFFFF"
          },
          "showarrow": false,
          "text": "0.52",
          "x": "Signo",
          "xref": "x",
          "y": "Impuesto",
          "yref": "y"
         },
         {
          "font": {
           "color": "#FFFFFF"
          },
          "showarrow": false,
          "text": "0.5",
          "x": "Monto",
          "xref": "x",
          "y": "Impuesto",
          "yref": "y"
         },
         {
          "font": {
           "color": "#FFFFFF"
          },
          "showarrow": false,
          "text": "0.88",
          "x": "Comisión",
          "xref": "x",
          "y": "Impuesto",
          "yref": "y"
         },
         {
          "font": {
           "color": "#FFFFFF"
          },
          "showarrow": false,
          "text": "1.0",
          "x": "Impuesto",
          "xref": "x",
          "y": "Impuesto",
          "yref": "y"
         },
         {
          "font": {
           "color": "#FFFFFF"
          },
          "showarrow": false,
          "text": "0.87",
          "x": "Pago",
          "xref": "x",
          "y": "Impuesto",
          "yref": "y"
         },
         {
          "font": {
           "color": "#FFFFFF"
          },
          "showarrow": false,
          "text": "0.66",
          "x": "Número de identificación",
          "xref": "x",
          "y": "Impuesto",
          "yref": "y"
         },
         {
          "font": {
           "color": "#FFFFFF"
          },
          "showarrow": false,
          "text": "0.52",
          "x": "Número de cliente",
          "xref": "x",
          "y": "Impuesto",
          "yref": "y"
         },
         {
          "font": {
           "color": "#FFFFFF"
          },
          "showarrow": false,
          "text": "0.66",
          "x": "Nombre Cliente",
          "xref": "x",
          "y": "Impuesto",
          "yref": "y"
         },
         {
          "font": {
           "color": "#FFFFFF"
          },
          "showarrow": false,
          "text": "0.52",
          "x": "Teléfono",
          "xref": "x",
          "y": "Impuesto",
          "yref": "y"
         },
         {
          "font": {
           "color": "#FFFFFF"
          },
          "showarrow": false,
          "text": "nan",
          "x": "Nro de tarjeta enmascarado",
          "xref": "x",
          "y": "Impuesto",
          "yref": "y"
         },
         {
          "font": {
           "color": "#FFFFFF"
          },
          "showarrow": false,
          "text": "nan",
          "x": "Tipo de tarjeta",
          "xref": "x",
          "y": "Impuesto",
          "yref": "y"
         },
         {
          "font": {
           "color": "#FFFFFF"
          },
          "showarrow": false,
          "text": "nan",
          "x": "Descripción",
          "xref": "x",
          "y": "Impuesto",
          "yref": "y"
         },
         {
          "font": {
           "color": "#FFFFFF"
          },
          "showarrow": false,
          "text": "nan",
          "x": "Terminal",
          "xref": "x",
          "y": "Impuesto",
          "yref": "y"
         },
         {
          "font": {
           "color": "#FFFFFF"
          },
          "showarrow": false,
          "text": "-0.33",
          "x": "Lote",
          "xref": "x",
          "y": "Impuesto",
          "yref": "y"
         },
         {
          "font": {
           "color": "#FFFFFF"
          },
          "showarrow": false,
          "text": "-0.35",
          "x": "Recibo",
          "xref": "x",
          "y": "Impuesto",
          "yref": "y"
         },
         {
          "font": {
           "color": "#FFFFFF"
          },
          "showarrow": false,
          "text": "nan",
          "x": "Huella del Dispositivo",
          "xref": "x",
          "y": "Impuesto",
          "yref": "y"
         },
         {
          "font": {
           "color": "#FFFFFF"
          },
          "showarrow": false,
          "text": "nan",
          "x": "Código de respuesta",
          "xref": "x",
          "y": "Impuesto",
          "yref": "y"
         },
         {
          "font": {
           "color": "#FFFFFF"
          },
          "showarrow": false,
          "text": "0.3",
          "x": "Código de autorización",
          "xref": "x",
          "y": "Impuesto",
          "yref": "y"
         },
         {
          "font": {
           "color": "#FFFFFF"
          },
          "showarrow": false,
          "text": "-0.35",
          "x": "RRN",
          "xref": "x",
          "y": "Impuesto",
          "yref": "y"
         },
         {
          "font": {
           "color": "#FFFFFF"
          },
          "showarrow": false,
          "text": "nan",
          "x": "Código de afiliado",
          "xref": "x",
          "y": "Impuesto",
          "yref": "y"
         },
         {
          "font": {
           "color": "#FFFFFF"
          },
          "showarrow": false,
          "text": "nan",
          "x": "Descripción.1",
          "xref": "x",
          "y": "Impuesto",
          "yref": "y"
         },
         {
          "font": {
           "color": "#FFFFFF"
          },
          "showarrow": false,
          "text": "-0.49",
          "x": "Saldo Actual",
          "xref": "x",
          "y": "Impuesto",
          "yref": "y"
         },
         {
          "font": {
           "color": "#FFFFFF"
          },
          "showarrow": false,
          "text": "-0.33",
          "x": "Dia",
          "xref": "x",
          "y": "Impuesto",
          "yref": "y"
         },
         {
          "font": {
           "color": "#FFFFFF"
          },
          "showarrow": false,
          "text": "nan",
          "x": "Mes",
          "xref": "x",
          "y": "Impuesto",
          "yref": "y"
         },
         {
          "font": {
           "color": "#FFFFFF"
          },
          "showarrow": false,
          "text": "nan",
          "x": "Año",
          "xref": "x",
          "y": "Impuesto",
          "yref": "y"
         },
         {
          "font": {
           "color": "#FFFFFF"
          },
          "showarrow": false,
          "text": "0.09",
          "x": "Hora",
          "xref": "x",
          "y": "Impuesto",
          "yref": "y"
         },
         {
          "font": {
           "color": "#FFFFFF"
          },
          "showarrow": false,
          "text": "-0.02",
          "x": "Minuto",
          "xref": "x",
          "y": "Impuesto",
          "yref": "y"
         },
         {
          "font": {
           "color": "#FFFFFF"
          },
          "showarrow": false,
          "text": "0.04",
          "x": "Segundo",
          "xref": "x",
          "y": "Impuesto",
          "yref": "y"
         },
         {
          "font": {
           "color": "#FFFFFF"
          },
          "showarrow": false,
          "text": "-0.25",
          "x": "Movimientos",
          "xref": "x",
          "y": "Pago",
          "yref": "y"
         },
         {
          "font": {
           "color": "#FFFFFF"
          },
          "showarrow": false,
          "text": "-0.26",
          "x": "Fecha de solicitud",
          "xref": "x",
          "y": "Pago",
          "yref": "y"
         },
         {
          "font": {
           "color": "#FFFFFF"
          },
          "showarrow": false,
          "text": "0.67",
          "x": "Tipo de transacción",
          "xref": "x",
          "y": "Pago",
          "yref": "y"
         },
         {
          "font": {
           "color": "#FFFFFF"
          },
          "showarrow": false,
          "text": "nan",
          "x": "Estado",
          "xref": "x",
          "y": "Pago",
          "yref": "y"
         },
         {
          "font": {
           "color": "#FFFFFF"
          },
          "showarrow": false,
          "text": "0.67",
          "x": "Signo",
          "xref": "x",
          "y": "Pago",
          "yref": "y"
         },
         {
          "font": {
           "color": "#FFFFFF"
          },
          "showarrow": false,
          "text": "0.53",
          "x": "Monto",
          "xref": "x",
          "y": "Pago",
          "yref": "y"
         },
         {
          "font": {
           "color": "#FFFFFF"
          },
          "showarrow": false,
          "text": "1.0",
          "x": "Comisión",
          "xref": "x",
          "y": "Pago",
          "yref": "y"
         },
         {
          "font": {
           "color": "#FFFFFF"
          },
          "showarrow": false,
          "text": "0.87",
          "x": "Impuesto",
          "xref": "x",
          "y": "Pago",
          "yref": "y"
         },
         {
          "font": {
           "color": "#FFFFFF"
          },
          "showarrow": false,
          "text": "1.0",
          "x": "Pago",
          "xref": "x",
          "y": "Pago",
          "yref": "y"
         },
         {
          "font": {
           "color": "#FFFFFF"
          },
          "showarrow": false,
          "text": "0.85",
          "x": "Número de identificación",
          "xref": "x",
          "y": "Pago",
          "yref": "y"
         },
         {
          "font": {
           "color": "#FFFFFF"
          },
          "showarrow": false,
          "text": "0.67",
          "x": "Número de cliente",
          "xref": "x",
          "y": "Pago",
          "yref": "y"
         },
         {
          "font": {
           "color": "#FFFFFF"
          },
          "showarrow": false,
          "text": "0.85",
          "x": "Nombre Cliente",
          "xref": "x",
          "y": "Pago",
          "yref": "y"
         },
         {
          "font": {
           "color": "#FFFFFF"
          },
          "showarrow": false,
          "text": "0.67",
          "x": "Teléfono",
          "xref": "x",
          "y": "Pago",
          "yref": "y"
         },
         {
          "font": {
           "color": "#FFFFFF"
          },
          "showarrow": false,
          "text": "nan",
          "x": "Nro de tarjeta enmascarado",
          "xref": "x",
          "y": "Pago",
          "yref": "y"
         },
         {
          "font": {
           "color": "#FFFFFF"
          },
          "showarrow": false,
          "text": "nan",
          "x": "Tipo de tarjeta",
          "xref": "x",
          "y": "Pago",
          "yref": "y"
         },
         {
          "font": {
           "color": "#FFFFFF"
          },
          "showarrow": false,
          "text": "nan",
          "x": "Descripción",
          "xref": "x",
          "y": "Pago",
          "yref": "y"
         },
         {
          "font": {
           "color": "#FFFFFF"
          },
          "showarrow": false,
          "text": "nan",
          "x": "Terminal",
          "xref": "x",
          "y": "Pago",
          "yref": "y"
         },
         {
          "font": {
           "color": "#FFFFFF"
          },
          "showarrow": false,
          "text": "-0.26",
          "x": "Lote",
          "xref": "x",
          "y": "Pago",
          "yref": "y"
         },
         {
          "font": {
           "color": "#FFFFFF"
          },
          "showarrow": false,
          "text": "-0.25",
          "x": "Recibo",
          "xref": "x",
          "y": "Pago",
          "yref": "y"
         },
         {
          "font": {
           "color": "#FFFFFF"
          },
          "showarrow": false,
          "text": "nan",
          "x": "Huella del Dispositivo",
          "xref": "x",
          "y": "Pago",
          "yref": "y"
         },
         {
          "font": {
           "color": "#FFFFFF"
          },
          "showarrow": false,
          "text": "nan",
          "x": "Código de respuesta",
          "xref": "x",
          "y": "Pago",
          "yref": "y"
         },
         {
          "font": {
           "color": "#FFFFFF"
          },
          "showarrow": false,
          "text": "0.25",
          "x": "Código de autorización",
          "xref": "x",
          "y": "Pago",
          "yref": "y"
         },
         {
          "font": {
           "color": "#FFFFFF"
          },
          "showarrow": false,
          "text": "-0.25",
          "x": "RRN",
          "xref": "x",
          "y": "Pago",
          "yref": "y"
         },
         {
          "font": {
           "color": "#FFFFFF"
          },
          "showarrow": false,
          "text": "nan",
          "x": "Código de afiliado",
          "xref": "x",
          "y": "Pago",
          "yref": "y"
         },
         {
          "font": {
           "color": "#FFFFFF"
          },
          "showarrow": false,
          "text": "nan",
          "x": "Descripción.1",
          "xref": "x",
          "y": "Pago",
          "yref": "y"
         },
         {
          "font": {
           "color": "#FFFFFF"
          },
          "showarrow": false,
          "text": "-0.63",
          "x": "Saldo Actual",
          "xref": "x",
          "y": "Pago",
          "yref": "y"
         },
         {
          "font": {
           "color": "#FFFFFF"
          },
          "showarrow": false,
          "text": "-0.26",
          "x": "Dia",
          "xref": "x",
          "y": "Pago",
          "yref": "y"
         },
         {
          "font": {
           "color": "#FFFFFF"
          },
          "showarrow": false,
          "text": "nan",
          "x": "Mes",
          "xref": "x",
          "y": "Pago",
          "yref": "y"
         },
         {
          "font": {
           "color": "#FFFFFF"
          },
          "showarrow": false,
          "text": "nan",
          "x": "Año",
          "xref": "x",
          "y": "Pago",
          "yref": "y"
         },
         {
          "font": {
           "color": "#FFFFFF"
          },
          "showarrow": false,
          "text": "-0.02",
          "x": "Hora",
          "xref": "x",
          "y": "Pago",
          "yref": "y"
         },
         {
          "font": {
           "color": "#FFFFFF"
          },
          "showarrow": false,
          "text": "-0.12",
          "x": "Minuto",
          "xref": "x",
          "y": "Pago",
          "yref": "y"
         },
         {
          "font": {
           "color": "#FFFFFF"
          },
          "showarrow": false,
          "text": "-0.06",
          "x": "Segundo",
          "xref": "x",
          "y": "Pago",
          "yref": "y"
         },
         {
          "font": {
           "color": "#FFFFFF"
          },
          "showarrow": false,
          "text": "-0.07",
          "x": "Movimientos",
          "xref": "x",
          "y": "Número de identificación",
          "yref": "y"
         },
         {
          "font": {
           "color": "#FFFFFF"
          },
          "showarrow": false,
          "text": "-0.08",
          "x": "Fecha de solicitud",
          "xref": "x",
          "y": "Número de identificación",
          "yref": "y"
         },
         {
          "font": {
           "color": "#FFFFFF"
          },
          "showarrow": false,
          "text": "0.95",
          "x": "Tipo de transacción",
          "xref": "x",
          "y": "Número de identificación",
          "yref": "y"
         },
         {
          "font": {
           "color": "#FFFFFF"
          },
          "showarrow": false,
          "text": "nan",
          "x": "Estado",
          "xref": "x",
          "y": "Número de identificación",
          "yref": "y"
         },
         {
          "font": {
           "color": "#FFFFFF"
          },
          "showarrow": false,
          "text": "0.95",
          "x": "Signo",
          "xref": "x",
          "y": "Número de identificación",
          "yref": "y"
         },
         {
          "font": {
           "color": "#FFFFFF"
          },
          "showarrow": false,
          "text": "0.21",
          "x": "Monto",
          "xref": "x",
          "y": "Número de identificación",
          "yref": "y"
         },
         {
          "font": {
           "color": "#FFFFFF"
          },
          "showarrow": false,
          "text": "0.86",
          "x": "Comisión",
          "xref": "x",
          "y": "Número de identificación",
          "yref": "y"
         },
         {
          "font": {
           "color": "#FFFFFF"
          },
          "showarrow": false,
          "text": "0.66",
          "x": "Impuesto",
          "xref": "x",
          "y": "Número de identificación",
          "yref": "y"
         },
         {
          "font": {
           "color": "#FFFFFF"
          },
          "showarrow": false,
          "text": "0.85",
          "x": "Pago",
          "xref": "x",
          "y": "Número de identificación",
          "yref": "y"
         },
         {
          "font": {
           "color": "#FFFFFF"
          },
          "showarrow": false,
          "text": "1.0",
          "x": "Número de identificación",
          "xref": "x",
          "y": "Número de identificación",
          "yref": "y"
         },
         {
          "font": {
           "color": "#FFFFFF"
          },
          "showarrow": false,
          "text": "0.95",
          "x": "Número de cliente",
          "xref": "x",
          "y": "Número de identificación",
          "yref": "y"
         },
         {
          "font": {
           "color": "#FFFFFF"
          },
          "showarrow": false,
          "text": "1.0",
          "x": "Nombre Cliente",
          "xref": "x",
          "y": "Número de identificación",
          "yref": "y"
         },
         {
          "font": {
           "color": "#FFFFFF"
          },
          "showarrow": false,
          "text": "0.95",
          "x": "Teléfono",
          "xref": "x",
          "y": "Número de identificación",
          "yref": "y"
         },
         {
          "font": {
           "color": "#FFFFFF"
          },
          "showarrow": false,
          "text": "nan",
          "x": "Nro de tarjeta enmascarado",
          "xref": "x",
          "y": "Número de identificación",
          "yref": "y"
         },
         {
          "font": {
           "color": "#FFFFFF"
          },
          "showarrow": false,
          "text": "nan",
          "x": "Tipo de tarjeta",
          "xref": "x",
          "y": "Número de identificación",
          "yref": "y"
         },
         {
          "font": {
           "color": "#FFFFFF"
          },
          "showarrow": false,
          "text": "nan",
          "x": "Descripción",
          "xref": "x",
          "y": "Número de identificación",
          "yref": "y"
         },
         {
          "font": {
           "color": "#FFFFFF"
          },
          "showarrow": false,
          "text": "nan",
          "x": "Terminal",
          "xref": "x",
          "y": "Número de identificación",
          "yref": "y"
         },
         {
          "font": {
           "color": "#FFFFFF"
          },
          "showarrow": false,
          "text": "-0.08",
          "x": "Lote",
          "xref": "x",
          "y": "Número de identificación",
          "yref": "y"
         },
         {
          "font": {
           "color": "#FFFFFF"
          },
          "showarrow": false,
          "text": "-0.07",
          "x": "Recibo",
          "xref": "x",
          "y": "Número de identificación",
          "yref": "y"
         },
         {
          "font": {
           "color": "#FFFFFF"
          },
          "showarrow": false,
          "text": "nan",
          "x": "Huella del Dispositivo",
          "xref": "x",
          "y": "Número de identificación",
          "yref": "y"
         },
         {
          "font": {
           "color": "#FFFFFF"
          },
          "showarrow": false,
          "text": "nan",
          "x": "Código de respuesta",
          "xref": "x",
          "y": "Número de identificación",
          "yref": "y"
         },
         {
          "font": {
           "color": "#FFFFFF"
          },
          "showarrow": false,
          "text": "0.34",
          "x": "Código de autorización",
          "xref": "x",
          "y": "Número de identificación",
          "yref": "y"
         },
         {
          "font": {
           "color": "#FFFFFF"
          },
          "showarrow": false,
          "text": "-0.07",
          "x": "RRN",
          "xref": "x",
          "y": "Número de identificación",
          "yref": "y"
         },
         {
          "font": {
           "color": "#FFFFFF"
          },
          "showarrow": false,
          "text": "nan",
          "x": "Código de afiliado",
          "xref": "x",
          "y": "Número de identificación",
          "yref": "y"
         },
         {
          "font": {
           "color": "#FFFFFF"
          },
          "showarrow": false,
          "text": "nan",
          "x": "Descripción.1",
          "xref": "x",
          "y": "Número de identificación",
          "yref": "y"
         },
         {
          "font": {
           "color": "#FFFFFF"
          },
          "showarrow": false,
          "text": "-0.23",
          "x": "Saldo Actual",
          "xref": "x",
          "y": "Número de identificación",
          "yref": "y"
         },
         {
          "font": {
           "color": "#FFFFFF"
          },
          "showarrow": false,
          "text": "-0.08",
          "x": "Dia",
          "xref": "x",
          "y": "Número de identificación",
          "yref": "y"
         },
         {
          "font": {
           "color": "#FFFFFF"
          },
          "showarrow": false,
          "text": "nan",
          "x": "Mes",
          "xref": "x",
          "y": "Número de identificación",
          "yref": "y"
         },
         {
          "font": {
           "color": "#FFFFFF"
          },
          "showarrow": false,
          "text": "nan",
          "x": "Año",
          "xref": "x",
          "y": "Número de identificación",
          "yref": "y"
         },
         {
          "font": {
           "color": "#FFFFFF"
          },
          "showarrow": false,
          "text": "-0.02",
          "x": "Hora",
          "xref": "x",
          "y": "Número de identificación",
          "yref": "y"
         },
         {
          "font": {
           "color": "#FFFFFF"
          },
          "showarrow": false,
          "text": "-0.04",
          "x": "Minuto",
          "xref": "x",
          "y": "Número de identificación",
          "yref": "y"
         },
         {
          "font": {
           "color": "#FFFFFF"
          },
          "showarrow": false,
          "text": "-0.01",
          "x": "Segundo",
          "xref": "x",
          "y": "Número de identificación",
          "yref": "y"
         },
         {
          "font": {
           "color": "#FFFFFF"
          },
          "showarrow": false,
          "text": "-0.0",
          "x": "Movimientos",
          "xref": "x",
          "y": "Número de cliente",
          "yref": "y"
         },
         {
          "font": {
           "color": "#FFFFFF"
          },
          "showarrow": false,
          "text": "-0.0",
          "x": "Fecha de solicitud",
          "xref": "x",
          "y": "Número de cliente",
          "yref": "y"
         },
         {
          "font": {
           "color": "#FFFFFF"
          },
          "showarrow": false,
          "text": "1.0",
          "x": "Tipo de transacción",
          "xref": "x",
          "y": "Número de cliente",
          "yref": "y"
         },
         {
          "font": {
           "color": "#FFFFFF"
          },
          "showarrow": false,
          "text": "nan",
          "x": "Estado",
          "xref": "x",
          "y": "Número de cliente",
          "yref": "y"
         },
         {
          "font": {
           "color": "#FFFFFF"
          },
          "showarrow": false,
          "text": "1.0",
          "x": "Signo",
          "xref": "x",
          "y": "Número de cliente",
          "yref": "y"
         },
         {
          "font": {
           "color": "#FFFFFF"
          },
          "showarrow": false,
          "text": "0.0",
          "x": "Monto",
          "xref": "x",
          "y": "Número de cliente",
          "yref": "y"
         },
         {
          "font": {
           "color": "#FFFFFF"
          },
          "showarrow": false,
          "text": "0.68",
          "x": "Comisión",
          "xref": "x",
          "y": "Número de cliente",
          "yref": "y"
         },
         {
          "font": {
           "color": "#FFFFFF"
          },
          "showarrow": false,
          "text": "0.52",
          "x": "Impuesto",
          "xref": "x",
          "y": "Número de cliente",
          "yref": "y"
         },
         {
          "font": {
           "color": "#FFFFFF"
          },
          "showarrow": false,
          "text": "0.67",
          "x": "Pago",
          "xref": "x",
          "y": "Número de cliente",
          "yref": "y"
         },
         {
          "font": {
           "color": "#FFFFFF"
          },
          "showarrow": false,
          "text": "0.95",
          "x": "Número de identificación",
          "xref": "x",
          "y": "Número de cliente",
          "yref": "y"
         },
         {
          "font": {
           "color": "#FFFFFF"
          },
          "showarrow": false,
          "text": "1.0",
          "x": "Número de cliente",
          "xref": "x",
          "y": "Número de cliente",
          "yref": "y"
         },
         {
          "font": {
           "color": "#FFFFFF"
          },
          "showarrow": false,
          "text": "0.95",
          "x": "Nombre Cliente",
          "xref": "x",
          "y": "Número de cliente",
          "yref": "y"
         },
         {
          "font": {
           "color": "#FFFFFF"
          },
          "showarrow": false,
          "text": "1.0",
          "x": "Teléfono",
          "xref": "x",
          "y": "Número de cliente",
          "yref": "y"
         },
         {
          "font": {
           "color": "#FFFFFF"
          },
          "showarrow": false,
          "text": "nan",
          "x": "Nro de tarjeta enmascarado",
          "xref": "x",
          "y": "Número de cliente",
          "yref": "y"
         },
         {
          "font": {
           "color": "#FFFFFF"
          },
          "showarrow": false,
          "text": "nan",
          "x": "Tipo de tarjeta",
          "xref": "x",
          "y": "Número de cliente",
          "yref": "y"
         },
         {
          "font": {
           "color": "#FFFFFF"
          },
          "showarrow": false,
          "text": "nan",
          "x": "Descripción",
          "xref": "x",
          "y": "Número de cliente",
          "yref": "y"
         },
         {
          "font": {
           "color": "#FFFFFF"
          },
          "showarrow": false,
          "text": "nan",
          "x": "Terminal",
          "xref": "x",
          "y": "Número de cliente",
          "yref": "y"
         },
         {
          "font": {
           "color": "#FFFFFF"
          },
          "showarrow": false,
          "text": "-0.0",
          "x": "Lote",
          "xref": "x",
          "y": "Número de cliente",
          "yref": "y"
         },
         {
          "font": {
           "color": "#FFFFFF"
          },
          "showarrow": false,
          "text": "-0.0",
          "x": "Recibo",
          "xref": "x",
          "y": "Número de cliente",
          "yref": "y"
         },
         {
          "font": {
           "color": "#FFFFFF"
          },
          "showarrow": false,
          "text": "nan",
          "x": "Huella del Dispositivo",
          "xref": "x",
          "y": "Número de cliente",
          "yref": "y"
         },
         {
          "font": {
           "color": "#FFFFFF"
          },
          "showarrow": false,
          "text": "nan",
          "x": "Código de respuesta",
          "xref": "x",
          "y": "Número de cliente",
          "yref": "y"
         },
         {
          "font": {
           "color": "#FFFFFF"
          },
          "showarrow": false,
          "text": "0.43",
          "x": "Código de autorización",
          "xref": "x",
          "y": "Número de cliente",
          "yref": "y"
         },
         {
          "font": {
           "color": "#FFFFFF"
          },
          "showarrow": false,
          "text": "-0.0",
          "x": "RRN",
          "xref": "x",
          "y": "Número de cliente",
          "yref": "y"
         },
         {
          "font": {
           "color": "#FFFFFF"
          },
          "showarrow": false,
          "text": "nan",
          "x": "Código de afiliado",
          "xref": "x",
          "y": "Número de cliente",
          "yref": "y"
         },
         {
          "font": {
           "color": "#FFFFFF"
          },
          "showarrow": false,
          "text": "nan",
          "x": "Descripción.1",
          "xref": "x",
          "y": "Número de cliente",
          "yref": "y"
         },
         {
          "font": {
           "color": "#FFFFFF"
          },
          "showarrow": false,
          "text": "0.09",
          "x": "Saldo Actual",
          "xref": "x",
          "y": "Número de cliente",
          "yref": "y"
         },
         {
          "font": {
           "color": "#FFFFFF"
          },
          "showarrow": false,
          "text": "-0.0",
          "x": "Dia",
          "xref": "x",
          "y": "Número de cliente",
          "yref": "y"
         },
         {
          "font": {
           "color": "#FFFFFF"
          },
          "showarrow": false,
          "text": "nan",
          "x": "Mes",
          "xref": "x",
          "y": "Número de cliente",
          "yref": "y"
         },
         {
          "font": {
           "color": "#FFFFFF"
          },
          "showarrow": false,
          "text": "nan",
          "x": "Año",
          "xref": "x",
          "y": "Número de cliente",
          "yref": "y"
         },
         {
          "font": {
           "color": "#FFFFFF"
          },
          "showarrow": false,
          "text": "-0.0",
          "x": "Hora",
          "xref": "x",
          "y": "Número de cliente",
          "yref": "y"
         },
         {
          "font": {
           "color": "#FFFFFF"
          },
          "showarrow": false,
          "text": "-0.0",
          "x": "Minuto",
          "xref": "x",
          "y": "Número de cliente",
          "yref": "y"
         },
         {
          "font": {
           "color": "#FFFFFF"
          },
          "showarrow": false,
          "text": "-0.0",
          "x": "Segundo",
          "xref": "x",
          "y": "Número de cliente",
          "yref": "y"
         },
         {
          "font": {
           "color": "#FFFFFF"
          },
          "showarrow": false,
          "text": "-0.07",
          "x": "Movimientos",
          "xref": "x",
          "y": "Nombre Cliente",
          "yref": "y"
         },
         {
          "font": {
           "color": "#FFFFFF"
          },
          "showarrow": false,
          "text": "-0.08",
          "x": "Fecha de solicitud",
          "xref": "x",
          "y": "Nombre Cliente",
          "yref": "y"
         },
         {
          "font": {
           "color": "#FFFFFF"
          },
          "showarrow": false,
          "text": "0.95",
          "x": "Tipo de transacción",
          "xref": "x",
          "y": "Nombre Cliente",
          "yref": "y"
         },
         {
          "font": {
           "color": "#FFFFFF"
          },
          "showarrow": false,
          "text": "nan",
          "x": "Estado",
          "xref": "x",
          "y": "Nombre Cliente",
          "yref": "y"
         },
         {
          "font": {
           "color": "#FFFFFF"
          },
          "showarrow": false,
          "text": "0.95",
          "x": "Signo",
          "xref": "x",
          "y": "Nombre Cliente",
          "yref": "y"
         },
         {
          "font": {
           "color": "#FFFFFF"
          },
          "showarrow": false,
          "text": "0.21",
          "x": "Monto",
          "xref": "x",
          "y": "Nombre Cliente",
          "yref": "y"
         },
         {
          "font": {
           "color": "#FFFFFF"
          },
          "showarrow": false,
          "text": "0.86",
          "x": "Comisión",
          "xref": "x",
          "y": "Nombre Cliente",
          "yref": "y"
         },
         {
          "font": {
           "color": "#FFFFFF"
          },
          "showarrow": false,
          "text": "0.66",
          "x": "Impuesto",
          "xref": "x",
          "y": "Nombre Cliente",
          "yref": "y"
         },
         {
          "font": {
           "color": "#FFFFFF"
          },
          "showarrow": false,
          "text": "0.85",
          "x": "Pago",
          "xref": "x",
          "y": "Nombre Cliente",
          "yref": "y"
         },
         {
          "font": {
           "color": "#FFFFFF"
          },
          "showarrow": false,
          "text": "1.0",
          "x": "Número de identificación",
          "xref": "x",
          "y": "Nombre Cliente",
          "yref": "y"
         },
         {
          "font": {
           "color": "#FFFFFF"
          },
          "showarrow": false,
          "text": "0.95",
          "x": "Número de cliente",
          "xref": "x",
          "y": "Nombre Cliente",
          "yref": "y"
         },
         {
          "font": {
           "color": "#FFFFFF"
          },
          "showarrow": false,
          "text": "1.0",
          "x": "Nombre Cliente",
          "xref": "x",
          "y": "Nombre Cliente",
          "yref": "y"
         },
         {
          "font": {
           "color": "#FFFFFF"
          },
          "showarrow": false,
          "text": "0.95",
          "x": "Teléfono",
          "xref": "x",
          "y": "Nombre Cliente",
          "yref": "y"
         },
         {
          "font": {
           "color": "#FFFFFF"
          },
          "showarrow": false,
          "text": "nan",
          "x": "Nro de tarjeta enmascarado",
          "xref": "x",
          "y": "Nombre Cliente",
          "yref": "y"
         },
         {
          "font": {
           "color": "#FFFFFF"
          },
          "showarrow": false,
          "text": "nan",
          "x": "Tipo de tarjeta",
          "xref": "x",
          "y": "Nombre Cliente",
          "yref": "y"
         },
         {
          "font": {
           "color": "#FFFFFF"
          },
          "showarrow": false,
          "text": "nan",
          "x": "Descripción",
          "xref": "x",
          "y": "Nombre Cliente",
          "yref": "y"
         },
         {
          "font": {
           "color": "#FFFFFF"
          },
          "showarrow": false,
          "text": "nan",
          "x": "Terminal",
          "xref": "x",
          "y": "Nombre Cliente",
          "yref": "y"
         },
         {
          "font": {
           "color": "#FFFFFF"
          },
          "showarrow": false,
          "text": "-0.08",
          "x": "Lote",
          "xref": "x",
          "y": "Nombre Cliente",
          "yref": "y"
         },
         {
          "font": {
           "color": "#FFFFFF"
          },
          "showarrow": false,
          "text": "-0.07",
          "x": "Recibo",
          "xref": "x",
          "y": "Nombre Cliente",
          "yref": "y"
         },
         {
          "font": {
           "color": "#FFFFFF"
          },
          "showarrow": false,
          "text": "nan",
          "x": "Huella del Dispositivo",
          "xref": "x",
          "y": "Nombre Cliente",
          "yref": "y"
         },
         {
          "font": {
           "color": "#FFFFFF"
          },
          "showarrow": false,
          "text": "nan",
          "x": "Código de respuesta",
          "xref": "x",
          "y": "Nombre Cliente",
          "yref": "y"
         },
         {
          "font": {
           "color": "#FFFFFF"
          },
          "showarrow": false,
          "text": "0.34",
          "x": "Código de autorización",
          "xref": "x",
          "y": "Nombre Cliente",
          "yref": "y"
         },
         {
          "font": {
           "color": "#FFFFFF"
          },
          "showarrow": false,
          "text": "-0.07",
          "x": "RRN",
          "xref": "x",
          "y": "Nombre Cliente",
          "yref": "y"
         },
         {
          "font": {
           "color": "#FFFFFF"
          },
          "showarrow": false,
          "text": "nan",
          "x": "Código de afiliado",
          "xref": "x",
          "y": "Nombre Cliente",
          "yref": "y"
         },
         {
          "font": {
           "color": "#FFFFFF"
          },
          "showarrow": false,
          "text": "nan",
          "x": "Descripción.1",
          "xref": "x",
          "y": "Nombre Cliente",
          "yref": "y"
         },
         {
          "font": {
           "color": "#FFFFFF"
          },
          "showarrow": false,
          "text": "-0.23",
          "x": "Saldo Actual",
          "xref": "x",
          "y": "Nombre Cliente",
          "yref": "y"
         },
         {
          "font": {
           "color": "#FFFFFF"
          },
          "showarrow": false,
          "text": "-0.08",
          "x": "Dia",
          "xref": "x",
          "y": "Nombre Cliente",
          "yref": "y"
         },
         {
          "font": {
           "color": "#FFFFFF"
          },
          "showarrow": false,
          "text": "nan",
          "x": "Mes",
          "xref": "x",
          "y": "Nombre Cliente",
          "yref": "y"
         },
         {
          "font": {
           "color": "#FFFFFF"
          },
          "showarrow": false,
          "text": "nan",
          "x": "Año",
          "xref": "x",
          "y": "Nombre Cliente",
          "yref": "y"
         },
         {
          "font": {
           "color": "#FFFFFF"
          },
          "showarrow": false,
          "text": "-0.02",
          "x": "Hora",
          "xref": "x",
          "y": "Nombre Cliente",
          "yref": "y"
         },
         {
          "font": {
           "color": "#FFFFFF"
          },
          "showarrow": false,
          "text": "-0.04",
          "x": "Minuto",
          "xref": "x",
          "y": "Nombre Cliente",
          "yref": "y"
         },
         {
          "font": {
           "color": "#FFFFFF"
          },
          "showarrow": false,
          "text": "-0.01",
          "x": "Segundo",
          "xref": "x",
          "y": "Nombre Cliente",
          "yref": "y"
         },
         {
          "font": {
           "color": "#FFFFFF"
          },
          "showarrow": false,
          "text": "0.0",
          "x": "Movimientos",
          "xref": "x",
          "y": "Teléfono",
          "yref": "y"
         },
         {
          "font": {
           "color": "#FFFFFF"
          },
          "showarrow": false,
          "text": "0.0",
          "x": "Fecha de solicitud",
          "xref": "x",
          "y": "Teléfono",
          "yref": "y"
         },
         {
          "font": {
           "color": "#FFFFFF"
          },
          "showarrow": false,
          "text": "1.0",
          "x": "Tipo de transacción",
          "xref": "x",
          "y": "Teléfono",
          "yref": "y"
         },
         {
          "font": {
           "color": "#FFFFFF"
          },
          "showarrow": false,
          "text": "nan",
          "x": "Estado",
          "xref": "x",
          "y": "Teléfono",
          "yref": "y"
         },
         {
          "font": {
           "color": "#FFFFFF"
          },
          "showarrow": false,
          "text": "1.0",
          "x": "Signo",
          "xref": "x",
          "y": "Teléfono",
          "yref": "y"
         },
         {
          "font": {
           "color": "#FFFFFF"
          },
          "showarrow": false,
          "text": "-0.0",
          "x": "Monto",
          "xref": "x",
          "y": "Teléfono",
          "yref": "y"
         },
         {
          "font": {
           "color": "#FFFFFF"
          },
          "showarrow": false,
          "text": "0.68",
          "x": "Comisión",
          "xref": "x",
          "y": "Teléfono",
          "yref": "y"
         },
         {
          "font": {
           "color": "#FFFFFF"
          },
          "showarrow": false,
          "text": "0.52",
          "x": "Impuesto",
          "xref": "x",
          "y": "Teléfono",
          "yref": "y"
         },
         {
          "font": {
           "color": "#FFFFFF"
          },
          "showarrow": false,
          "text": "0.67",
          "x": "Pago",
          "xref": "x",
          "y": "Teléfono",
          "yref": "y"
         },
         {
          "font": {
           "color": "#FFFFFF"
          },
          "showarrow": false,
          "text": "0.95",
          "x": "Número de identificación",
          "xref": "x",
          "y": "Teléfono",
          "yref": "y"
         },
         {
          "font": {
           "color": "#FFFFFF"
          },
          "showarrow": false,
          "text": "1.0",
          "x": "Número de cliente",
          "xref": "x",
          "y": "Teléfono",
          "yref": "y"
         },
         {
          "font": {
           "color": "#FFFFFF"
          },
          "showarrow": false,
          "text": "0.95",
          "x": "Nombre Cliente",
          "xref": "x",
          "y": "Teléfono",
          "yref": "y"
         },
         {
          "font": {
           "color": "#FFFFFF"
          },
          "showarrow": false,
          "text": "1.0",
          "x": "Teléfono",
          "xref": "x",
          "y": "Teléfono",
          "yref": "y"
         },
         {
          "font": {
           "color": "#FFFFFF"
          },
          "showarrow": false,
          "text": "nan",
          "x": "Nro de tarjeta enmascarado",
          "xref": "x",
          "y": "Teléfono",
          "yref": "y"
         },
         {
          "font": {
           "color": "#FFFFFF"
          },
          "showarrow": false,
          "text": "nan",
          "x": "Tipo de tarjeta",
          "xref": "x",
          "y": "Teléfono",
          "yref": "y"
         },
         {
          "font": {
           "color": "#FFFFFF"
          },
          "showarrow": false,
          "text": "nan",
          "x": "Descripción",
          "xref": "x",
          "y": "Teléfono",
          "yref": "y"
         },
         {
          "font": {
           "color": "#FFFFFF"
          },
          "showarrow": false,
          "text": "nan",
          "x": "Terminal",
          "xref": "x",
          "y": "Teléfono",
          "yref": "y"
         },
         {
          "font": {
           "color": "#FFFFFF"
          },
          "showarrow": false,
          "text": "0.0",
          "x": "Lote",
          "xref": "x",
          "y": "Teléfono",
          "yref": "y"
         },
         {
          "font": {
           "color": "#FFFFFF"
          },
          "showarrow": false,
          "text": "0.0",
          "x": "Recibo",
          "xref": "x",
          "y": "Teléfono",
          "yref": "y"
         },
         {
          "font": {
           "color": "#FFFFFF"
          },
          "showarrow": false,
          "text": "nan",
          "x": "Huella del Dispositivo",
          "xref": "x",
          "y": "Teléfono",
          "yref": "y"
         },
         {
          "font": {
           "color": "#FFFFFF"
          },
          "showarrow": false,
          "text": "nan",
          "x": "Código de respuesta",
          "xref": "x",
          "y": "Teléfono",
          "yref": "y"
         },
         {
          "font": {
           "color": "#FFFFFF"
          },
          "showarrow": false,
          "text": "0.43",
          "x": "Código de autorización",
          "xref": "x",
          "y": "Teléfono",
          "yref": "y"
         },
         {
          "font": {
           "color": "#FFFFFF"
          },
          "showarrow": false,
          "text": "0.0",
          "x": "RRN",
          "xref": "x",
          "y": "Teléfono",
          "yref": "y"
         },
         {
          "font": {
           "color": "#FFFFFF"
          },
          "showarrow": false,
          "text": "nan",
          "x": "Código de afiliado",
          "xref": "x",
          "y": "Teléfono",
          "yref": "y"
         },
         {
          "font": {
           "color": "#FFFFFF"
          },
          "showarrow": false,
          "text": "nan",
          "x": "Descripción.1",
          "xref": "x",
          "y": "Teléfono",
          "yref": "y"
         },
         {
          "font": {
           "color": "#FFFFFF"
          },
          "showarrow": false,
          "text": "0.09",
          "x": "Saldo Actual",
          "xref": "x",
          "y": "Teléfono",
          "yref": "y"
         },
         {
          "font": {
           "color": "#FFFFFF"
          },
          "showarrow": false,
          "text": "0.0",
          "x": "Dia",
          "xref": "x",
          "y": "Teléfono",
          "yref": "y"
         },
         {
          "font": {
           "color": "#FFFFFF"
          },
          "showarrow": false,
          "text": "nan",
          "x": "Mes",
          "xref": "x",
          "y": "Teléfono",
          "yref": "y"
         },
         {
          "font": {
           "color": "#FFFFFF"
          },
          "showarrow": false,
          "text": "nan",
          "x": "Año",
          "xref": "x",
          "y": "Teléfono",
          "yref": "y"
         },
         {
          "font": {
           "color": "#FFFFFF"
          },
          "showarrow": false,
          "text": "0.0",
          "x": "Hora",
          "xref": "x",
          "y": "Teléfono",
          "yref": "y"
         },
         {
          "font": {
           "color": "#FFFFFF"
          },
          "showarrow": false,
          "text": "0.0",
          "x": "Minuto",
          "xref": "x",
          "y": "Teléfono",
          "yref": "y"
         },
         {
          "font": {
           "color": "#FFFFFF"
          },
          "showarrow": false,
          "text": "0.0",
          "x": "Segundo",
          "xref": "x",
          "y": "Teléfono",
          "yref": "y"
         },
         {
          "font": {
           "color": "#FFFFFF"
          },
          "showarrow": false,
          "text": "nan",
          "x": "Movimientos",
          "xref": "x",
          "y": "Nro de tarjeta enmascarado",
          "yref": "y"
         },
         {
          "font": {
           "color": "#FFFFFF"
          },
          "showarrow": false,
          "text": "nan",
          "x": "Fecha de solicitud",
          "xref": "x",
          "y": "Nro de tarjeta enmascarado",
          "yref": "y"
         },
         {
          "font": {
           "color": "#FFFFFF"
          },
          "showarrow": false,
          "text": "nan",
          "x": "Tipo de transacción",
          "xref": "x",
          "y": "Nro de tarjeta enmascarado",
          "yref": "y"
         },
         {
          "font": {
           "color": "#FFFFFF"
          },
          "showarrow": false,
          "text": "nan",
          "x": "Estado",
          "xref": "x",
          "y": "Nro de tarjeta enmascarado",
          "yref": "y"
         },
         {
          "font": {
           "color": "#FFFFFF"
          },
          "showarrow": false,
          "text": "nan",
          "x": "Signo",
          "xref": "x",
          "y": "Nro de tarjeta enmascarado",
          "yref": "y"
         },
         {
          "font": {
           "color": "#FFFFFF"
          },
          "showarrow": false,
          "text": "nan",
          "x": "Monto",
          "xref": "x",
          "y": "Nro de tarjeta enmascarado",
          "yref": "y"
         },
         {
          "font": {
           "color": "#FFFFFF"
          },
          "showarrow": false,
          "text": "nan",
          "x": "Comisión",
          "xref": "x",
          "y": "Nro de tarjeta enmascarado",
          "yref": "y"
         },
         {
          "font": {
           "color": "#FFFFFF"
          },
          "showarrow": false,
          "text": "nan",
          "x": "Impuesto",
          "xref": "x",
          "y": "Nro de tarjeta enmascarado",
          "yref": "y"
         },
         {
          "font": {
           "color": "#FFFFFF"
          },
          "showarrow": false,
          "text": "nan",
          "x": "Pago",
          "xref": "x",
          "y": "Nro de tarjeta enmascarado",
          "yref": "y"
         },
         {
          "font": {
           "color": "#FFFFFF"
          },
          "showarrow": false,
          "text": "nan",
          "x": "Número de identificación",
          "xref": "x",
          "y": "Nro de tarjeta enmascarado",
          "yref": "y"
         },
         {
          "font": {
           "color": "#FFFFFF"
          },
          "showarrow": false,
          "text": "nan",
          "x": "Número de cliente",
          "xref": "x",
          "y": "Nro de tarjeta enmascarado",
          "yref": "y"
         },
         {
          "font": {
           "color": "#FFFFFF"
          },
          "showarrow": false,
          "text": "nan",
          "x": "Nombre Cliente",
          "xref": "x",
          "y": "Nro de tarjeta enmascarado",
          "yref": "y"
         },
         {
          "font": {
           "color": "#FFFFFF"
          },
          "showarrow": false,
          "text": "nan",
          "x": "Teléfono",
          "xref": "x",
          "y": "Nro de tarjeta enmascarado",
          "yref": "y"
         },
         {
          "font": {
           "color": "#FFFFFF"
          },
          "showarrow": false,
          "text": "nan",
          "x": "Nro de tarjeta enmascarado",
          "xref": "x",
          "y": "Nro de tarjeta enmascarado",
          "yref": "y"
         },
         {
          "font": {
           "color": "#FFFFFF"
          },
          "showarrow": false,
          "text": "nan",
          "x": "Tipo de tarjeta",
          "xref": "x",
          "y": "Nro de tarjeta enmascarado",
          "yref": "y"
         },
         {
          "font": {
           "color": "#FFFFFF"
          },
          "showarrow": false,
          "text": "nan",
          "x": "Descripción",
          "xref": "x",
          "y": "Nro de tarjeta enmascarado",
          "yref": "y"
         },
         {
          "font": {
           "color": "#FFFFFF"
          },
          "showarrow": false,
          "text": "nan",
          "x": "Terminal",
          "xref": "x",
          "y": "Nro de tarjeta enmascarado",
          "yref": "y"
         },
         {
          "font": {
           "color": "#FFFFFF"
          },
          "showarrow": false,
          "text": "nan",
          "x": "Lote",
          "xref": "x",
          "y": "Nro de tarjeta enmascarado",
          "yref": "y"
         },
         {
          "font": {
           "color": "#FFFFFF"
          },
          "showarrow": false,
          "text": "nan",
          "x": "Recibo",
          "xref": "x",
          "y": "Nro de tarjeta enmascarado",
          "yref": "y"
         },
         {
          "font": {
           "color": "#FFFFFF"
          },
          "showarrow": false,
          "text": "nan",
          "x": "Huella del Dispositivo",
          "xref": "x",
          "y": "Nro de tarjeta enmascarado",
          "yref": "y"
         },
         {
          "font": {
           "color": "#FFFFFF"
          },
          "showarrow": false,
          "text": "nan",
          "x": "Código de respuesta",
          "xref": "x",
          "y": "Nro de tarjeta enmascarado",
          "yref": "y"
         },
         {
          "font": {
           "color": "#FFFFFF"
          },
          "showarrow": false,
          "text": "nan",
          "x": "Código de autorización",
          "xref": "x",
          "y": "Nro de tarjeta enmascarado",
          "yref": "y"
         },
         {
          "font": {
           "color": "#FFFFFF"
          },
          "showarrow": false,
          "text": "nan",
          "x": "RRN",
          "xref": "x",
          "y": "Nro de tarjeta enmascarado",
          "yref": "y"
         },
         {
          "font": {
           "color": "#FFFFFF"
          },
          "showarrow": false,
          "text": "nan",
          "x": "Código de afiliado",
          "xref": "x",
          "y": "Nro de tarjeta enmascarado",
          "yref": "y"
         },
         {
          "font": {
           "color": "#FFFFFF"
          },
          "showarrow": false,
          "text": "nan",
          "x": "Descripción.1",
          "xref": "x",
          "y": "Nro de tarjeta enmascarado",
          "yref": "y"
         },
         {
          "font": {
           "color": "#FFFFFF"
          },
          "showarrow": false,
          "text": "nan",
          "x": "Saldo Actual",
          "xref": "x",
          "y": "Nro de tarjeta enmascarado",
          "yref": "y"
         },
         {
          "font": {
           "color": "#FFFFFF"
          },
          "showarrow": false,
          "text": "nan",
          "x": "Dia",
          "xref": "x",
          "y": "Nro de tarjeta enmascarado",
          "yref": "y"
         },
         {
          "font": {
           "color": "#FFFFFF"
          },
          "showarrow": false,
          "text": "nan",
          "x": "Mes",
          "xref": "x",
          "y": "Nro de tarjeta enmascarado",
          "yref": "y"
         },
         {
          "font": {
           "color": "#FFFFFF"
          },
          "showarrow": false,
          "text": "nan",
          "x": "Año",
          "xref": "x",
          "y": "Nro de tarjeta enmascarado",
          "yref": "y"
         },
         {
          "font": {
           "color": "#FFFFFF"
          },
          "showarrow": false,
          "text": "nan",
          "x": "Hora",
          "xref": "x",
          "y": "Nro de tarjeta enmascarado",
          "yref": "y"
         },
         {
          "font": {
           "color": "#FFFFFF"
          },
          "showarrow": false,
          "text": "nan",
          "x": "Minuto",
          "xref": "x",
          "y": "Nro de tarjeta enmascarado",
          "yref": "y"
         },
         {
          "font": {
           "color": "#FFFFFF"
          },
          "showarrow": false,
          "text": "nan",
          "x": "Segundo",
          "xref": "x",
          "y": "Nro de tarjeta enmascarado",
          "yref": "y"
         },
         {
          "font": {
           "color": "#FFFFFF"
          },
          "showarrow": false,
          "text": "nan",
          "x": "Movimientos",
          "xref": "x",
          "y": "Tipo de tarjeta",
          "yref": "y"
         },
         {
          "font": {
           "color": "#FFFFFF"
          },
          "showarrow": false,
          "text": "nan",
          "x": "Fecha de solicitud",
          "xref": "x",
          "y": "Tipo de tarjeta",
          "yref": "y"
         },
         {
          "font": {
           "color": "#FFFFFF"
          },
          "showarrow": false,
          "text": "nan",
          "x": "Tipo de transacción",
          "xref": "x",
          "y": "Tipo de tarjeta",
          "yref": "y"
         },
         {
          "font": {
           "color": "#FFFFFF"
          },
          "showarrow": false,
          "text": "nan",
          "x": "Estado",
          "xref": "x",
          "y": "Tipo de tarjeta",
          "yref": "y"
         },
         {
          "font": {
           "color": "#FFFFFF"
          },
          "showarrow": false,
          "text": "nan",
          "x": "Signo",
          "xref": "x",
          "y": "Tipo de tarjeta",
          "yref": "y"
         },
         {
          "font": {
           "color": "#FFFFFF"
          },
          "showarrow": false,
          "text": "nan",
          "x": "Monto",
          "xref": "x",
          "y": "Tipo de tarjeta",
          "yref": "y"
         },
         {
          "font": {
           "color": "#FFFFFF"
          },
          "showarrow": false,
          "text": "nan",
          "x": "Comisión",
          "xref": "x",
          "y": "Tipo de tarjeta",
          "yref": "y"
         },
         {
          "font": {
           "color": "#FFFFFF"
          },
          "showarrow": false,
          "text": "nan",
          "x": "Impuesto",
          "xref": "x",
          "y": "Tipo de tarjeta",
          "yref": "y"
         },
         {
          "font": {
           "color": "#FFFFFF"
          },
          "showarrow": false,
          "text": "nan",
          "x": "Pago",
          "xref": "x",
          "y": "Tipo de tarjeta",
          "yref": "y"
         },
         {
          "font": {
           "color": "#FFFFFF"
          },
          "showarrow": false,
          "text": "nan",
          "x": "Número de identificación",
          "xref": "x",
          "y": "Tipo de tarjeta",
          "yref": "y"
         },
         {
          "font": {
           "color": "#FFFFFF"
          },
          "showarrow": false,
          "text": "nan",
          "x": "Número de cliente",
          "xref": "x",
          "y": "Tipo de tarjeta",
          "yref": "y"
         },
         {
          "font": {
           "color": "#FFFFFF"
          },
          "showarrow": false,
          "text": "nan",
          "x": "Nombre Cliente",
          "xref": "x",
          "y": "Tipo de tarjeta",
          "yref": "y"
         },
         {
          "font": {
           "color": "#FFFFFF"
          },
          "showarrow": false,
          "text": "nan",
          "x": "Teléfono",
          "xref": "x",
          "y": "Tipo de tarjeta",
          "yref": "y"
         },
         {
          "font": {
           "color": "#FFFFFF"
          },
          "showarrow": false,
          "text": "nan",
          "x": "Nro de tarjeta enmascarado",
          "xref": "x",
          "y": "Tipo de tarjeta",
          "yref": "y"
         },
         {
          "font": {
           "color": "#FFFFFF"
          },
          "showarrow": false,
          "text": "nan",
          "x": "Tipo de tarjeta",
          "xref": "x",
          "y": "Tipo de tarjeta",
          "yref": "y"
         },
         {
          "font": {
           "color": "#FFFFFF"
          },
          "showarrow": false,
          "text": "nan",
          "x": "Descripción",
          "xref": "x",
          "y": "Tipo de tarjeta",
          "yref": "y"
         },
         {
          "font": {
           "color": "#FFFFFF"
          },
          "showarrow": false,
          "text": "nan",
          "x": "Terminal",
          "xref": "x",
          "y": "Tipo de tarjeta",
          "yref": "y"
         },
         {
          "font": {
           "color": "#FFFFFF"
          },
          "showarrow": false,
          "text": "nan",
          "x": "Lote",
          "xref": "x",
          "y": "Tipo de tarjeta",
          "yref": "y"
         },
         {
          "font": {
           "color": "#FFFFFF"
          },
          "showarrow": false,
          "text": "nan",
          "x": "Recibo",
          "xref": "x",
          "y": "Tipo de tarjeta",
          "yref": "y"
         },
         {
          "font": {
           "color": "#FFFFFF"
          },
          "showarrow": false,
          "text": "nan",
          "x": "Huella del Dispositivo",
          "xref": "x",
          "y": "Tipo de tarjeta",
          "yref": "y"
         },
         {
          "font": {
           "color": "#FFFFFF"
          },
          "showarrow": false,
          "text": "nan",
          "x": "Código de respuesta",
          "xref": "x",
          "y": "Tipo de tarjeta",
          "yref": "y"
         },
         {
          "font": {
           "color": "#FFFFFF"
          },
          "showarrow": false,
          "text": "nan",
          "x": "Código de autorización",
          "xref": "x",
          "y": "Tipo de tarjeta",
          "yref": "y"
         },
         {
          "font": {
           "color": "#FFFFFF"
          },
          "showarrow": false,
          "text": "nan",
          "x": "RRN",
          "xref": "x",
          "y": "Tipo de tarjeta",
          "yref": "y"
         },
         {
          "font": {
           "color": "#FFFFFF"
          },
          "showarrow": false,
          "text": "nan",
          "x": "Código de afiliado",
          "xref": "x",
          "y": "Tipo de tarjeta",
          "yref": "y"
         },
         {
          "font": {
           "color": "#FFFFFF"
          },
          "showarrow": false,
          "text": "nan",
          "x": "Descripción.1",
          "xref": "x",
          "y": "Tipo de tarjeta",
          "yref": "y"
         },
         {
          "font": {
           "color": "#FFFFFF"
          },
          "showarrow": false,
          "text": "nan",
          "x": "Saldo Actual",
          "xref": "x",
          "y": "Tipo de tarjeta",
          "yref": "y"
         },
         {
          "font": {
           "color": "#FFFFFF"
          },
          "showarrow": false,
          "text": "nan",
          "x": "Dia",
          "xref": "x",
          "y": "Tipo de tarjeta",
          "yref": "y"
         },
         {
          "font": {
           "color": "#FFFFFF"
          },
          "showarrow": false,
          "text": "nan",
          "x": "Mes",
          "xref": "x",
          "y": "Tipo de tarjeta",
          "yref": "y"
         },
         {
          "font": {
           "color": "#FFFFFF"
          },
          "showarrow": false,
          "text": "nan",
          "x": "Año",
          "xref": "x",
          "y": "Tipo de tarjeta",
          "yref": "y"
         },
         {
          "font": {
           "color": "#FFFFFF"
          },
          "showarrow": false,
          "text": "nan",
          "x": "Hora",
          "xref": "x",
          "y": "Tipo de tarjeta",
          "yref": "y"
         },
         {
          "font": {
           "color": "#FFFFFF"
          },
          "showarrow": false,
          "text": "nan",
          "x": "Minuto",
          "xref": "x",
          "y": "Tipo de tarjeta",
          "yref": "y"
         },
         {
          "font": {
           "color": "#FFFFFF"
          },
          "showarrow": false,
          "text": "nan",
          "x": "Segundo",
          "xref": "x",
          "y": "Tipo de tarjeta",
          "yref": "y"
         },
         {
          "font": {
           "color": "#FFFFFF"
          },
          "showarrow": false,
          "text": "nan",
          "x": "Movimientos",
          "xref": "x",
          "y": "Descripción",
          "yref": "y"
         },
         {
          "font": {
           "color": "#FFFFFF"
          },
          "showarrow": false,
          "text": "nan",
          "x": "Fecha de solicitud",
          "xref": "x",
          "y": "Descripción",
          "yref": "y"
         },
         {
          "font": {
           "color": "#FFFFFF"
          },
          "showarrow": false,
          "text": "nan",
          "x": "Tipo de transacción",
          "xref": "x",
          "y": "Descripción",
          "yref": "y"
         },
         {
          "font": {
           "color": "#FFFFFF"
          },
          "showarrow": false,
          "text": "nan",
          "x": "Estado",
          "xref": "x",
          "y": "Descripción",
          "yref": "y"
         },
         {
          "font": {
           "color": "#FFFFFF"
          },
          "showarrow": false,
          "text": "nan",
          "x": "Signo",
          "xref": "x",
          "y": "Descripción",
          "yref": "y"
         },
         {
          "font": {
           "color": "#FFFFFF"
          },
          "showarrow": false,
          "text": "nan",
          "x": "Monto",
          "xref": "x",
          "y": "Descripción",
          "yref": "y"
         },
         {
          "font": {
           "color": "#FFFFFF"
          },
          "showarrow": false,
          "text": "nan",
          "x": "Comisión",
          "xref": "x",
          "y": "Descripción",
          "yref": "y"
         },
         {
          "font": {
           "color": "#FFFFFF"
          },
          "showarrow": false,
          "text": "nan",
          "x": "Impuesto",
          "xref": "x",
          "y": "Descripción",
          "yref": "y"
         },
         {
          "font": {
           "color": "#FFFFFF"
          },
          "showarrow": false,
          "text": "nan",
          "x": "Pago",
          "xref": "x",
          "y": "Descripción",
          "yref": "y"
         },
         {
          "font": {
           "color": "#FFFFFF"
          },
          "showarrow": false,
          "text": "nan",
          "x": "Número de identificación",
          "xref": "x",
          "y": "Descripción",
          "yref": "y"
         },
         {
          "font": {
           "color": "#FFFFFF"
          },
          "showarrow": false,
          "text": "nan",
          "x": "Número de cliente",
          "xref": "x",
          "y": "Descripción",
          "yref": "y"
         },
         {
          "font": {
           "color": "#FFFFFF"
          },
          "showarrow": false,
          "text": "nan",
          "x": "Nombre Cliente",
          "xref": "x",
          "y": "Descripción",
          "yref": "y"
         },
         {
          "font": {
           "color": "#FFFFFF"
          },
          "showarrow": false,
          "text": "nan",
          "x": "Teléfono",
          "xref": "x",
          "y": "Descripción",
          "yref": "y"
         },
         {
          "font": {
           "color": "#FFFFFF"
          },
          "showarrow": false,
          "text": "nan",
          "x": "Nro de tarjeta enmascarado",
          "xref": "x",
          "y": "Descripción",
          "yref": "y"
         },
         {
          "font": {
           "color": "#FFFFFF"
          },
          "showarrow": false,
          "text": "nan",
          "x": "Tipo de tarjeta",
          "xref": "x",
          "y": "Descripción",
          "yref": "y"
         },
         {
          "font": {
           "color": "#FFFFFF"
          },
          "showarrow": false,
          "text": "nan",
          "x": "Descripción",
          "xref": "x",
          "y": "Descripción",
          "yref": "y"
         },
         {
          "font": {
           "color": "#FFFFFF"
          },
          "showarrow": false,
          "text": "nan",
          "x": "Terminal",
          "xref": "x",
          "y": "Descripción",
          "yref": "y"
         },
         {
          "font": {
           "color": "#FFFFFF"
          },
          "showarrow": false,
          "text": "nan",
          "x": "Lote",
          "xref": "x",
          "y": "Descripción",
          "yref": "y"
         },
         {
          "font": {
           "color": "#FFFFFF"
          },
          "showarrow": false,
          "text": "nan",
          "x": "Recibo",
          "xref": "x",
          "y": "Descripción",
          "yref": "y"
         },
         {
          "font": {
           "color": "#FFFFFF"
          },
          "showarrow": false,
          "text": "nan",
          "x": "Huella del Dispositivo",
          "xref": "x",
          "y": "Descripción",
          "yref": "y"
         },
         {
          "font": {
           "color": "#FFFFFF"
          },
          "showarrow": false,
          "text": "nan",
          "x": "Código de respuesta",
          "xref": "x",
          "y": "Descripción",
          "yref": "y"
         },
         {
          "font": {
           "color": "#FFFFFF"
          },
          "showarrow": false,
          "text": "nan",
          "x": "Código de autorización",
          "xref": "x",
          "y": "Descripción",
          "yref": "y"
         },
         {
          "font": {
           "color": "#FFFFFF"
          },
          "showarrow": false,
          "text": "nan",
          "x": "RRN",
          "xref": "x",
          "y": "Descripción",
          "yref": "y"
         },
         {
          "font": {
           "color": "#FFFFFF"
          },
          "showarrow": false,
          "text": "nan",
          "x": "Código de afiliado",
          "xref": "x",
          "y": "Descripción",
          "yref": "y"
         },
         {
          "font": {
           "color": "#FFFFFF"
          },
          "showarrow": false,
          "text": "nan",
          "x": "Descripción.1",
          "xref": "x",
          "y": "Descripción",
          "yref": "y"
         },
         {
          "font": {
           "color": "#FFFFFF"
          },
          "showarrow": false,
          "text": "nan",
          "x": "Saldo Actual",
          "xref": "x",
          "y": "Descripción",
          "yref": "y"
         },
         {
          "font": {
           "color": "#FFFFFF"
          },
          "showarrow": false,
          "text": "nan",
          "x": "Dia",
          "xref": "x",
          "y": "Descripción",
          "yref": "y"
         },
         {
          "font": {
           "color": "#FFFFFF"
          },
          "showarrow": false,
          "text": "nan",
          "x": "Mes",
          "xref": "x",
          "y": "Descripción",
          "yref": "y"
         },
         {
          "font": {
           "color": "#FFFFFF"
          },
          "showarrow": false,
          "text": "nan",
          "x": "Año",
          "xref": "x",
          "y": "Descripción",
          "yref": "y"
         },
         {
          "font": {
           "color": "#FFFFFF"
          },
          "showarrow": false,
          "text": "nan",
          "x": "Hora",
          "xref": "x",
          "y": "Descripción",
          "yref": "y"
         },
         {
          "font": {
           "color": "#FFFFFF"
          },
          "showarrow": false,
          "text": "nan",
          "x": "Minuto",
          "xref": "x",
          "y": "Descripción",
          "yref": "y"
         },
         {
          "font": {
           "color": "#FFFFFF"
          },
          "showarrow": false,
          "text": "nan",
          "x": "Segundo",
          "xref": "x",
          "y": "Descripción",
          "yref": "y"
         },
         {
          "font": {
           "color": "#FFFFFF"
          },
          "showarrow": false,
          "text": "nan",
          "x": "Movimientos",
          "xref": "x",
          "y": "Terminal",
          "yref": "y"
         },
         {
          "font": {
           "color": "#FFFFFF"
          },
          "showarrow": false,
          "text": "nan",
          "x": "Fecha de solicitud",
          "xref": "x",
          "y": "Terminal",
          "yref": "y"
         },
         {
          "font": {
           "color": "#FFFFFF"
          },
          "showarrow": false,
          "text": "nan",
          "x": "Tipo de transacción",
          "xref": "x",
          "y": "Terminal",
          "yref": "y"
         },
         {
          "font": {
           "color": "#FFFFFF"
          },
          "showarrow": false,
          "text": "nan",
          "x": "Estado",
          "xref": "x",
          "y": "Terminal",
          "yref": "y"
         },
         {
          "font": {
           "color": "#FFFFFF"
          },
          "showarrow": false,
          "text": "nan",
          "x": "Signo",
          "xref": "x",
          "y": "Terminal",
          "yref": "y"
         },
         {
          "font": {
           "color": "#FFFFFF"
          },
          "showarrow": false,
          "text": "nan",
          "x": "Monto",
          "xref": "x",
          "y": "Terminal",
          "yref": "y"
         },
         {
          "font": {
           "color": "#FFFFFF"
          },
          "showarrow": false,
          "text": "nan",
          "x": "Comisión",
          "xref": "x",
          "y": "Terminal",
          "yref": "y"
         },
         {
          "font": {
           "color": "#FFFFFF"
          },
          "showarrow": false,
          "text": "nan",
          "x": "Impuesto",
          "xref": "x",
          "y": "Terminal",
          "yref": "y"
         },
         {
          "font": {
           "color": "#FFFFFF"
          },
          "showarrow": false,
          "text": "nan",
          "x": "Pago",
          "xref": "x",
          "y": "Terminal",
          "yref": "y"
         },
         {
          "font": {
           "color": "#FFFFFF"
          },
          "showarrow": false,
          "text": "nan",
          "x": "Número de identificación",
          "xref": "x",
          "y": "Terminal",
          "yref": "y"
         },
         {
          "font": {
           "color": "#FFFFFF"
          },
          "showarrow": false,
          "text": "nan",
          "x": "Número de cliente",
          "xref": "x",
          "y": "Terminal",
          "yref": "y"
         },
         {
          "font": {
           "color": "#FFFFFF"
          },
          "showarrow": false,
          "text": "nan",
          "x": "Nombre Cliente",
          "xref": "x",
          "y": "Terminal",
          "yref": "y"
         },
         {
          "font": {
           "color": "#FFFFFF"
          },
          "showarrow": false,
          "text": "nan",
          "x": "Teléfono",
          "xref": "x",
          "y": "Terminal",
          "yref": "y"
         },
         {
          "font": {
           "color": "#FFFFFF"
          },
          "showarrow": false,
          "text": "nan",
          "x": "Nro de tarjeta enmascarado",
          "xref": "x",
          "y": "Terminal",
          "yref": "y"
         },
         {
          "font": {
           "color": "#FFFFFF"
          },
          "showarrow": false,
          "text": "nan",
          "x": "Tipo de tarjeta",
          "xref": "x",
          "y": "Terminal",
          "yref": "y"
         },
         {
          "font": {
           "color": "#FFFFFF"
          },
          "showarrow": false,
          "text": "nan",
          "x": "Descripción",
          "xref": "x",
          "y": "Terminal",
          "yref": "y"
         },
         {
          "font": {
           "color": "#FFFFFF"
          },
          "showarrow": false,
          "text": "nan",
          "x": "Terminal",
          "xref": "x",
          "y": "Terminal",
          "yref": "y"
         },
         {
          "font": {
           "color": "#FFFFFF"
          },
          "showarrow": false,
          "text": "nan",
          "x": "Lote",
          "xref": "x",
          "y": "Terminal",
          "yref": "y"
         },
         {
          "font": {
           "color": "#FFFFFF"
          },
          "showarrow": false,
          "text": "nan",
          "x": "Recibo",
          "xref": "x",
          "y": "Terminal",
          "yref": "y"
         },
         {
          "font": {
           "color": "#FFFFFF"
          },
          "showarrow": false,
          "text": "nan",
          "x": "Huella del Dispositivo",
          "xref": "x",
          "y": "Terminal",
          "yref": "y"
         },
         {
          "font": {
           "color": "#FFFFFF"
          },
          "showarrow": false,
          "text": "nan",
          "x": "Código de respuesta",
          "xref": "x",
          "y": "Terminal",
          "yref": "y"
         },
         {
          "font": {
           "color": "#FFFFFF"
          },
          "showarrow": false,
          "text": "nan",
          "x": "Código de autorización",
          "xref": "x",
          "y": "Terminal",
          "yref": "y"
         },
         {
          "font": {
           "color": "#FFFFFF"
          },
          "showarrow": false,
          "text": "nan",
          "x": "RRN",
          "xref": "x",
          "y": "Terminal",
          "yref": "y"
         },
         {
          "font": {
           "color": "#FFFFFF"
          },
          "showarrow": false,
          "text": "nan",
          "x": "Código de afiliado",
          "xref": "x",
          "y": "Terminal",
          "yref": "y"
         },
         {
          "font": {
           "color": "#FFFFFF"
          },
          "showarrow": false,
          "text": "nan",
          "x": "Descripción.1",
          "xref": "x",
          "y": "Terminal",
          "yref": "y"
         },
         {
          "font": {
           "color": "#FFFFFF"
          },
          "showarrow": false,
          "text": "nan",
          "x": "Saldo Actual",
          "xref": "x",
          "y": "Terminal",
          "yref": "y"
         },
         {
          "font": {
           "color": "#FFFFFF"
          },
          "showarrow": false,
          "text": "nan",
          "x": "Dia",
          "xref": "x",
          "y": "Terminal",
          "yref": "y"
         },
         {
          "font": {
           "color": "#FFFFFF"
          },
          "showarrow": false,
          "text": "nan",
          "x": "Mes",
          "xref": "x",
          "y": "Terminal",
          "yref": "y"
         },
         {
          "font": {
           "color": "#FFFFFF"
          },
          "showarrow": false,
          "text": "nan",
          "x": "Año",
          "xref": "x",
          "y": "Terminal",
          "yref": "y"
         },
         {
          "font": {
           "color": "#FFFFFF"
          },
          "showarrow": false,
          "text": "nan",
          "x": "Hora",
          "xref": "x",
          "y": "Terminal",
          "yref": "y"
         },
         {
          "font": {
           "color": "#FFFFFF"
          },
          "showarrow": false,
          "text": "nan",
          "x": "Minuto",
          "xref": "x",
          "y": "Terminal",
          "yref": "y"
         },
         {
          "font": {
           "color": "#FFFFFF"
          },
          "showarrow": false,
          "text": "nan",
          "x": "Segundo",
          "xref": "x",
          "y": "Terminal",
          "yref": "y"
         },
         {
          "font": {
           "color": "#FFFFFF"
          },
          "showarrow": false,
          "text": "0.98",
          "x": "Movimientos",
          "xref": "x",
          "y": "Lote",
          "yref": "y"
         },
         {
          "font": {
           "color": "#FFFFFF"
          },
          "showarrow": false,
          "text": "1.0",
          "x": "Fecha de solicitud",
          "xref": "x",
          "y": "Lote",
          "yref": "y"
         },
         {
          "font": {
           "color": "#FFFFFF"
          },
          "showarrow": false,
          "text": "0.0",
          "x": "Tipo de transacción",
          "xref": "x",
          "y": "Lote",
          "yref": "y"
         },
         {
          "font": {
           "color": "#FFFFFF"
          },
          "showarrow": false,
          "text": "nan",
          "x": "Estado",
          "xref": "x",
          "y": "Lote",
          "yref": "y"
         },
         {
          "font": {
           "color": "#FFFFFF"
          },
          "showarrow": false,
          "text": "0.0",
          "x": "Signo",
          "xref": "x",
          "y": "Lote",
          "yref": "y"
         },
         {
          "font": {
           "color": "#FFFFFF"
          },
          "showarrow": false,
          "text": "-0.5",
          "x": "Monto",
          "xref": "x",
          "y": "Lote",
          "yref": "y"
         },
         {
          "font": {
           "color": "#FFFFFF"
          },
          "showarrow": false,
          "text": "-0.26",
          "x": "Comisión",
          "xref": "x",
          "y": "Lote",
          "yref": "y"
         },
         {
          "font": {
           "color": "#FFFFFF"
          },
          "showarrow": false,
          "text": "-0.33",
          "x": "Impuesto",
          "xref": "x",
          "y": "Lote",
          "yref": "y"
         },
         {
          "font": {
           "color": "#FFFFFF"
          },
          "showarrow": false,
          "text": "-0.26",
          "x": "Pago",
          "xref": "x",
          "y": "Lote",
          "yref": "y"
         },
         {
          "font": {
           "color": "#FFFFFF"
          },
          "showarrow": false,
          "text": "-0.08",
          "x": "Número de identificación",
          "xref": "x",
          "y": "Lote",
          "yref": "y"
         },
         {
          "font": {
           "color": "#FFFFFF"
          },
          "showarrow": false,
          "text": "-0.0",
          "x": "Número de cliente",
          "xref": "x",
          "y": "Lote",
          "yref": "y"
         },
         {
          "font": {
           "color": "#FFFFFF"
          },
          "showarrow": false,
          "text": "-0.08",
          "x": "Nombre Cliente",
          "xref": "x",
          "y": "Lote",
          "yref": "y"
         },
         {
          "font": {
           "color": "#FFFFFF"
          },
          "showarrow": false,
          "text": "0.0",
          "x": "Teléfono",
          "xref": "x",
          "y": "Lote",
          "yref": "y"
         },
         {
          "font": {
           "color": "#FFFFFF"
          },
          "showarrow": false,
          "text": "nan",
          "x": "Nro de tarjeta enmascarado",
          "xref": "x",
          "y": "Lote",
          "yref": "y"
         },
         {
          "font": {
           "color": "#FFFFFF"
          },
          "showarrow": false,
          "text": "nan",
          "x": "Tipo de tarjeta",
          "xref": "x",
          "y": "Lote",
          "yref": "y"
         },
         {
          "font": {
           "color": "#FFFFFF"
          },
          "showarrow": false,
          "text": "nan",
          "x": "Descripción",
          "xref": "x",
          "y": "Lote",
          "yref": "y"
         },
         {
          "font": {
           "color": "#FFFFFF"
          },
          "showarrow": false,
          "text": "nan",
          "x": "Terminal",
          "xref": "x",
          "y": "Lote",
          "yref": "y"
         },
         {
          "font": {
           "color": "#FFFFFF"
          },
          "showarrow": false,
          "text": "1.0",
          "x": "Lote",
          "xref": "x",
          "y": "Lote",
          "yref": "y"
         },
         {
          "font": {
           "color": "#FFFFFF"
          },
          "showarrow": false,
          "text": "0.97",
          "x": "Recibo",
          "xref": "x",
          "y": "Lote",
          "yref": "y"
         },
         {
          "font": {
           "color": "#FFFFFF"
          },
          "showarrow": false,
          "text": "nan",
          "x": "Huella del Dispositivo",
          "xref": "x",
          "y": "Lote",
          "yref": "y"
         },
         {
          "font": {
           "color": "#FFFFFF"
          },
          "showarrow": false,
          "text": "nan",
          "x": "Código de respuesta",
          "xref": "x",
          "y": "Lote",
          "yref": "y"
         },
         {
          "font": {
           "color": "#FFFFFF"
          },
          "showarrow": false,
          "text": "0.17",
          "x": "Código de autorización",
          "xref": "x",
          "y": "Lote",
          "yref": "y"
         },
         {
          "font": {
           "color": "#FFFFFF"
          },
          "showarrow": false,
          "text": "0.97",
          "x": "RRN",
          "xref": "x",
          "y": "Lote",
          "yref": "y"
         },
         {
          "font": {
           "color": "#FFFFFF"
          },
          "showarrow": false,
          "text": "nan",
          "x": "Código de afiliado",
          "xref": "x",
          "y": "Lote",
          "yref": "y"
         },
         {
          "font": {
           "color": "#FFFFFF"
          },
          "showarrow": false,
          "text": "nan",
          "x": "Descripción.1",
          "xref": "x",
          "y": "Lote",
          "yref": "y"
         },
         {
          "font": {
           "color": "#FFFFFF"
          },
          "showarrow": false,
          "text": "0.26",
          "x": "Saldo Actual",
          "xref": "x",
          "y": "Lote",
          "yref": "y"
         },
         {
          "font": {
           "color": "#FFFFFF"
          },
          "showarrow": false,
          "text": "1.0",
          "x": "Dia",
          "xref": "x",
          "y": "Lote",
          "yref": "y"
         },
         {
          "font": {
           "color": "#FFFFFF"
          },
          "showarrow": false,
          "text": "nan",
          "x": "Mes",
          "xref": "x",
          "y": "Lote",
          "yref": "y"
         },
         {
          "font": {
           "color": "#FFFFFF"
          },
          "showarrow": false,
          "text": "nan",
          "x": "Año",
          "xref": "x",
          "y": "Lote",
          "yref": "y"
         },
         {
          "font": {
           "color": "#FFFFFF"
          },
          "showarrow": false,
          "text": "0.28",
          "x": "Hora",
          "xref": "x",
          "y": "Lote",
          "yref": "y"
         },
         {
          "font": {
           "color": "#FFFFFF"
          },
          "showarrow": false,
          "text": "0.2",
          "x": "Minuto",
          "xref": "x",
          "y": "Lote",
          "yref": "y"
         },
         {
          "font": {
           "color": "#FFFFFF"
          },
          "showarrow": false,
          "text": "0.24",
          "x": "Segundo",
          "xref": "x",
          "y": "Lote",
          "yref": "y"
         },
         {
          "font": {
           "color": "#FFFFFF"
          },
          "showarrow": false,
          "text": "0.98",
          "x": "Movimientos",
          "xref": "x",
          "y": "Recibo",
          "yref": "y"
         },
         {
          "font": {
           "color": "#FFFFFF"
          },
          "showarrow": false,
          "text": "0.97",
          "x": "Fecha de solicitud",
          "xref": "x",
          "y": "Recibo",
          "yref": "y"
         },
         {
          "font": {
           "color": "#FFFFFF"
          },
          "showarrow": false,
          "text": "0.0",
          "x": "Tipo de transacción",
          "xref": "x",
          "y": "Recibo",
          "yref": "y"
         },
         {
          "font": {
           "color": "#FFFFFF"
          },
          "showarrow": false,
          "text": "nan",
          "x": "Estado",
          "xref": "x",
          "y": "Recibo",
          "yref": "y"
         },
         {
          "font": {
           "color": "#FFFFFF"
          },
          "showarrow": false,
          "text": "0.0",
          "x": "Signo",
          "xref": "x",
          "y": "Recibo",
          "yref": "y"
         },
         {
          "font": {
           "color": "#FFFFFF"
          },
          "showarrow": false,
          "text": "-0.48",
          "x": "Monto",
          "xref": "x",
          "y": "Recibo",
          "yref": "y"
         },
         {
          "font": {
           "color": "#FFFFFF"
          },
          "showarrow": false,
          "text": "-0.25",
          "x": "Comisión",
          "xref": "x",
          "y": "Recibo",
          "yref": "y"
         },
         {
          "font": {
           "color": "#FFFFFF"
          },
          "showarrow": false,
          "text": "-0.35",
          "x": "Impuesto",
          "xref": "x",
          "y": "Recibo",
          "yref": "y"
         },
         {
          "font": {
           "color": "#FFFFFF"
          },
          "showarrow": false,
          "text": "-0.25",
          "x": "Pago",
          "xref": "x",
          "y": "Recibo",
          "yref": "y"
         },
         {
          "font": {
           "color": "#FFFFFF"
          },
          "showarrow": false,
          "text": "-0.07",
          "x": "Número de identificación",
          "xref": "x",
          "y": "Recibo",
          "yref": "y"
         },
         {
          "font": {
           "color": "#FFFFFF"
          },
          "showarrow": false,
          "text": "-0.0",
          "x": "Número de cliente",
          "xref": "x",
          "y": "Recibo",
          "yref": "y"
         },
         {
          "font": {
           "color": "#FFFFFF"
          },
          "showarrow": false,
          "text": "-0.07",
          "x": "Nombre Cliente",
          "xref": "x",
          "y": "Recibo",
          "yref": "y"
         },
         {
          "font": {
           "color": "#FFFFFF"
          },
          "showarrow": false,
          "text": "0.0",
          "x": "Teléfono",
          "xref": "x",
          "y": "Recibo",
          "yref": "y"
         },
         {
          "font": {
           "color": "#FFFFFF"
          },
          "showarrow": false,
          "text": "nan",
          "x": "Nro de tarjeta enmascarado",
          "xref": "x",
          "y": "Recibo",
          "yref": "y"
         },
         {
          "font": {
           "color": "#FFFFFF"
          },
          "showarrow": false,
          "text": "nan",
          "x": "Tipo de tarjeta",
          "xref": "x",
          "y": "Recibo",
          "yref": "y"
         },
         {
          "font": {
           "color": "#FFFFFF"
          },
          "showarrow": false,
          "text": "nan",
          "x": "Descripción",
          "xref": "x",
          "y": "Recibo",
          "yref": "y"
         },
         {
          "font": {
           "color": "#FFFFFF"
          },
          "showarrow": false,
          "text": "nan",
          "x": "Terminal",
          "xref": "x",
          "y": "Recibo",
          "yref": "y"
         },
         {
          "font": {
           "color": "#FFFFFF"
          },
          "showarrow": false,
          "text": "0.97",
          "x": "Lote",
          "xref": "x",
          "y": "Recibo",
          "yref": "y"
         },
         {
          "font": {
           "color": "#FFFFFF"
          },
          "showarrow": false,
          "text": "1.0",
          "x": "Recibo",
          "xref": "x",
          "y": "Recibo",
          "yref": "y"
         },
         {
          "font": {
           "color": "#FFFFFF"
          },
          "showarrow": false,
          "text": "nan",
          "x": "Huella del Dispositivo",
          "xref": "x",
          "y": "Recibo",
          "yref": "y"
         },
         {
          "font": {
           "color": "#FFFFFF"
          },
          "showarrow": false,
          "text": "nan",
          "x": "Código de respuesta",
          "xref": "x",
          "y": "Recibo",
          "yref": "y"
         },
         {
          "font": {
           "color": "#FFFFFF"
          },
          "showarrow": false,
          "text": "0.15",
          "x": "Código de autorización",
          "xref": "x",
          "y": "Recibo",
          "yref": "y"
         },
         {
          "font": {
           "color": "#FFFFFF"
          },
          "showarrow": false,
          "text": "1.0",
          "x": "RRN",
          "xref": "x",
          "y": "Recibo",
          "yref": "y"
         },
         {
          "font": {
           "color": "#FFFFFF"
          },
          "showarrow": false,
          "text": "nan",
          "x": "Código de afiliado",
          "xref": "x",
          "y": "Recibo",
          "yref": "y"
         },
         {
          "font": {
           "color": "#FFFFFF"
          },
          "showarrow": false,
          "text": "nan",
          "x": "Descripción.1",
          "xref": "x",
          "y": "Recibo",
          "yref": "y"
         },
         {
          "font": {
           "color": "#FFFFFF"
          },
          "showarrow": false,
          "text": "0.22",
          "x": "Saldo Actual",
          "xref": "x",
          "y": "Recibo",
          "yref": "y"
         },
         {
          "font": {
           "color": "#FFFFFF"
          },
          "showarrow": false,
          "text": "0.97",
          "x": "Dia",
          "xref": "x",
          "y": "Recibo",
          "yref": "y"
         },
         {
          "font": {
           "color": "#FFFFFF"
          },
          "showarrow": false,
          "text": "nan",
          "x": "Mes",
          "xref": "x",
          "y": "Recibo",
          "yref": "y"
         },
         {
          "font": {
           "color": "#FFFFFF"
          },
          "showarrow": false,
          "text": "nan",
          "x": "Año",
          "xref": "x",
          "y": "Recibo",
          "yref": "y"
         },
         {
          "font": {
           "color": "#FFFFFF"
          },
          "showarrow": false,
          "text": "0.23",
          "x": "Hora",
          "xref": "x",
          "y": "Recibo",
          "yref": "y"
         },
         {
          "font": {
           "color": "#FFFFFF"
          },
          "showarrow": false,
          "text": "0.31",
          "x": "Minuto",
          "xref": "x",
          "y": "Recibo",
          "yref": "y"
         },
         {
          "font": {
           "color": "#FFFFFF"
          },
          "showarrow": false,
          "text": "0.32",
          "x": "Segundo",
          "xref": "x",
          "y": "Recibo",
          "yref": "y"
         },
         {
          "font": {
           "color": "#FFFFFF"
          },
          "showarrow": false,
          "text": "nan",
          "x": "Movimientos",
          "xref": "x",
          "y": "Huella del Dispositivo",
          "yref": "y"
         },
         {
          "font": {
           "color": "#FFFFFF"
          },
          "showarrow": false,
          "text": "nan",
          "x": "Fecha de solicitud",
          "xref": "x",
          "y": "Huella del Dispositivo",
          "yref": "y"
         },
         {
          "font": {
           "color": "#FFFFFF"
          },
          "showarrow": false,
          "text": "nan",
          "x": "Tipo de transacción",
          "xref": "x",
          "y": "Huella del Dispositivo",
          "yref": "y"
         },
         {
          "font": {
           "color": "#FFFFFF"
          },
          "showarrow": false,
          "text": "nan",
          "x": "Estado",
          "xref": "x",
          "y": "Huella del Dispositivo",
          "yref": "y"
         },
         {
          "font": {
           "color": "#FFFFFF"
          },
          "showarrow": false,
          "text": "nan",
          "x": "Signo",
          "xref": "x",
          "y": "Huella del Dispositivo",
          "yref": "y"
         },
         {
          "font": {
           "color": "#FFFFFF"
          },
          "showarrow": false,
          "text": "nan",
          "x": "Monto",
          "xref": "x",
          "y": "Huella del Dispositivo",
          "yref": "y"
         },
         {
          "font": {
           "color": "#FFFFFF"
          },
          "showarrow": false,
          "text": "nan",
          "x": "Comisión",
          "xref": "x",
          "y": "Huella del Dispositivo",
          "yref": "y"
         },
         {
          "font": {
           "color": "#FFFFFF"
          },
          "showarrow": false,
          "text": "nan",
          "x": "Impuesto",
          "xref": "x",
          "y": "Huella del Dispositivo",
          "yref": "y"
         },
         {
          "font": {
           "color": "#FFFFFF"
          },
          "showarrow": false,
          "text": "nan",
          "x": "Pago",
          "xref": "x",
          "y": "Huella del Dispositivo",
          "yref": "y"
         },
         {
          "font": {
           "color": "#FFFFFF"
          },
          "showarrow": false,
          "text": "nan",
          "x": "Número de identificación",
          "xref": "x",
          "y": "Huella del Dispositivo",
          "yref": "y"
         },
         {
          "font": {
           "color": "#FFFFFF"
          },
          "showarrow": false,
          "text": "nan",
          "x": "Número de cliente",
          "xref": "x",
          "y": "Huella del Dispositivo",
          "yref": "y"
         },
         {
          "font": {
           "color": "#FFFFFF"
          },
          "showarrow": false,
          "text": "nan",
          "x": "Nombre Cliente",
          "xref": "x",
          "y": "Huella del Dispositivo",
          "yref": "y"
         },
         {
          "font": {
           "color": "#FFFFFF"
          },
          "showarrow": false,
          "text": "nan",
          "x": "Teléfono",
          "xref": "x",
          "y": "Huella del Dispositivo",
          "yref": "y"
         },
         {
          "font": {
           "color": "#FFFFFF"
          },
          "showarrow": false,
          "text": "nan",
          "x": "Nro de tarjeta enmascarado",
          "xref": "x",
          "y": "Huella del Dispositivo",
          "yref": "y"
         },
         {
          "font": {
           "color": "#FFFFFF"
          },
          "showarrow": false,
          "text": "nan",
          "x": "Tipo de tarjeta",
          "xref": "x",
          "y": "Huella del Dispositivo",
          "yref": "y"
         },
         {
          "font": {
           "color": "#FFFFFF"
          },
          "showarrow": false,
          "text": "nan",
          "x": "Descripción",
          "xref": "x",
          "y": "Huella del Dispositivo",
          "yref": "y"
         },
         {
          "font": {
           "color": "#FFFFFF"
          },
          "showarrow": false,
          "text": "nan",
          "x": "Terminal",
          "xref": "x",
          "y": "Huella del Dispositivo",
          "yref": "y"
         },
         {
          "font": {
           "color": "#FFFFFF"
          },
          "showarrow": false,
          "text": "nan",
          "x": "Lote",
          "xref": "x",
          "y": "Huella del Dispositivo",
          "yref": "y"
         },
         {
          "font": {
           "color": "#FFFFFF"
          },
          "showarrow": false,
          "text": "nan",
          "x": "Recibo",
          "xref": "x",
          "y": "Huella del Dispositivo",
          "yref": "y"
         },
         {
          "font": {
           "color": "#FFFFFF"
          },
          "showarrow": false,
          "text": "nan",
          "x": "Huella del Dispositivo",
          "xref": "x",
          "y": "Huella del Dispositivo",
          "yref": "y"
         },
         {
          "font": {
           "color": "#FFFFFF"
          },
          "showarrow": false,
          "text": "nan",
          "x": "Código de respuesta",
          "xref": "x",
          "y": "Huella del Dispositivo",
          "yref": "y"
         },
         {
          "font": {
           "color": "#FFFFFF"
          },
          "showarrow": false,
          "text": "nan",
          "x": "Código de autorización",
          "xref": "x",
          "y": "Huella del Dispositivo",
          "yref": "y"
         },
         {
          "font": {
           "color": "#FFFFFF"
          },
          "showarrow": false,
          "text": "nan",
          "x": "RRN",
          "xref": "x",
          "y": "Huella del Dispositivo",
          "yref": "y"
         },
         {
          "font": {
           "color": "#FFFFFF"
          },
          "showarrow": false,
          "text": "nan",
          "x": "Código de afiliado",
          "xref": "x",
          "y": "Huella del Dispositivo",
          "yref": "y"
         },
         {
          "font": {
           "color": "#FFFFFF"
          },
          "showarrow": false,
          "text": "nan",
          "x": "Descripción.1",
          "xref": "x",
          "y": "Huella del Dispositivo",
          "yref": "y"
         },
         {
          "font": {
           "color": "#FFFFFF"
          },
          "showarrow": false,
          "text": "nan",
          "x": "Saldo Actual",
          "xref": "x",
          "y": "Huella del Dispositivo",
          "yref": "y"
         },
         {
          "font": {
           "color": "#FFFFFF"
          },
          "showarrow": false,
          "text": "nan",
          "x": "Dia",
          "xref": "x",
          "y": "Huella del Dispositivo",
          "yref": "y"
         },
         {
          "font": {
           "color": "#FFFFFF"
          },
          "showarrow": false,
          "text": "nan",
          "x": "Mes",
          "xref": "x",
          "y": "Huella del Dispositivo",
          "yref": "y"
         },
         {
          "font": {
           "color": "#FFFFFF"
          },
          "showarrow": false,
          "text": "nan",
          "x": "Año",
          "xref": "x",
          "y": "Huella del Dispositivo",
          "yref": "y"
         },
         {
          "font": {
           "color": "#FFFFFF"
          },
          "showarrow": false,
          "text": "nan",
          "x": "Hora",
          "xref": "x",
          "y": "Huella del Dispositivo",
          "yref": "y"
         },
         {
          "font": {
           "color": "#FFFFFF"
          },
          "showarrow": false,
          "text": "nan",
          "x": "Minuto",
          "xref": "x",
          "y": "Huella del Dispositivo",
          "yref": "y"
         },
         {
          "font": {
           "color": "#FFFFFF"
          },
          "showarrow": false,
          "text": "nan",
          "x": "Segundo",
          "xref": "x",
          "y": "Huella del Dispositivo",
          "yref": "y"
         },
         {
          "font": {
           "color": "#FFFFFF"
          },
          "showarrow": false,
          "text": "nan",
          "x": "Movimientos",
          "xref": "x",
          "y": "Código de respuesta",
          "yref": "y"
         },
         {
          "font": {
           "color": "#FFFFFF"
          },
          "showarrow": false,
          "text": "nan",
          "x": "Fecha de solicitud",
          "xref": "x",
          "y": "Código de respuesta",
          "yref": "y"
         },
         {
          "font": {
           "color": "#FFFFFF"
          },
          "showarrow": false,
          "text": "nan",
          "x": "Tipo de transacción",
          "xref": "x",
          "y": "Código de respuesta",
          "yref": "y"
         },
         {
          "font": {
           "color": "#FFFFFF"
          },
          "showarrow": false,
          "text": "nan",
          "x": "Estado",
          "xref": "x",
          "y": "Código de respuesta",
          "yref": "y"
         },
         {
          "font": {
           "color": "#FFFFFF"
          },
          "showarrow": false,
          "text": "nan",
          "x": "Signo",
          "xref": "x",
          "y": "Código de respuesta",
          "yref": "y"
         },
         {
          "font": {
           "color": "#FFFFFF"
          },
          "showarrow": false,
          "text": "nan",
          "x": "Monto",
          "xref": "x",
          "y": "Código de respuesta",
          "yref": "y"
         },
         {
          "font": {
           "color": "#FFFFFF"
          },
          "showarrow": false,
          "text": "nan",
          "x": "Comisión",
          "xref": "x",
          "y": "Código de respuesta",
          "yref": "y"
         },
         {
          "font": {
           "color": "#FFFFFF"
          },
          "showarrow": false,
          "text": "nan",
          "x": "Impuesto",
          "xref": "x",
          "y": "Código de respuesta",
          "yref": "y"
         },
         {
          "font": {
           "color": "#FFFFFF"
          },
          "showarrow": false,
          "text": "nan",
          "x": "Pago",
          "xref": "x",
          "y": "Código de respuesta",
          "yref": "y"
         },
         {
          "font": {
           "color": "#FFFFFF"
          },
          "showarrow": false,
          "text": "nan",
          "x": "Número de identificación",
          "xref": "x",
          "y": "Código de respuesta",
          "yref": "y"
         },
         {
          "font": {
           "color": "#FFFFFF"
          },
          "showarrow": false,
          "text": "nan",
          "x": "Número de cliente",
          "xref": "x",
          "y": "Código de respuesta",
          "yref": "y"
         },
         {
          "font": {
           "color": "#FFFFFF"
          },
          "showarrow": false,
          "text": "nan",
          "x": "Nombre Cliente",
          "xref": "x",
          "y": "Código de respuesta",
          "yref": "y"
         },
         {
          "font": {
           "color": "#FFFFFF"
          },
          "showarrow": false,
          "text": "nan",
          "x": "Teléfono",
          "xref": "x",
          "y": "Código de respuesta",
          "yref": "y"
         },
         {
          "font": {
           "color": "#FFFFFF"
          },
          "showarrow": false,
          "text": "nan",
          "x": "Nro de tarjeta enmascarado",
          "xref": "x",
          "y": "Código de respuesta",
          "yref": "y"
         },
         {
          "font": {
           "color": "#FFFFFF"
          },
          "showarrow": false,
          "text": "nan",
          "x": "Tipo de tarjeta",
          "xref": "x",
          "y": "Código de respuesta",
          "yref": "y"
         },
         {
          "font": {
           "color": "#FFFFFF"
          },
          "showarrow": false,
          "text": "nan",
          "x": "Descripción",
          "xref": "x",
          "y": "Código de respuesta",
          "yref": "y"
         },
         {
          "font": {
           "color": "#FFFFFF"
          },
          "showarrow": false,
          "text": "nan",
          "x": "Terminal",
          "xref": "x",
          "y": "Código de respuesta",
          "yref": "y"
         },
         {
          "font": {
           "color": "#FFFFFF"
          },
          "showarrow": false,
          "text": "nan",
          "x": "Lote",
          "xref": "x",
          "y": "Código de respuesta",
          "yref": "y"
         },
         {
          "font": {
           "color": "#FFFFFF"
          },
          "showarrow": false,
          "text": "nan",
          "x": "Recibo",
          "xref": "x",
          "y": "Código de respuesta",
          "yref": "y"
         },
         {
          "font": {
           "color": "#FFFFFF"
          },
          "showarrow": false,
          "text": "nan",
          "x": "Huella del Dispositivo",
          "xref": "x",
          "y": "Código de respuesta",
          "yref": "y"
         },
         {
          "font": {
           "color": "#FFFFFF"
          },
          "showarrow": false,
          "text": "nan",
          "x": "Código de respuesta",
          "xref": "x",
          "y": "Código de respuesta",
          "yref": "y"
         },
         {
          "font": {
           "color": "#FFFFFF"
          },
          "showarrow": false,
          "text": "nan",
          "x": "Código de autorización",
          "xref": "x",
          "y": "Código de respuesta",
          "yref": "y"
         },
         {
          "font": {
           "color": "#FFFFFF"
          },
          "showarrow": false,
          "text": "nan",
          "x": "RRN",
          "xref": "x",
          "y": "Código de respuesta",
          "yref": "y"
         },
         {
          "font": {
           "color": "#FFFFFF"
          },
          "showarrow": false,
          "text": "nan",
          "x": "Código de afiliado",
          "xref": "x",
          "y": "Código de respuesta",
          "yref": "y"
         },
         {
          "font": {
           "color": "#FFFFFF"
          },
          "showarrow": false,
          "text": "nan",
          "x": "Descripción.1",
          "xref": "x",
          "y": "Código de respuesta",
          "yref": "y"
         },
         {
          "font": {
           "color": "#FFFFFF"
          },
          "showarrow": false,
          "text": "nan",
          "x": "Saldo Actual",
          "xref": "x",
          "y": "Código de respuesta",
          "yref": "y"
         },
         {
          "font": {
           "color": "#FFFFFF"
          },
          "showarrow": false,
          "text": "nan",
          "x": "Dia",
          "xref": "x",
          "y": "Código de respuesta",
          "yref": "y"
         },
         {
          "font": {
           "color": "#FFFFFF"
          },
          "showarrow": false,
          "text": "nan",
          "x": "Mes",
          "xref": "x",
          "y": "Código de respuesta",
          "yref": "y"
         },
         {
          "font": {
           "color": "#FFFFFF"
          },
          "showarrow": false,
          "text": "nan",
          "x": "Año",
          "xref": "x",
          "y": "Código de respuesta",
          "yref": "y"
         },
         {
          "font": {
           "color": "#FFFFFF"
          },
          "showarrow": false,
          "text": "nan",
          "x": "Hora",
          "xref": "x",
          "y": "Código de respuesta",
          "yref": "y"
         },
         {
          "font": {
           "color": "#FFFFFF"
          },
          "showarrow": false,
          "text": "nan",
          "x": "Minuto",
          "xref": "x",
          "y": "Código de respuesta",
          "yref": "y"
         },
         {
          "font": {
           "color": "#FFFFFF"
          },
          "showarrow": false,
          "text": "nan",
          "x": "Segundo",
          "xref": "x",
          "y": "Código de respuesta",
          "yref": "y"
         },
         {
          "font": {
           "color": "#FFFFFF"
          },
          "showarrow": false,
          "text": "0.2",
          "x": "Movimientos",
          "xref": "x",
          "y": "Código de autorización",
          "yref": "y"
         },
         {
          "font": {
           "color": "#FFFFFF"
          },
          "showarrow": false,
          "text": "0.17",
          "x": "Fecha de solicitud",
          "xref": "x",
          "y": "Código de autorización",
          "yref": "y"
         },
         {
          "font": {
           "color": "#FFFFFF"
          },
          "showarrow": false,
          "text": "0.43",
          "x": "Tipo de transacción",
          "xref": "x",
          "y": "Código de autorización",
          "yref": "y"
         },
         {
          "font": {
           "color": "#FFFFFF"
          },
          "showarrow": false,
          "text": "nan",
          "x": "Estado",
          "xref": "x",
          "y": "Código de autorización",
          "yref": "y"
         },
         {
          "font": {
           "color": "#FFFFFF"
          },
          "showarrow": false,
          "text": "0.43",
          "x": "Signo",
          "xref": "x",
          "y": "Código de autorización",
          "yref": "y"
         },
         {
          "font": {
           "color": "#FFFFFF"
          },
          "showarrow": false,
          "text": "-0.24",
          "x": "Monto",
          "xref": "x",
          "y": "Código de autorización",
          "yref": "y"
         },
         {
          "font": {
           "color": "#FFFFFF"
          },
          "showarrow": false,
          "text": "0.25",
          "x": "Comisión",
          "xref": "x",
          "y": "Código de autorización",
          "yref": "y"
         },
         {
          "font": {
           "color": "#FFFFFF"
          },
          "showarrow": false,
          "text": "0.3",
          "x": "Impuesto",
          "xref": "x",
          "y": "Código de autorización",
          "yref": "y"
         },
         {
          "font": {
           "color": "#FFFFFF"
          },
          "showarrow": false,
          "text": "0.25",
          "x": "Pago",
          "xref": "x",
          "y": "Código de autorización",
          "yref": "y"
         },
         {
          "font": {
           "color": "#FFFFFF"
          },
          "showarrow": false,
          "text": "0.34",
          "x": "Número de identificación",
          "xref": "x",
          "y": "Código de autorización",
          "yref": "y"
         },
         {
          "font": {
           "color": "#FFFFFF"
          },
          "showarrow": false,
          "text": "0.43",
          "x": "Número de cliente",
          "xref": "x",
          "y": "Código de autorización",
          "yref": "y"
         },
         {
          "font": {
           "color": "#FFFFFF"
          },
          "showarrow": false,
          "text": "0.34",
          "x": "Nombre Cliente",
          "xref": "x",
          "y": "Código de autorización",
          "yref": "y"
         },
         {
          "font": {
           "color": "#FFFFFF"
          },
          "showarrow": false,
          "text": "0.43",
          "x": "Teléfono",
          "xref": "x",
          "y": "Código de autorización",
          "yref": "y"
         },
         {
          "font": {
           "color": "#FFFFFF"
          },
          "showarrow": false,
          "text": "nan",
          "x": "Nro de tarjeta enmascarado",
          "xref": "x",
          "y": "Código de autorización",
          "yref": "y"
         },
         {
          "font": {
           "color": "#FFFFFF"
          },
          "showarrow": false,
          "text": "nan",
          "x": "Tipo de tarjeta",
          "xref": "x",
          "y": "Código de autorización",
          "yref": "y"
         },
         {
          "font": {
           "color": "#FFFFFF"
          },
          "showarrow": false,
          "text": "nan",
          "x": "Descripción",
          "xref": "x",
          "y": "Código de autorización",
          "yref": "y"
         },
         {
          "font": {
           "color": "#FFFFFF"
          },
          "showarrow": false,
          "text": "nan",
          "x": "Terminal",
          "xref": "x",
          "y": "Código de autorización",
          "yref": "y"
         },
         {
          "font": {
           "color": "#FFFFFF"
          },
          "showarrow": false,
          "text": "0.17",
          "x": "Lote",
          "xref": "x",
          "y": "Código de autorización",
          "yref": "y"
         },
         {
          "font": {
           "color": "#FFFFFF"
          },
          "showarrow": false,
          "text": "0.15",
          "x": "Recibo",
          "xref": "x",
          "y": "Código de autorización",
          "yref": "y"
         },
         {
          "font": {
           "color": "#FFFFFF"
          },
          "showarrow": false,
          "text": "nan",
          "x": "Huella del Dispositivo",
          "xref": "x",
          "y": "Código de autorización",
          "yref": "y"
         },
         {
          "font": {
           "color": "#FFFFFF"
          },
          "showarrow": false,
          "text": "nan",
          "x": "Código de respuesta",
          "xref": "x",
          "y": "Código de autorización",
          "yref": "y"
         },
         {
          "font": {
           "color": "#FFFFFF"
          },
          "showarrow": false,
          "text": "1.0",
          "x": "Código de autorización",
          "xref": "x",
          "y": "Código de autorización",
          "yref": "y"
         },
         {
          "font": {
           "color": "#FFFFFF"
          },
          "showarrow": false,
          "text": "0.15",
          "x": "RRN",
          "xref": "x",
          "y": "Código de autorización",
          "yref": "y"
         },
         {
          "font": {
           "color": "#FFFFFF"
          },
          "showarrow": false,
          "text": "nan",
          "x": "Código de afiliado",
          "xref": "x",
          "y": "Código de autorización",
          "yref": "y"
         },
         {
          "font": {
           "color": "#FFFFFF"
          },
          "showarrow": false,
          "text": "nan",
          "x": "Descripción.1",
          "xref": "x",
          "y": "Código de autorización",
          "yref": "y"
         },
         {
          "font": {
           "color": "#FFFFFF"
          },
          "showarrow": false,
          "text": "0.23",
          "x": "Saldo Actual",
          "xref": "x",
          "y": "Código de autorización",
          "yref": "y"
         },
         {
          "font": {
           "color": "#FFFFFF"
          },
          "showarrow": false,
          "text": "0.16",
          "x": "Dia",
          "xref": "x",
          "y": "Código de autorización",
          "yref": "y"
         },
         {
          "font": {
           "color": "#FFFFFF"
          },
          "showarrow": false,
          "text": "nan",
          "x": "Mes",
          "xref": "x",
          "y": "Código de autorización",
          "yref": "y"
         },
         {
          "font": {
           "color": "#FFFFFF"
          },
          "showarrow": false,
          "text": "nan",
          "x": "Año",
          "xref": "x",
          "y": "Código de autorización",
          "yref": "y"
         },
         {
          "font": {
           "color": "#FFFFFF"
          },
          "showarrow": false,
          "text": "0.27",
          "x": "Hora",
          "xref": "x",
          "y": "Código de autorización",
          "yref": "y"
         },
         {
          "font": {
           "color": "#FFFFFF"
          },
          "showarrow": false,
          "text": "0.18",
          "x": "Minuto",
          "xref": "x",
          "y": "Código de autorización",
          "yref": "y"
         },
         {
          "font": {
           "color": "#FFFFFF"
          },
          "showarrow": false,
          "text": "0.13",
          "x": "Segundo",
          "xref": "x",
          "y": "Código de autorización",
          "yref": "y"
         },
         {
          "font": {
           "color": "#FFFFFF"
          },
          "showarrow": false,
          "text": "0.98",
          "x": "Movimientos",
          "xref": "x",
          "y": "RRN",
          "yref": "y"
         },
         {
          "font": {
           "color": "#FFFFFF"
          },
          "showarrow": false,
          "text": "0.97",
          "x": "Fecha de solicitud",
          "xref": "x",
          "y": "RRN",
          "yref": "y"
         },
         {
          "font": {
           "color": "#FFFFFF"
          },
          "showarrow": false,
          "text": "0.0",
          "x": "Tipo de transacción",
          "xref": "x",
          "y": "RRN",
          "yref": "y"
         },
         {
          "font": {
           "color": "#FFFFFF"
          },
          "showarrow": false,
          "text": "nan",
          "x": "Estado",
          "xref": "x",
          "y": "RRN",
          "yref": "y"
         },
         {
          "font": {
           "color": "#FFFFFF"
          },
          "showarrow": false,
          "text": "0.0",
          "x": "Signo",
          "xref": "x",
          "y": "RRN",
          "yref": "y"
         },
         {
          "font": {
           "color": "#FFFFFF"
          },
          "showarrow": false,
          "text": "-0.48",
          "x": "Monto",
          "xref": "x",
          "y": "RRN",
          "yref": "y"
         },
         {
          "font": {
           "color": "#FFFFFF"
          },
          "showarrow": false,
          "text": "-0.25",
          "x": "Comisión",
          "xref": "x",
          "y": "RRN",
          "yref": "y"
         },
         {
          "font": {
           "color": "#FFFFFF"
          },
          "showarrow": false,
          "text": "-0.35",
          "x": "Impuesto",
          "xref": "x",
          "y": "RRN",
          "yref": "y"
         },
         {
          "font": {
           "color": "#FFFFFF"
          },
          "showarrow": false,
          "text": "-0.25",
          "x": "Pago",
          "xref": "x",
          "y": "RRN",
          "yref": "y"
         },
         {
          "font": {
           "color": "#FFFFFF"
          },
          "showarrow": false,
          "text": "-0.07",
          "x": "Número de identificación",
          "xref": "x",
          "y": "RRN",
          "yref": "y"
         },
         {
          "font": {
           "color": "#FFFFFF"
          },
          "showarrow": false,
          "text": "-0.0",
          "x": "Número de cliente",
          "xref": "x",
          "y": "RRN",
          "yref": "y"
         },
         {
          "font": {
           "color": "#FFFFFF"
          },
          "showarrow": false,
          "text": "-0.07",
          "x": "Nombre Cliente",
          "xref": "x",
          "y": "RRN",
          "yref": "y"
         },
         {
          "font": {
           "color": "#FFFFFF"
          },
          "showarrow": false,
          "text": "0.0",
          "x": "Teléfono",
          "xref": "x",
          "y": "RRN",
          "yref": "y"
         },
         {
          "font": {
           "color": "#FFFFFF"
          },
          "showarrow": false,
          "text": "nan",
          "x": "Nro de tarjeta enmascarado",
          "xref": "x",
          "y": "RRN",
          "yref": "y"
         },
         {
          "font": {
           "color": "#FFFFFF"
          },
          "showarrow": false,
          "text": "nan",
          "x": "Tipo de tarjeta",
          "xref": "x",
          "y": "RRN",
          "yref": "y"
         },
         {
          "font": {
           "color": "#FFFFFF"
          },
          "showarrow": false,
          "text": "nan",
          "x": "Descripción",
          "xref": "x",
          "y": "RRN",
          "yref": "y"
         },
         {
          "font": {
           "color": "#FFFFFF"
          },
          "showarrow": false,
          "text": "nan",
          "x": "Terminal",
          "xref": "x",
          "y": "RRN",
          "yref": "y"
         },
         {
          "font": {
           "color": "#FFFFFF"
          },
          "showarrow": false,
          "text": "0.97",
          "x": "Lote",
          "xref": "x",
          "y": "RRN",
          "yref": "y"
         },
         {
          "font": {
           "color": "#FFFFFF"
          },
          "showarrow": false,
          "text": "1.0",
          "x": "Recibo",
          "xref": "x",
          "y": "RRN",
          "yref": "y"
         },
         {
          "font": {
           "color": "#FFFFFF"
          },
          "showarrow": false,
          "text": "nan",
          "x": "Huella del Dispositivo",
          "xref": "x",
          "y": "RRN",
          "yref": "y"
         },
         {
          "font": {
           "color": "#FFFFFF"
          },
          "showarrow": false,
          "text": "nan",
          "x": "Código de respuesta",
          "xref": "x",
          "y": "RRN",
          "yref": "y"
         },
         {
          "font": {
           "color": "#FFFFFF"
          },
          "showarrow": false,
          "text": "0.15",
          "x": "Código de autorización",
          "xref": "x",
          "y": "RRN",
          "yref": "y"
         },
         {
          "font": {
           "color": "#FFFFFF"
          },
          "showarrow": false,
          "text": "1.0",
          "x": "RRN",
          "xref": "x",
          "y": "RRN",
          "yref": "y"
         },
         {
          "font": {
           "color": "#FFFFFF"
          },
          "showarrow": false,
          "text": "nan",
          "x": "Código de afiliado",
          "xref": "x",
          "y": "RRN",
          "yref": "y"
         },
         {
          "font": {
           "color": "#FFFFFF"
          },
          "showarrow": false,
          "text": "nan",
          "x": "Descripción.1",
          "xref": "x",
          "y": "RRN",
          "yref": "y"
         },
         {
          "font": {
           "color": "#FFFFFF"
          },
          "showarrow": false,
          "text": "0.22",
          "x": "Saldo Actual",
          "xref": "x",
          "y": "RRN",
          "yref": "y"
         },
         {
          "font": {
           "color": "#FFFFFF"
          },
          "showarrow": false,
          "text": "0.97",
          "x": "Dia",
          "xref": "x",
          "y": "RRN",
          "yref": "y"
         },
         {
          "font": {
           "color": "#FFFFFF"
          },
          "showarrow": false,
          "text": "nan",
          "x": "Mes",
          "xref": "x",
          "y": "RRN",
          "yref": "y"
         },
         {
          "font": {
           "color": "#FFFFFF"
          },
          "showarrow": false,
          "text": "nan",
          "x": "Año",
          "xref": "x",
          "y": "RRN",
          "yref": "y"
         },
         {
          "font": {
           "color": "#FFFFFF"
          },
          "showarrow": false,
          "text": "0.23",
          "x": "Hora",
          "xref": "x",
          "y": "RRN",
          "yref": "y"
         },
         {
          "font": {
           "color": "#FFFFFF"
          },
          "showarrow": false,
          "text": "0.31",
          "x": "Minuto",
          "xref": "x",
          "y": "RRN",
          "yref": "y"
         },
         {
          "font": {
           "color": "#FFFFFF"
          },
          "showarrow": false,
          "text": "0.32",
          "x": "Segundo",
          "xref": "x",
          "y": "RRN",
          "yref": "y"
         },
         {
          "font": {
           "color": "#FFFFFF"
          },
          "showarrow": false,
          "text": "nan",
          "x": "Movimientos",
          "xref": "x",
          "y": "Código de afiliado",
          "yref": "y"
         },
         {
          "font": {
           "color": "#FFFFFF"
          },
          "showarrow": false,
          "text": "nan",
          "x": "Fecha de solicitud",
          "xref": "x",
          "y": "Código de afiliado",
          "yref": "y"
         },
         {
          "font": {
           "color": "#FFFFFF"
          },
          "showarrow": false,
          "text": "nan",
          "x": "Tipo de transacción",
          "xref": "x",
          "y": "Código de afiliado",
          "yref": "y"
         },
         {
          "font": {
           "color": "#FFFFFF"
          },
          "showarrow": false,
          "text": "nan",
          "x": "Estado",
          "xref": "x",
          "y": "Código de afiliado",
          "yref": "y"
         },
         {
          "font": {
           "color": "#FFFFFF"
          },
          "showarrow": false,
          "text": "nan",
          "x": "Signo",
          "xref": "x",
          "y": "Código de afiliado",
          "yref": "y"
         },
         {
          "font": {
           "color": "#FFFFFF"
          },
          "showarrow": false,
          "text": "nan",
          "x": "Monto",
          "xref": "x",
          "y": "Código de afiliado",
          "yref": "y"
         },
         {
          "font": {
           "color": "#FFFFFF"
          },
          "showarrow": false,
          "text": "nan",
          "x": "Comisión",
          "xref": "x",
          "y": "Código de afiliado",
          "yref": "y"
         },
         {
          "font": {
           "color": "#FFFFFF"
          },
          "showarrow": false,
          "text": "nan",
          "x": "Impuesto",
          "xref": "x",
          "y": "Código de afiliado",
          "yref": "y"
         },
         {
          "font": {
           "color": "#FFFFFF"
          },
          "showarrow": false,
          "text": "nan",
          "x": "Pago",
          "xref": "x",
          "y": "Código de afiliado",
          "yref": "y"
         },
         {
          "font": {
           "color": "#FFFFFF"
          },
          "showarrow": false,
          "text": "nan",
          "x": "Número de identificación",
          "xref": "x",
          "y": "Código de afiliado",
          "yref": "y"
         },
         {
          "font": {
           "color": "#FFFFFF"
          },
          "showarrow": false,
          "text": "nan",
          "x": "Número de cliente",
          "xref": "x",
          "y": "Código de afiliado",
          "yref": "y"
         },
         {
          "font": {
           "color": "#FFFFFF"
          },
          "showarrow": false,
          "text": "nan",
          "x": "Nombre Cliente",
          "xref": "x",
          "y": "Código de afiliado",
          "yref": "y"
         },
         {
          "font": {
           "color": "#FFFFFF"
          },
          "showarrow": false,
          "text": "nan",
          "x": "Teléfono",
          "xref": "x",
          "y": "Código de afiliado",
          "yref": "y"
         },
         {
          "font": {
           "color": "#FFFFFF"
          },
          "showarrow": false,
          "text": "nan",
          "x": "Nro de tarjeta enmascarado",
          "xref": "x",
          "y": "Código de afiliado",
          "yref": "y"
         },
         {
          "font": {
           "color": "#FFFFFF"
          },
          "showarrow": false,
          "text": "nan",
          "x": "Tipo de tarjeta",
          "xref": "x",
          "y": "Código de afiliado",
          "yref": "y"
         },
         {
          "font": {
           "color": "#FFFFFF"
          },
          "showarrow": false,
          "text": "nan",
          "x": "Descripción",
          "xref": "x",
          "y": "Código de afiliado",
          "yref": "y"
         },
         {
          "font": {
           "color": "#FFFFFF"
          },
          "showarrow": false,
          "text": "nan",
          "x": "Terminal",
          "xref": "x",
          "y": "Código de afiliado",
          "yref": "y"
         },
         {
          "font": {
           "color": "#FFFFFF"
          },
          "showarrow": false,
          "text": "nan",
          "x": "Lote",
          "xref": "x",
          "y": "Código de afiliado",
          "yref": "y"
         },
         {
          "font": {
           "color": "#FFFFFF"
          },
          "showarrow": false,
          "text": "nan",
          "x": "Recibo",
          "xref": "x",
          "y": "Código de afiliado",
          "yref": "y"
         },
         {
          "font": {
           "color": "#FFFFFF"
          },
          "showarrow": false,
          "text": "nan",
          "x": "Huella del Dispositivo",
          "xref": "x",
          "y": "Código de afiliado",
          "yref": "y"
         },
         {
          "font": {
           "color": "#FFFFFF"
          },
          "showarrow": false,
          "text": "nan",
          "x": "Código de respuesta",
          "xref": "x",
          "y": "Código de afiliado",
          "yref": "y"
         },
         {
          "font": {
           "color": "#FFFFFF"
          },
          "showarrow": false,
          "text": "nan",
          "x": "Código de autorización",
          "xref": "x",
          "y": "Código de afiliado",
          "yref": "y"
         },
         {
          "font": {
           "color": "#FFFFFF"
          },
          "showarrow": false,
          "text": "nan",
          "x": "RRN",
          "xref": "x",
          "y": "Código de afiliado",
          "yref": "y"
         },
         {
          "font": {
           "color": "#FFFFFF"
          },
          "showarrow": false,
          "text": "nan",
          "x": "Código de afiliado",
          "xref": "x",
          "y": "Código de afiliado",
          "yref": "y"
         },
         {
          "font": {
           "color": "#FFFFFF"
          },
          "showarrow": false,
          "text": "nan",
          "x": "Descripción.1",
          "xref": "x",
          "y": "Código de afiliado",
          "yref": "y"
         },
         {
          "font": {
           "color": "#FFFFFF"
          },
          "showarrow": false,
          "text": "nan",
          "x": "Saldo Actual",
          "xref": "x",
          "y": "Código de afiliado",
          "yref": "y"
         },
         {
          "font": {
           "color": "#FFFFFF"
          },
          "showarrow": false,
          "text": "nan",
          "x": "Dia",
          "xref": "x",
          "y": "Código de afiliado",
          "yref": "y"
         },
         {
          "font": {
           "color": "#FFFFFF"
          },
          "showarrow": false,
          "text": "nan",
          "x": "Mes",
          "xref": "x",
          "y": "Código de afiliado",
          "yref": "y"
         },
         {
          "font": {
           "color": "#FFFFFF"
          },
          "showarrow": false,
          "text": "nan",
          "x": "Año",
          "xref": "x",
          "y": "Código de afiliado",
          "yref": "y"
         },
         {
          "font": {
           "color": "#FFFFFF"
          },
          "showarrow": false,
          "text": "nan",
          "x": "Hora",
          "xref": "x",
          "y": "Código de afiliado",
          "yref": "y"
         },
         {
          "font": {
           "color": "#FFFFFF"
          },
          "showarrow": false,
          "text": "nan",
          "x": "Minuto",
          "xref": "x",
          "y": "Código de afiliado",
          "yref": "y"
         },
         {
          "font": {
           "color": "#FFFFFF"
          },
          "showarrow": false,
          "text": "nan",
          "x": "Segundo",
          "xref": "x",
          "y": "Código de afiliado",
          "yref": "y"
         },
         {
          "font": {
           "color": "#FFFFFF"
          },
          "showarrow": false,
          "text": "nan",
          "x": "Movimientos",
          "xref": "x",
          "y": "Descripción.1",
          "yref": "y"
         },
         {
          "font": {
           "color": "#FFFFFF"
          },
          "showarrow": false,
          "text": "nan",
          "x": "Fecha de solicitud",
          "xref": "x",
          "y": "Descripción.1",
          "yref": "y"
         },
         {
          "font": {
           "color": "#FFFFFF"
          },
          "showarrow": false,
          "text": "nan",
          "x": "Tipo de transacción",
          "xref": "x",
          "y": "Descripción.1",
          "yref": "y"
         },
         {
          "font": {
           "color": "#FFFFFF"
          },
          "showarrow": false,
          "text": "nan",
          "x": "Estado",
          "xref": "x",
          "y": "Descripción.1",
          "yref": "y"
         },
         {
          "font": {
           "color": "#FFFFFF"
          },
          "showarrow": false,
          "text": "nan",
          "x": "Signo",
          "xref": "x",
          "y": "Descripción.1",
          "yref": "y"
         },
         {
          "font": {
           "color": "#FFFFFF"
          },
          "showarrow": false,
          "text": "nan",
          "x": "Monto",
          "xref": "x",
          "y": "Descripción.1",
          "yref": "y"
         },
         {
          "font": {
           "color": "#FFFFFF"
          },
          "showarrow": false,
          "text": "nan",
          "x": "Comisión",
          "xref": "x",
          "y": "Descripción.1",
          "yref": "y"
         },
         {
          "font": {
           "color": "#FFFFFF"
          },
          "showarrow": false,
          "text": "nan",
          "x": "Impuesto",
          "xref": "x",
          "y": "Descripción.1",
          "yref": "y"
         },
         {
          "font": {
           "color": "#FFFFFF"
          },
          "showarrow": false,
          "text": "nan",
          "x": "Pago",
          "xref": "x",
          "y": "Descripción.1",
          "yref": "y"
         },
         {
          "font": {
           "color": "#FFFFFF"
          },
          "showarrow": false,
          "text": "nan",
          "x": "Número de identificación",
          "xref": "x",
          "y": "Descripción.1",
          "yref": "y"
         },
         {
          "font": {
           "color": "#FFFFFF"
          },
          "showarrow": false,
          "text": "nan",
          "x": "Número de cliente",
          "xref": "x",
          "y": "Descripción.1",
          "yref": "y"
         },
         {
          "font": {
           "color": "#FFFFFF"
          },
          "showarrow": false,
          "text": "nan",
          "x": "Nombre Cliente",
          "xref": "x",
          "y": "Descripción.1",
          "yref": "y"
         },
         {
          "font": {
           "color": "#FFFFFF"
          },
          "showarrow": false,
          "text": "nan",
          "x": "Teléfono",
          "xref": "x",
          "y": "Descripción.1",
          "yref": "y"
         },
         {
          "font": {
           "color": "#FFFFFF"
          },
          "showarrow": false,
          "text": "nan",
          "x": "Nro de tarjeta enmascarado",
          "xref": "x",
          "y": "Descripción.1",
          "yref": "y"
         },
         {
          "font": {
           "color": "#FFFFFF"
          },
          "showarrow": false,
          "text": "nan",
          "x": "Tipo de tarjeta",
          "xref": "x",
          "y": "Descripción.1",
          "yref": "y"
         },
         {
          "font": {
           "color": "#FFFFFF"
          },
          "showarrow": false,
          "text": "nan",
          "x": "Descripción",
          "xref": "x",
          "y": "Descripción.1",
          "yref": "y"
         },
         {
          "font": {
           "color": "#FFFFFF"
          },
          "showarrow": false,
          "text": "nan",
          "x": "Terminal",
          "xref": "x",
          "y": "Descripción.1",
          "yref": "y"
         },
         {
          "font": {
           "color": "#FFFFFF"
          },
          "showarrow": false,
          "text": "nan",
          "x": "Lote",
          "xref": "x",
          "y": "Descripción.1",
          "yref": "y"
         },
         {
          "font": {
           "color": "#FFFFFF"
          },
          "showarrow": false,
          "text": "nan",
          "x": "Recibo",
          "xref": "x",
          "y": "Descripción.1",
          "yref": "y"
         },
         {
          "font": {
           "color": "#FFFFFF"
          },
          "showarrow": false,
          "text": "nan",
          "x": "Huella del Dispositivo",
          "xref": "x",
          "y": "Descripción.1",
          "yref": "y"
         },
         {
          "font": {
           "color": "#FFFFFF"
          },
          "showarrow": false,
          "text": "nan",
          "x": "Código de respuesta",
          "xref": "x",
          "y": "Descripción.1",
          "yref": "y"
         },
         {
          "font": {
           "color": "#FFFFFF"
          },
          "showarrow": false,
          "text": "nan",
          "x": "Código de autorización",
          "xref": "x",
          "y": "Descripción.1",
          "yref": "y"
         },
         {
          "font": {
           "color": "#FFFFFF"
          },
          "showarrow": false,
          "text": "nan",
          "x": "RRN",
          "xref": "x",
          "y": "Descripción.1",
          "yref": "y"
         },
         {
          "font": {
           "color": "#FFFFFF"
          },
          "showarrow": false,
          "text": "nan",
          "x": "Código de afiliado",
          "xref": "x",
          "y": "Descripción.1",
          "yref": "y"
         },
         {
          "font": {
           "color": "#FFFFFF"
          },
          "showarrow": false,
          "text": "nan",
          "x": "Descripción.1",
          "xref": "x",
          "y": "Descripción.1",
          "yref": "y"
         },
         {
          "font": {
           "color": "#FFFFFF"
          },
          "showarrow": false,
          "text": "nan",
          "x": "Saldo Actual",
          "xref": "x",
          "y": "Descripción.1",
          "yref": "y"
         },
         {
          "font": {
           "color": "#FFFFFF"
          },
          "showarrow": false,
          "text": "nan",
          "x": "Dia",
          "xref": "x",
          "y": "Descripción.1",
          "yref": "y"
         },
         {
          "font": {
           "color": "#FFFFFF"
          },
          "showarrow": false,
          "text": "nan",
          "x": "Mes",
          "xref": "x",
          "y": "Descripción.1",
          "yref": "y"
         },
         {
          "font": {
           "color": "#FFFFFF"
          },
          "showarrow": false,
          "text": "nan",
          "x": "Año",
          "xref": "x",
          "y": "Descripción.1",
          "yref": "y"
         },
         {
          "font": {
           "color": "#FFFFFF"
          },
          "showarrow": false,
          "text": "nan",
          "x": "Hora",
          "xref": "x",
          "y": "Descripción.1",
          "yref": "y"
         },
         {
          "font": {
           "color": "#FFFFFF"
          },
          "showarrow": false,
          "text": "nan",
          "x": "Minuto",
          "xref": "x",
          "y": "Descripción.1",
          "yref": "y"
         },
         {
          "font": {
           "color": "#FFFFFF"
          },
          "showarrow": false,
          "text": "nan",
          "x": "Segundo",
          "xref": "x",
          "y": "Descripción.1",
          "yref": "y"
         },
         {
          "font": {
           "color": "#FFFFFF"
          },
          "showarrow": false,
          "text": "0.23",
          "x": "Movimientos",
          "xref": "x",
          "y": "Saldo Actual",
          "yref": "y"
         },
         {
          "font": {
           "color": "#FFFFFF"
          },
          "showarrow": false,
          "text": "0.26",
          "x": "Fecha de solicitud",
          "xref": "x",
          "y": "Saldo Actual",
          "yref": "y"
         },
         {
          "font": {
           "color": "#FFFFFF"
          },
          "showarrow": false,
          "text": "0.09",
          "x": "Tipo de transacción",
          "xref": "x",
          "y": "Saldo Actual",
          "yref": "y"
         },
         {
          "font": {
           "color": "#FFFFFF"
          },
          "showarrow": false,
          "text": "nan",
          "x": "Estado",
          "xref": "x",
          "y": "Saldo Actual",
          "yref": "y"
         },
         {
          "font": {
           "color": "#FFFFFF"
          },
          "showarrow": false,
          "text": "0.09",
          "x": "Signo",
          "xref": "x",
          "y": "Saldo Actual",
          "yref": "y"
         },
         {
          "font": {
           "color": "#FFFFFF"
          },
          "showarrow": false,
          "text": "-0.66",
          "x": "Monto",
          "xref": "x",
          "y": "Saldo Actual",
          "yref": "y"
         },
         {
          "font": {
           "color": "#FFFFFF"
          },
          "showarrow": false,
          "text": "-0.62",
          "x": "Comisión",
          "xref": "x",
          "y": "Saldo Actual",
          "yref": "y"
         },
         {
          "font": {
           "color": "#FFFFFF"
          },
          "showarrow": false,
          "text": "-0.49",
          "x": "Impuesto",
          "xref": "x",
          "y": "Saldo Actual",
          "yref": "y"
         },
         {
          "font": {
           "color": "#FFFFFF"
          },
          "showarrow": false,
          "text": "-0.63",
          "x": "Pago",
          "xref": "x",
          "y": "Saldo Actual",
          "yref": "y"
         },
         {
          "font": {
           "color": "#FFFFFF"
          },
          "showarrow": false,
          "text": "-0.23",
          "x": "Número de identificación",
          "xref": "x",
          "y": "Saldo Actual",
          "yref": "y"
         },
         {
          "font": {
           "color": "#FFFFFF"
          },
          "showarrow": false,
          "text": "0.09",
          "x": "Número de cliente",
          "xref": "x",
          "y": "Saldo Actual",
          "yref": "y"
         },
         {
          "font": {
           "color": "#FFFFFF"
          },
          "showarrow": false,
          "text": "-0.23",
          "x": "Nombre Cliente",
          "xref": "x",
          "y": "Saldo Actual",
          "yref": "y"
         },
         {
          "font": {
           "color": "#FFFFFF"
          },
          "showarrow": false,
          "text": "0.09",
          "x": "Teléfono",
          "xref": "x",
          "y": "Saldo Actual",
          "yref": "y"
         },
         {
          "font": {
           "color": "#FFFFFF"
          },
          "showarrow": false,
          "text": "nan",
          "x": "Nro de tarjeta enmascarado",
          "xref": "x",
          "y": "Saldo Actual",
          "yref": "y"
         },
         {
          "font": {
           "color": "#FFFFFF"
          },
          "showarrow": false,
          "text": "nan",
          "x": "Tipo de tarjeta",
          "xref": "x",
          "y": "Saldo Actual",
          "yref": "y"
         },
         {
          "font": {
           "color": "#FFFFFF"
          },
          "showarrow": false,
          "text": "nan",
          "x": "Descripción",
          "xref": "x",
          "y": "Saldo Actual",
          "yref": "y"
         },
         {
          "font": {
           "color": "#FFFFFF"
          },
          "showarrow": false,
          "text": "nan",
          "x": "Terminal",
          "xref": "x",
          "y": "Saldo Actual",
          "yref": "y"
         },
         {
          "font": {
           "color": "#FFFFFF"
          },
          "showarrow": false,
          "text": "0.26",
          "x": "Lote",
          "xref": "x",
          "y": "Saldo Actual",
          "yref": "y"
         },
         {
          "font": {
           "color": "#FFFFFF"
          },
          "showarrow": false,
          "text": "0.22",
          "x": "Recibo",
          "xref": "x",
          "y": "Saldo Actual",
          "yref": "y"
         },
         {
          "font": {
           "color": "#FFFFFF"
          },
          "showarrow": false,
          "text": "nan",
          "x": "Huella del Dispositivo",
          "xref": "x",
          "y": "Saldo Actual",
          "yref": "y"
         },
         {
          "font": {
           "color": "#FFFFFF"
          },
          "showarrow": false,
          "text": "nan",
          "x": "Código de respuesta",
          "xref": "x",
          "y": "Saldo Actual",
          "yref": "y"
         },
         {
          "font": {
           "color": "#FFFFFF"
          },
          "showarrow": false,
          "text": "0.23",
          "x": "Código de autorización",
          "xref": "x",
          "y": "Saldo Actual",
          "yref": "y"
         },
         {
          "font": {
           "color": "#FFFFFF"
          },
          "showarrow": false,
          "text": "0.22",
          "x": "RRN",
          "xref": "x",
          "y": "Saldo Actual",
          "yref": "y"
         },
         {
          "font": {
           "color": "#FFFFFF"
          },
          "showarrow": false,
          "text": "nan",
          "x": "Código de afiliado",
          "xref": "x",
          "y": "Saldo Actual",
          "yref": "y"
         },
         {
          "font": {
           "color": "#FFFFFF"
          },
          "showarrow": false,
          "text": "nan",
          "x": "Descripción.1",
          "xref": "x",
          "y": "Saldo Actual",
          "yref": "y"
         },
         {
          "font": {
           "color": "#FFFFFF"
          },
          "showarrow": false,
          "text": "1.0",
          "x": "Saldo Actual",
          "xref": "x",
          "y": "Saldo Actual",
          "yref": "y"
         },
         {
          "font": {
           "color": "#FFFFFF"
          },
          "showarrow": false,
          "text": "0.26",
          "x": "Dia",
          "xref": "x",
          "y": "Saldo Actual",
          "yref": "y"
         },
         {
          "font": {
           "color": "#FFFFFF"
          },
          "showarrow": false,
          "text": "nan",
          "x": "Mes",
          "xref": "x",
          "y": "Saldo Actual",
          "yref": "y"
         },
         {
          "font": {
           "color": "#FFFFFF"
          },
          "showarrow": false,
          "text": "nan",
          "x": "Año",
          "xref": "x",
          "y": "Saldo Actual",
          "yref": "y"
         },
         {
          "font": {
           "color": "#FFFFFF"
          },
          "showarrow": false,
          "text": "0.05",
          "x": "Hora",
          "xref": "x",
          "y": "Saldo Actual",
          "yref": "y"
         },
         {
          "font": {
           "color": "#FFFFFF"
          },
          "showarrow": false,
          "text": "0.13",
          "x": "Minuto",
          "xref": "x",
          "y": "Saldo Actual",
          "yref": "y"
         },
         {
          "font": {
           "color": "#FFFFFF"
          },
          "showarrow": false,
          "text": "0.03",
          "x": "Segundo",
          "xref": "x",
          "y": "Saldo Actual",
          "yref": "y"
         },
         {
          "font": {
           "color": "#FFFFFF"
          },
          "showarrow": false,
          "text": "0.98",
          "x": "Movimientos",
          "xref": "x",
          "y": "Dia",
          "yref": "y"
         },
         {
          "font": {
           "color": "#FFFFFF"
          },
          "showarrow": false,
          "text": "1.0",
          "x": "Fecha de solicitud",
          "xref": "x",
          "y": "Dia",
          "yref": "y"
         },
         {
          "font": {
           "color": "#FFFFFF"
          },
          "showarrow": false,
          "text": "0.0",
          "x": "Tipo de transacción",
          "xref": "x",
          "y": "Dia",
          "yref": "y"
         },
         {
          "font": {
           "color": "#FFFFFF"
          },
          "showarrow": false,
          "text": "nan",
          "x": "Estado",
          "xref": "x",
          "y": "Dia",
          "yref": "y"
         },
         {
          "font": {
           "color": "#FFFFFF"
          },
          "showarrow": false,
          "text": "0.0",
          "x": "Signo",
          "xref": "x",
          "y": "Dia",
          "yref": "y"
         },
         {
          "font": {
           "color": "#FFFFFF"
          },
          "showarrow": false,
          "text": "-0.5",
          "x": "Monto",
          "xref": "x",
          "y": "Dia",
          "yref": "y"
         },
         {
          "font": {
           "color": "#FFFFFF"
          },
          "showarrow": false,
          "text": "-0.26",
          "x": "Comisión",
          "xref": "x",
          "y": "Dia",
          "yref": "y"
         },
         {
          "font": {
           "color": "#FFFFFF"
          },
          "showarrow": false,
          "text": "-0.33",
          "x": "Impuesto",
          "xref": "x",
          "y": "Dia",
          "yref": "y"
         },
         {
          "font": {
           "color": "#FFFFFF"
          },
          "showarrow": false,
          "text": "-0.26",
          "x": "Pago",
          "xref": "x",
          "y": "Dia",
          "yref": "y"
         },
         {
          "font": {
           "color": "#FFFFFF"
          },
          "showarrow": false,
          "text": "-0.08",
          "x": "Número de identificación",
          "xref": "x",
          "y": "Dia",
          "yref": "y"
         },
         {
          "font": {
           "color": "#FFFFFF"
          },
          "showarrow": false,
          "text": "-0.0",
          "x": "Número de cliente",
          "xref": "x",
          "y": "Dia",
          "yref": "y"
         },
         {
          "font": {
           "color": "#FFFFFF"
          },
          "showarrow": false,
          "text": "-0.08",
          "x": "Nombre Cliente",
          "xref": "x",
          "y": "Dia",
          "yref": "y"
         },
         {
          "font": {
           "color": "#FFFFFF"
          },
          "showarrow": false,
          "text": "0.0",
          "x": "Teléfono",
          "xref": "x",
          "y": "Dia",
          "yref": "y"
         },
         {
          "font": {
           "color": "#FFFFFF"
          },
          "showarrow": false,
          "text": "nan",
          "x": "Nro de tarjeta enmascarado",
          "xref": "x",
          "y": "Dia",
          "yref": "y"
         },
         {
          "font": {
           "color": "#FFFFFF"
          },
          "showarrow": false,
          "text": "nan",
          "x": "Tipo de tarjeta",
          "xref": "x",
          "y": "Dia",
          "yref": "y"
         },
         {
          "font": {
           "color": "#FFFFFF"
          },
          "showarrow": false,
          "text": "nan",
          "x": "Descripción",
          "xref": "x",
          "y": "Dia",
          "yref": "y"
         },
         {
          "font": {
           "color": "#FFFFFF"
          },
          "showarrow": false,
          "text": "nan",
          "x": "Terminal",
          "xref": "x",
          "y": "Dia",
          "yref": "y"
         },
         {
          "font": {
           "color": "#FFFFFF"
          },
          "showarrow": false,
          "text": "1.0",
          "x": "Lote",
          "xref": "x",
          "y": "Dia",
          "yref": "y"
         },
         {
          "font": {
           "color": "#FFFFFF"
          },
          "showarrow": false,
          "text": "0.97",
          "x": "Recibo",
          "xref": "x",
          "y": "Dia",
          "yref": "y"
         },
         {
          "font": {
           "color": "#FFFFFF"
          },
          "showarrow": false,
          "text": "nan",
          "x": "Huella del Dispositivo",
          "xref": "x",
          "y": "Dia",
          "yref": "y"
         },
         {
          "font": {
           "color": "#FFFFFF"
          },
          "showarrow": false,
          "text": "nan",
          "x": "Código de respuesta",
          "xref": "x",
          "y": "Dia",
          "yref": "y"
         },
         {
          "font": {
           "color": "#FFFFFF"
          },
          "showarrow": false,
          "text": "0.16",
          "x": "Código de autorización",
          "xref": "x",
          "y": "Dia",
          "yref": "y"
         },
         {
          "font": {
           "color": "#FFFFFF"
          },
          "showarrow": false,
          "text": "0.97",
          "x": "RRN",
          "xref": "x",
          "y": "Dia",
          "yref": "y"
         },
         {
          "font": {
           "color": "#FFFFFF"
          },
          "showarrow": false,
          "text": "nan",
          "x": "Código de afiliado",
          "xref": "x",
          "y": "Dia",
          "yref": "y"
         },
         {
          "font": {
           "color": "#FFFFFF"
          },
          "showarrow": false,
          "text": "nan",
          "x": "Descripción.1",
          "xref": "x",
          "y": "Dia",
          "yref": "y"
         },
         {
          "font": {
           "color": "#FFFFFF"
          },
          "showarrow": false,
          "text": "0.26",
          "x": "Saldo Actual",
          "xref": "x",
          "y": "Dia",
          "yref": "y"
         },
         {
          "font": {
           "color": "#FFFFFF"
          },
          "showarrow": false,
          "text": "1.0",
          "x": "Dia",
          "xref": "x",
          "y": "Dia",
          "yref": "y"
         },
         {
          "font": {
           "color": "#FFFFFF"
          },
          "showarrow": false,
          "text": "nan",
          "x": "Mes",
          "xref": "x",
          "y": "Dia",
          "yref": "y"
         },
         {
          "font": {
           "color": "#FFFFFF"
          },
          "showarrow": false,
          "text": "nan",
          "x": "Año",
          "xref": "x",
          "y": "Dia",
          "yref": "y"
         },
         {
          "font": {
           "color": "#FFFFFF"
          },
          "showarrow": false,
          "text": "0.27",
          "x": "Hora",
          "xref": "x",
          "y": "Dia",
          "yref": "y"
         },
         {
          "font": {
           "color": "#FFFFFF"
          },
          "showarrow": false,
          "text": "0.2",
          "x": "Minuto",
          "xref": "x",
          "y": "Dia",
          "yref": "y"
         },
         {
          "font": {
           "color": "#FFFFFF"
          },
          "showarrow": false,
          "text": "0.24",
          "x": "Segundo",
          "xref": "x",
          "y": "Dia",
          "yref": "y"
         },
         {
          "font": {
           "color": "#FFFFFF"
          },
          "showarrow": false,
          "text": "nan",
          "x": "Movimientos",
          "xref": "x",
          "y": "Mes",
          "yref": "y"
         },
         {
          "font": {
           "color": "#FFFFFF"
          },
          "showarrow": false,
          "text": "nan",
          "x": "Fecha de solicitud",
          "xref": "x",
          "y": "Mes",
          "yref": "y"
         },
         {
          "font": {
           "color": "#FFFFFF"
          },
          "showarrow": false,
          "text": "nan",
          "x": "Tipo de transacción",
          "xref": "x",
          "y": "Mes",
          "yref": "y"
         },
         {
          "font": {
           "color": "#FFFFFF"
          },
          "showarrow": false,
          "text": "nan",
          "x": "Estado",
          "xref": "x",
          "y": "Mes",
          "yref": "y"
         },
         {
          "font": {
           "color": "#FFFFFF"
          },
          "showarrow": false,
          "text": "nan",
          "x": "Signo",
          "xref": "x",
          "y": "Mes",
          "yref": "y"
         },
         {
          "font": {
           "color": "#FFFFFF"
          },
          "showarrow": false,
          "text": "nan",
          "x": "Monto",
          "xref": "x",
          "y": "Mes",
          "yref": "y"
         },
         {
          "font": {
           "color": "#FFFFFF"
          },
          "showarrow": false,
          "text": "nan",
          "x": "Comisión",
          "xref": "x",
          "y": "Mes",
          "yref": "y"
         },
         {
          "font": {
           "color": "#FFFFFF"
          },
          "showarrow": false,
          "text": "nan",
          "x": "Impuesto",
          "xref": "x",
          "y": "Mes",
          "yref": "y"
         },
         {
          "font": {
           "color": "#FFFFFF"
          },
          "showarrow": false,
          "text": "nan",
          "x": "Pago",
          "xref": "x",
          "y": "Mes",
          "yref": "y"
         },
         {
          "font": {
           "color": "#FFFFFF"
          },
          "showarrow": false,
          "text": "nan",
          "x": "Número de identificación",
          "xref": "x",
          "y": "Mes",
          "yref": "y"
         },
         {
          "font": {
           "color": "#FFFFFF"
          },
          "showarrow": false,
          "text": "nan",
          "x": "Número de cliente",
          "xref": "x",
          "y": "Mes",
          "yref": "y"
         },
         {
          "font": {
           "color": "#FFFFFF"
          },
          "showarrow": false,
          "text": "nan",
          "x": "Nombre Cliente",
          "xref": "x",
          "y": "Mes",
          "yref": "y"
         },
         {
          "font": {
           "color": "#FFFFFF"
          },
          "showarrow": false,
          "text": "nan",
          "x": "Teléfono",
          "xref": "x",
          "y": "Mes",
          "yref": "y"
         },
         {
          "font": {
           "color": "#FFFFFF"
          },
          "showarrow": false,
          "text": "nan",
          "x": "Nro de tarjeta enmascarado",
          "xref": "x",
          "y": "Mes",
          "yref": "y"
         },
         {
          "font": {
           "color": "#FFFFFF"
          },
          "showarrow": false,
          "text": "nan",
          "x": "Tipo de tarjeta",
          "xref": "x",
          "y": "Mes",
          "yref": "y"
         },
         {
          "font": {
           "color": "#FFFFFF"
          },
          "showarrow": false,
          "text": "nan",
          "x": "Descripción",
          "xref": "x",
          "y": "Mes",
          "yref": "y"
         },
         {
          "font": {
           "color": "#FFFFFF"
          },
          "showarrow": false,
          "text": "nan",
          "x": "Terminal",
          "xref": "x",
          "y": "Mes",
          "yref": "y"
         },
         {
          "font": {
           "color": "#FFFFFF"
          },
          "showarrow": false,
          "text": "nan",
          "x": "Lote",
          "xref": "x",
          "y": "Mes",
          "yref": "y"
         },
         {
          "font": {
           "color": "#FFFFFF"
          },
          "showarrow": false,
          "text": "nan",
          "x": "Recibo",
          "xref": "x",
          "y": "Mes",
          "yref": "y"
         },
         {
          "font": {
           "color": "#FFFFFF"
          },
          "showarrow": false,
          "text": "nan",
          "x": "Huella del Dispositivo",
          "xref": "x",
          "y": "Mes",
          "yref": "y"
         },
         {
          "font": {
           "color": "#FFFFFF"
          },
          "showarrow": false,
          "text": "nan",
          "x": "Código de respuesta",
          "xref": "x",
          "y": "Mes",
          "yref": "y"
         },
         {
          "font": {
           "color": "#FFFFFF"
          },
          "showarrow": false,
          "text": "nan",
          "x": "Código de autorización",
          "xref": "x",
          "y": "Mes",
          "yref": "y"
         },
         {
          "font": {
           "color": "#FFFFFF"
          },
          "showarrow": false,
          "text": "nan",
          "x": "RRN",
          "xref": "x",
          "y": "Mes",
          "yref": "y"
         },
         {
          "font": {
           "color": "#FFFFFF"
          },
          "showarrow": false,
          "text": "nan",
          "x": "Código de afiliado",
          "xref": "x",
          "y": "Mes",
          "yref": "y"
         },
         {
          "font": {
           "color": "#FFFFFF"
          },
          "showarrow": false,
          "text": "nan",
          "x": "Descripción.1",
          "xref": "x",
          "y": "Mes",
          "yref": "y"
         },
         {
          "font": {
           "color": "#FFFFFF"
          },
          "showarrow": false,
          "text": "nan",
          "x": "Saldo Actual",
          "xref": "x",
          "y": "Mes",
          "yref": "y"
         },
         {
          "font": {
           "color": "#FFFFFF"
          },
          "showarrow": false,
          "text": "nan",
          "x": "Dia",
          "xref": "x",
          "y": "Mes",
          "yref": "y"
         },
         {
          "font": {
           "color": "#FFFFFF"
          },
          "showarrow": false,
          "text": "nan",
          "x": "Mes",
          "xref": "x",
          "y": "Mes",
          "yref": "y"
         },
         {
          "font": {
           "color": "#FFFFFF"
          },
          "showarrow": false,
          "text": "nan",
          "x": "Año",
          "xref": "x",
          "y": "Mes",
          "yref": "y"
         },
         {
          "font": {
           "color": "#FFFFFF"
          },
          "showarrow": false,
          "text": "nan",
          "x": "Hora",
          "xref": "x",
          "y": "Mes",
          "yref": "y"
         },
         {
          "font": {
           "color": "#FFFFFF"
          },
          "showarrow": false,
          "text": "nan",
          "x": "Minuto",
          "xref": "x",
          "y": "Mes",
          "yref": "y"
         },
         {
          "font": {
           "color": "#FFFFFF"
          },
          "showarrow": false,
          "text": "nan",
          "x": "Segundo",
          "xref": "x",
          "y": "Mes",
          "yref": "y"
         },
         {
          "font": {
           "color": "#FFFFFF"
          },
          "showarrow": false,
          "text": "nan",
          "x": "Movimientos",
          "xref": "x",
          "y": "Año",
          "yref": "y"
         },
         {
          "font": {
           "color": "#FFFFFF"
          },
          "showarrow": false,
          "text": "nan",
          "x": "Fecha de solicitud",
          "xref": "x",
          "y": "Año",
          "yref": "y"
         },
         {
          "font": {
           "color": "#FFFFFF"
          },
          "showarrow": false,
          "text": "nan",
          "x": "Tipo de transacción",
          "xref": "x",
          "y": "Año",
          "yref": "y"
         },
         {
          "font": {
           "color": "#FFFFFF"
          },
          "showarrow": false,
          "text": "nan",
          "x": "Estado",
          "xref": "x",
          "y": "Año",
          "yref": "y"
         },
         {
          "font": {
           "color": "#FFFFFF"
          },
          "showarrow": false,
          "text": "nan",
          "x": "Signo",
          "xref": "x",
          "y": "Año",
          "yref": "y"
         },
         {
          "font": {
           "color": "#FFFFFF"
          },
          "showarrow": false,
          "text": "nan",
          "x": "Monto",
          "xref": "x",
          "y": "Año",
          "yref": "y"
         },
         {
          "font": {
           "color": "#FFFFFF"
          },
          "showarrow": false,
          "text": "nan",
          "x": "Comisión",
          "xref": "x",
          "y": "Año",
          "yref": "y"
         },
         {
          "font": {
           "color": "#FFFFFF"
          },
          "showarrow": false,
          "text": "nan",
          "x": "Impuesto",
          "xref": "x",
          "y": "Año",
          "yref": "y"
         },
         {
          "font": {
           "color": "#FFFFFF"
          },
          "showarrow": false,
          "text": "nan",
          "x": "Pago",
          "xref": "x",
          "y": "Año",
          "yref": "y"
         },
         {
          "font": {
           "color": "#FFFFFF"
          },
          "showarrow": false,
          "text": "nan",
          "x": "Número de identificación",
          "xref": "x",
          "y": "Año",
          "yref": "y"
         },
         {
          "font": {
           "color": "#FFFFFF"
          },
          "showarrow": false,
          "text": "nan",
          "x": "Número de cliente",
          "xref": "x",
          "y": "Año",
          "yref": "y"
         },
         {
          "font": {
           "color": "#FFFFFF"
          },
          "showarrow": false,
          "text": "nan",
          "x": "Nombre Cliente",
          "xref": "x",
          "y": "Año",
          "yref": "y"
         },
         {
          "font": {
           "color": "#FFFFFF"
          },
          "showarrow": false,
          "text": "nan",
          "x": "Teléfono",
          "xref": "x",
          "y": "Año",
          "yref": "y"
         },
         {
          "font": {
           "color": "#FFFFFF"
          },
          "showarrow": false,
          "text": "nan",
          "x": "Nro de tarjeta enmascarado",
          "xref": "x",
          "y": "Año",
          "yref": "y"
         },
         {
          "font": {
           "color": "#FFFFFF"
          },
          "showarrow": false,
          "text": "nan",
          "x": "Tipo de tarjeta",
          "xref": "x",
          "y": "Año",
          "yref": "y"
         },
         {
          "font": {
           "color": "#FFFFFF"
          },
          "showarrow": false,
          "text": "nan",
          "x": "Descripción",
          "xref": "x",
          "y": "Año",
          "yref": "y"
         },
         {
          "font": {
           "color": "#FFFFFF"
          },
          "showarrow": false,
          "text": "nan",
          "x": "Terminal",
          "xref": "x",
          "y": "Año",
          "yref": "y"
         },
         {
          "font": {
           "color": "#FFFFFF"
          },
          "showarrow": false,
          "text": "nan",
          "x": "Lote",
          "xref": "x",
          "y": "Año",
          "yref": "y"
         },
         {
          "font": {
           "color": "#FFFFFF"
          },
          "showarrow": false,
          "text": "nan",
          "x": "Recibo",
          "xref": "x",
          "y": "Año",
          "yref": "y"
         },
         {
          "font": {
           "color": "#FFFFFF"
          },
          "showarrow": false,
          "text": "nan",
          "x": "Huella del Dispositivo",
          "xref": "x",
          "y": "Año",
          "yref": "y"
         },
         {
          "font": {
           "color": "#FFFFFF"
          },
          "showarrow": false,
          "text": "nan",
          "x": "Código de respuesta",
          "xref": "x",
          "y": "Año",
          "yref": "y"
         },
         {
          "font": {
           "color": "#FFFFFF"
          },
          "showarrow": false,
          "text": "nan",
          "x": "Código de autorización",
          "xref": "x",
          "y": "Año",
          "yref": "y"
         },
         {
          "font": {
           "color": "#FFFFFF"
          },
          "showarrow": false,
          "text": "nan",
          "x": "RRN",
          "xref": "x",
          "y": "Año",
          "yref": "y"
         },
         {
          "font": {
           "color": "#FFFFFF"
          },
          "showarrow": false,
          "text": "nan",
          "x": "Código de afiliado",
          "xref": "x",
          "y": "Año",
          "yref": "y"
         },
         {
          "font": {
           "color": "#FFFFFF"
          },
          "showarrow": false,
          "text": "nan",
          "x": "Descripción.1",
          "xref": "x",
          "y": "Año",
          "yref": "y"
         },
         {
          "font": {
           "color": "#FFFFFF"
          },
          "showarrow": false,
          "text": "nan",
          "x": "Saldo Actual",
          "xref": "x",
          "y": "Año",
          "yref": "y"
         },
         {
          "font": {
           "color": "#FFFFFF"
          },
          "showarrow": false,
          "text": "nan",
          "x": "Dia",
          "xref": "x",
          "y": "Año",
          "yref": "y"
         },
         {
          "font": {
           "color": "#FFFFFF"
          },
          "showarrow": false,
          "text": "nan",
          "x": "Mes",
          "xref": "x",
          "y": "Año",
          "yref": "y"
         },
         {
          "font": {
           "color": "#FFFFFF"
          },
          "showarrow": false,
          "text": "nan",
          "x": "Año",
          "xref": "x",
          "y": "Año",
          "yref": "y"
         },
         {
          "font": {
           "color": "#FFFFFF"
          },
          "showarrow": false,
          "text": "nan",
          "x": "Hora",
          "xref": "x",
          "y": "Año",
          "yref": "y"
         },
         {
          "font": {
           "color": "#FFFFFF"
          },
          "showarrow": false,
          "text": "nan",
          "x": "Minuto",
          "xref": "x",
          "y": "Año",
          "yref": "y"
         },
         {
          "font": {
           "color": "#FFFFFF"
          },
          "showarrow": false,
          "text": "nan",
          "x": "Segundo",
          "xref": "x",
          "y": "Año",
          "yref": "y"
         },
         {
          "font": {
           "color": "#FFFFFF"
          },
          "showarrow": false,
          "text": "0.31",
          "x": "Movimientos",
          "xref": "x",
          "y": "Hora",
          "yref": "y"
         },
         {
          "font": {
           "color": "#FFFFFF"
          },
          "showarrow": false,
          "text": "0.3",
          "x": "Fecha de solicitud",
          "xref": "x",
          "y": "Hora",
          "yref": "y"
         },
         {
          "font": {
           "color": "#FFFFFF"
          },
          "showarrow": false,
          "text": "0.0",
          "x": "Tipo de transacción",
          "xref": "x",
          "y": "Hora",
          "yref": "y"
         },
         {
          "font": {
           "color": "#FFFFFF"
          },
          "showarrow": false,
          "text": "nan",
          "x": "Estado",
          "xref": "x",
          "y": "Hora",
          "yref": "y"
         },
         {
          "font": {
           "color": "#FFFFFF"
          },
          "showarrow": false,
          "text": "0.0",
          "x": "Signo",
          "xref": "x",
          "y": "Hora",
          "yref": "y"
         },
         {
          "font": {
           "color": "#FFFFFF"
          },
          "showarrow": false,
          "text": "-0.04",
          "x": "Monto",
          "xref": "x",
          "y": "Hora",
          "yref": "y"
         },
         {
          "font": {
           "color": "#FFFFFF"
          },
          "showarrow": false,
          "text": "-0.01",
          "x": "Comisión",
          "xref": "x",
          "y": "Hora",
          "yref": "y"
         },
         {
          "font": {
           "color": "#FFFFFF"
          },
          "showarrow": false,
          "text": "0.09",
          "x": "Impuesto",
          "xref": "x",
          "y": "Hora",
          "yref": "y"
         },
         {
          "font": {
           "color": "#FFFFFF"
          },
          "showarrow": false,
          "text": "-0.02",
          "x": "Pago",
          "xref": "x",
          "y": "Hora",
          "yref": "y"
         },
         {
          "font": {
           "color": "#FFFFFF"
          },
          "showarrow": false,
          "text": "-0.02",
          "x": "Número de identificación",
          "xref": "x",
          "y": "Hora",
          "yref": "y"
         },
         {
          "font": {
           "color": "#FFFFFF"
          },
          "showarrow": false,
          "text": "-0.0",
          "x": "Número de cliente",
          "xref": "x",
          "y": "Hora",
          "yref": "y"
         },
         {
          "font": {
           "color": "#FFFFFF"
          },
          "showarrow": false,
          "text": "-0.02",
          "x": "Nombre Cliente",
          "xref": "x",
          "y": "Hora",
          "yref": "y"
         },
         {
          "font": {
           "color": "#FFFFFF"
          },
          "showarrow": false,
          "text": "0.0",
          "x": "Teléfono",
          "xref": "x",
          "y": "Hora",
          "yref": "y"
         },
         {
          "font": {
           "color": "#FFFFFF"
          },
          "showarrow": false,
          "text": "nan",
          "x": "Nro de tarjeta enmascarado",
          "xref": "x",
          "y": "Hora",
          "yref": "y"
         },
         {
          "font": {
           "color": "#FFFFFF"
          },
          "showarrow": false,
          "text": "nan",
          "x": "Tipo de tarjeta",
          "xref": "x",
          "y": "Hora",
          "yref": "y"
         },
         {
          "font": {
           "color": "#FFFFFF"
          },
          "showarrow": false,
          "text": "nan",
          "x": "Descripción",
          "xref": "x",
          "y": "Hora",
          "yref": "y"
         },
         {
          "font": {
           "color": "#FFFFFF"
          },
          "showarrow": false,
          "text": "nan",
          "x": "Terminal",
          "xref": "x",
          "y": "Hora",
          "yref": "y"
         },
         {
          "font": {
           "color": "#FFFFFF"
          },
          "showarrow": false,
          "text": "0.28",
          "x": "Lote",
          "xref": "x",
          "y": "Hora",
          "yref": "y"
         },
         {
          "font": {
           "color": "#FFFFFF"
          },
          "showarrow": false,
          "text": "0.23",
          "x": "Recibo",
          "xref": "x",
          "y": "Hora",
          "yref": "y"
         },
         {
          "font": {
           "color": "#FFFFFF"
          },
          "showarrow": false,
          "text": "nan",
          "x": "Huella del Dispositivo",
          "xref": "x",
          "y": "Hora",
          "yref": "y"
         },
         {
          "font": {
           "color": "#FFFFFF"
          },
          "showarrow": false,
          "text": "nan",
          "x": "Código de respuesta",
          "xref": "x",
          "y": "Hora",
          "yref": "y"
         },
         {
          "font": {
           "color": "#FFFFFF"
          },
          "showarrow": false,
          "text": "0.27",
          "x": "Código de autorización",
          "xref": "x",
          "y": "Hora",
          "yref": "y"
         },
         {
          "font": {
           "color": "#FFFFFF"
          },
          "showarrow": false,
          "text": "0.23",
          "x": "RRN",
          "xref": "x",
          "y": "Hora",
          "yref": "y"
         },
         {
          "font": {
           "color": "#FFFFFF"
          },
          "showarrow": false,
          "text": "nan",
          "x": "Código de afiliado",
          "xref": "x",
          "y": "Hora",
          "yref": "y"
         },
         {
          "font": {
           "color": "#FFFFFF"
          },
          "showarrow": false,
          "text": "nan",
          "x": "Descripción.1",
          "xref": "x",
          "y": "Hora",
          "yref": "y"
         },
         {
          "font": {
           "color": "#FFFFFF"
          },
          "showarrow": false,
          "text": "0.05",
          "x": "Saldo Actual",
          "xref": "x",
          "y": "Hora",
          "yref": "y"
         },
         {
          "font": {
           "color": "#FFFFFF"
          },
          "showarrow": false,
          "text": "0.27",
          "x": "Dia",
          "xref": "x",
          "y": "Hora",
          "yref": "y"
         },
         {
          "font": {
           "color": "#FFFFFF"
          },
          "showarrow": false,
          "text": "nan",
          "x": "Mes",
          "xref": "x",
          "y": "Hora",
          "yref": "y"
         },
         {
          "font": {
           "color": "#FFFFFF"
          },
          "showarrow": false,
          "text": "nan",
          "x": "Año",
          "xref": "x",
          "y": "Hora",
          "yref": "y"
         },
         {
          "font": {
           "color": "#FFFFFF"
          },
          "showarrow": false,
          "text": "1.0",
          "x": "Hora",
          "xref": "x",
          "y": "Hora",
          "yref": "y"
         },
         {
          "font": {
           "color": "#FFFFFF"
          },
          "showarrow": false,
          "text": "0.3",
          "x": "Minuto",
          "xref": "x",
          "y": "Hora",
          "yref": "y"
         },
         {
          "font": {
           "color": "#FFFFFF"
          },
          "showarrow": false,
          "text": "0.16",
          "x": "Segundo",
          "xref": "x",
          "y": "Hora",
          "yref": "y"
         },
         {
          "font": {
           "color": "#FFFFFF"
          },
          "showarrow": false,
          "text": "0.24",
          "x": "Movimientos",
          "xref": "x",
          "y": "Minuto",
          "yref": "y"
         },
         {
          "font": {
           "color": "#FFFFFF"
          },
          "showarrow": false,
          "text": "0.21",
          "x": "Fecha de solicitud",
          "xref": "x",
          "y": "Minuto",
          "yref": "y"
         },
         {
          "font": {
           "color": "#FFFFFF"
          },
          "showarrow": false,
          "text": "0.0",
          "x": "Tipo de transacción",
          "xref": "x",
          "y": "Minuto",
          "yref": "y"
         },
         {
          "font": {
           "color": "#FFFFFF"
          },
          "showarrow": false,
          "text": "nan",
          "x": "Estado",
          "xref": "x",
          "y": "Minuto",
          "yref": "y"
         },
         {
          "font": {
           "color": "#FFFFFF"
          },
          "showarrow": false,
          "text": "0.0",
          "x": "Signo",
          "xref": "x",
          "y": "Minuto",
          "yref": "y"
         },
         {
          "font": {
           "color": "#FFFFFF"
          },
          "showarrow": false,
          "text": "-0.23",
          "x": "Monto",
          "xref": "x",
          "y": "Minuto",
          "yref": "y"
         },
         {
          "font": {
           "color": "#FFFFFF"
          },
          "showarrow": false,
          "text": "-0.11",
          "x": "Comisión",
          "xref": "x",
          "y": "Minuto",
          "yref": "y"
         },
         {
          "font": {
           "color": "#FFFFFF"
          },
          "showarrow": false,
          "text": "-0.02",
          "x": "Impuesto",
          "xref": "x",
          "y": "Minuto",
          "yref": "y"
         },
         {
          "font": {
           "color": "#FFFFFF"
          },
          "showarrow": false,
          "text": "-0.12",
          "x": "Pago",
          "xref": "x",
          "y": "Minuto",
          "yref": "y"
         },
         {
          "font": {
           "color": "#FFFFFF"
          },
          "showarrow": false,
          "text": "-0.04",
          "x": "Número de identificación",
          "xref": "x",
          "y": "Minuto",
          "yref": "y"
         },
         {
          "font": {
           "color": "#FFFFFF"
          },
          "showarrow": false,
          "text": "-0.0",
          "x": "Número de cliente",
          "xref": "x",
          "y": "Minuto",
          "yref": "y"
         },
         {
          "font": {
           "color": "#FFFFFF"
          },
          "showarrow": false,
          "text": "-0.04",
          "x": "Nombre Cliente",
          "xref": "x",
          "y": "Minuto",
          "yref": "y"
         },
         {
          "font": {
           "color": "#FFFFFF"
          },
          "showarrow": false,
          "text": "0.0",
          "x": "Teléfono",
          "xref": "x",
          "y": "Minuto",
          "yref": "y"
         },
         {
          "font": {
           "color": "#FFFFFF"
          },
          "showarrow": false,
          "text": "nan",
          "x": "Nro de tarjeta enmascarado",
          "xref": "x",
          "y": "Minuto",
          "yref": "y"
         },
         {
          "font": {
           "color": "#FFFFFF"
          },
          "showarrow": false,
          "text": "nan",
          "x": "Tipo de tarjeta",
          "xref": "x",
          "y": "Minuto",
          "yref": "y"
         },
         {
          "font": {
           "color": "#FFFFFF"
          },
          "showarrow": false,
          "text": "nan",
          "x": "Descripción",
          "xref": "x",
          "y": "Minuto",
          "yref": "y"
         },
         {
          "font": {
           "color": "#FFFFFF"
          },
          "showarrow": false,
          "text": "nan",
          "x": "Terminal",
          "xref": "x",
          "y": "Minuto",
          "yref": "y"
         },
         {
          "font": {
           "color": "#FFFFFF"
          },
          "showarrow": false,
          "text": "0.2",
          "x": "Lote",
          "xref": "x",
          "y": "Minuto",
          "yref": "y"
         },
         {
          "font": {
           "color": "#FFFFFF"
          },
          "showarrow": false,
          "text": "0.31",
          "x": "Recibo",
          "xref": "x",
          "y": "Minuto",
          "yref": "y"
         },
         {
          "font": {
           "color": "#FFFFFF"
          },
          "showarrow": false,
          "text": "nan",
          "x": "Huella del Dispositivo",
          "xref": "x",
          "y": "Minuto",
          "yref": "y"
         },
         {
          "font": {
           "color": "#FFFFFF"
          },
          "showarrow": false,
          "text": "nan",
          "x": "Código de respuesta",
          "xref": "x",
          "y": "Minuto",
          "yref": "y"
         },
         {
          "font": {
           "color": "#FFFFFF"
          },
          "showarrow": false,
          "text": "0.18",
          "x": "Código de autorización",
          "xref": "x",
          "y": "Minuto",
          "yref": "y"
         },
         {
          "font": {
           "color": "#FFFFFF"
          },
          "showarrow": false,
          "text": "0.31",
          "x": "RRN",
          "xref": "x",
          "y": "Minuto",
          "yref": "y"
         },
         {
          "font": {
           "color": "#FFFFFF"
          },
          "showarrow": false,
          "text": "nan",
          "x": "Código de afiliado",
          "xref": "x",
          "y": "Minuto",
          "yref": "y"
         },
         {
          "font": {
           "color": "#FFFFFF"
          },
          "showarrow": false,
          "text": "nan",
          "x": "Descripción.1",
          "xref": "x",
          "y": "Minuto",
          "yref": "y"
         },
         {
          "font": {
           "color": "#FFFFFF"
          },
          "showarrow": false,
          "text": "0.13",
          "x": "Saldo Actual",
          "xref": "x",
          "y": "Minuto",
          "yref": "y"
         },
         {
          "font": {
           "color": "#FFFFFF"
          },
          "showarrow": false,
          "text": "0.2",
          "x": "Dia",
          "xref": "x",
          "y": "Minuto",
          "yref": "y"
         },
         {
          "font": {
           "color": "#FFFFFF"
          },
          "showarrow": false,
          "text": "nan",
          "x": "Mes",
          "xref": "x",
          "y": "Minuto",
          "yref": "y"
         },
         {
          "font": {
           "color": "#FFFFFF"
          },
          "showarrow": false,
          "text": "nan",
          "x": "Año",
          "xref": "x",
          "y": "Minuto",
          "yref": "y"
         },
         {
          "font": {
           "color": "#FFFFFF"
          },
          "showarrow": false,
          "text": "0.3",
          "x": "Hora",
          "xref": "x",
          "y": "Minuto",
          "yref": "y"
         },
         {
          "font": {
           "color": "#FFFFFF"
          },
          "showarrow": false,
          "text": "1.0",
          "x": "Minuto",
          "xref": "x",
          "y": "Minuto",
          "yref": "y"
         },
         {
          "font": {
           "color": "#FFFFFF"
          },
          "showarrow": false,
          "text": "0.4",
          "x": "Segundo",
          "xref": "x",
          "y": "Minuto",
          "yref": "y"
         },
         {
          "font": {
           "color": "#FFFFFF"
          },
          "showarrow": false,
          "text": "0.32",
          "x": "Movimientos",
          "xref": "x",
          "y": "Segundo",
          "yref": "y"
         },
         {
          "font": {
           "color": "#FFFFFF"
          },
          "showarrow": false,
          "text": "0.25",
          "x": "Fecha de solicitud",
          "xref": "x",
          "y": "Segundo",
          "yref": "y"
         },
         {
          "font": {
           "color": "#FFFFFF"
          },
          "showarrow": false,
          "text": "0.0",
          "x": "Tipo de transacción",
          "xref": "x",
          "y": "Segundo",
          "yref": "y"
         },
         {
          "font": {
           "color": "#FFFFFF"
          },
          "showarrow": false,
          "text": "nan",
          "x": "Estado",
          "xref": "x",
          "y": "Segundo",
          "yref": "y"
         },
         {
          "font": {
           "color": "#FFFFFF"
          },
          "showarrow": false,
          "text": "0.0",
          "x": "Signo",
          "xref": "x",
          "y": "Segundo",
          "yref": "y"
         },
         {
          "font": {
           "color": "#FFFFFF"
          },
          "showarrow": false,
          "text": "-0.11",
          "x": "Monto",
          "xref": "x",
          "y": "Segundo",
          "yref": "y"
         },
         {
          "font": {
           "color": "#FFFFFF"
          },
          "showarrow": false,
          "text": "-0.05",
          "x": "Comisión",
          "xref": "x",
          "y": "Segundo",
          "yref": "y"
         },
         {
          "font": {
           "color": "#FFFFFF"
          },
          "showarrow": false,
          "text": "0.04",
          "x": "Impuesto",
          "xref": "x",
          "y": "Segundo",
          "yref": "y"
         },
         {
          "font": {
           "color": "#FFFFFF"
          },
          "showarrow": false,
          "text": "-0.06",
          "x": "Pago",
          "xref": "x",
          "y": "Segundo",
          "yref": "y"
         },
         {
          "font": {
           "color": "#FFFFFF"
          },
          "showarrow": false,
          "text": "-0.01",
          "x": "Número de identificación",
          "xref": "x",
          "y": "Segundo",
          "yref": "y"
         },
         {
          "font": {
           "color": "#FFFFFF"
          },
          "showarrow": false,
          "text": "-0.0",
          "x": "Número de cliente",
          "xref": "x",
          "y": "Segundo",
          "yref": "y"
         },
         {
          "font": {
           "color": "#FFFFFF"
          },
          "showarrow": false,
          "text": "-0.01",
          "x": "Nombre Cliente",
          "xref": "x",
          "y": "Segundo",
          "yref": "y"
         },
         {
          "font": {
           "color": "#FFFFFF"
          },
          "showarrow": false,
          "text": "0.0",
          "x": "Teléfono",
          "xref": "x",
          "y": "Segundo",
          "yref": "y"
         },
         {
          "font": {
           "color": "#FFFFFF"
          },
          "showarrow": false,
          "text": "nan",
          "x": "Nro de tarjeta enmascarado",
          "xref": "x",
          "y": "Segundo",
          "yref": "y"
         },
         {
          "font": {
           "color": "#FFFFFF"
          },
          "showarrow": false,
          "text": "nan",
          "x": "Tipo de tarjeta",
          "xref": "x",
          "y": "Segundo",
          "yref": "y"
         },
         {
          "font": {
           "color": "#FFFFFF"
          },
          "showarrow": false,
          "text": "nan",
          "x": "Descripción",
          "xref": "x",
          "y": "Segundo",
          "yref": "y"
         },
         {
          "font": {
           "color": "#FFFFFF"
          },
          "showarrow": false,
          "text": "nan",
          "x": "Terminal",
          "xref": "x",
          "y": "Segundo",
          "yref": "y"
         },
         {
          "font": {
           "color": "#FFFFFF"
          },
          "showarrow": false,
          "text": "0.24",
          "x": "Lote",
          "xref": "x",
          "y": "Segundo",
          "yref": "y"
         },
         {
          "font": {
           "color": "#FFFFFF"
          },
          "showarrow": false,
          "text": "0.32",
          "x": "Recibo",
          "xref": "x",
          "y": "Segundo",
          "yref": "y"
         },
         {
          "font": {
           "color": "#FFFFFF"
          },
          "showarrow": false,
          "text": "nan",
          "x": "Huella del Dispositivo",
          "xref": "x",
          "y": "Segundo",
          "yref": "y"
         },
         {
          "font": {
           "color": "#FFFFFF"
          },
          "showarrow": false,
          "text": "nan",
          "x": "Código de respuesta",
          "xref": "x",
          "y": "Segundo",
          "yref": "y"
         },
         {
          "font": {
           "color": "#FFFFFF"
          },
          "showarrow": false,
          "text": "0.13",
          "x": "Código de autorización",
          "xref": "x",
          "y": "Segundo",
          "yref": "y"
         },
         {
          "font": {
           "color": "#FFFFFF"
          },
          "showarrow": false,
          "text": "0.32",
          "x": "RRN",
          "xref": "x",
          "y": "Segundo",
          "yref": "y"
         },
         {
          "font": {
           "color": "#FFFFFF"
          },
          "showarrow": false,
          "text": "nan",
          "x": "Código de afiliado",
          "xref": "x",
          "y": "Segundo",
          "yref": "y"
         },
         {
          "font": {
           "color": "#FFFFFF"
          },
          "showarrow": false,
          "text": "nan",
          "x": "Descripción.1",
          "xref": "x",
          "y": "Segundo",
          "yref": "y"
         },
         {
          "font": {
           "color": "#FFFFFF"
          },
          "showarrow": false,
          "text": "0.03",
          "x": "Saldo Actual",
          "xref": "x",
          "y": "Segundo",
          "yref": "y"
         },
         {
          "font": {
           "color": "#FFFFFF"
          },
          "showarrow": false,
          "text": "0.24",
          "x": "Dia",
          "xref": "x",
          "y": "Segundo",
          "yref": "y"
         },
         {
          "font": {
           "color": "#FFFFFF"
          },
          "showarrow": false,
          "text": "nan",
          "x": "Mes",
          "xref": "x",
          "y": "Segundo",
          "yref": "y"
         },
         {
          "font": {
           "color": "#FFFFFF"
          },
          "showarrow": false,
          "text": "nan",
          "x": "Año",
          "xref": "x",
          "y": "Segundo",
          "yref": "y"
         },
         {
          "font": {
           "color": "#FFFFFF"
          },
          "showarrow": false,
          "text": "0.16",
          "x": "Hora",
          "xref": "x",
          "y": "Segundo",
          "yref": "y"
         },
         {
          "font": {
           "color": "#FFFFFF"
          },
          "showarrow": false,
          "text": "0.4",
          "x": "Minuto",
          "xref": "x",
          "y": "Segundo",
          "yref": "y"
         },
         {
          "font": {
           "color": "#FFFFFF"
          },
          "showarrow": false,
          "text": "1.0",
          "x": "Segundo",
          "xref": "x",
          "y": "Segundo",
          "yref": "y"
         }
        ],
        "height": 700,
        "template": {
         "data": {
          "bar": [
           {
            "error_x": {
             "color": "#2a3f5f"
            },
            "error_y": {
             "color": "#2a3f5f"
            },
            "marker": {
             "line": {
              "color": "#E5ECF6",
              "width": 0.5
             },
             "pattern": {
              "fillmode": "overlay",
              "size": 10,
              "solidity": 0.2
             }
            },
            "type": "bar"
           }
          ],
          "barpolar": [
           {
            "marker": {
             "line": {
              "color": "#E5ECF6",
              "width": 0.5
             },
             "pattern": {
              "fillmode": "overlay",
              "size": 10,
              "solidity": 0.2
             }
            },
            "type": "barpolar"
           }
          ],
          "carpet": [
           {
            "aaxis": {
             "endlinecolor": "#2a3f5f",
             "gridcolor": "white",
             "linecolor": "white",
             "minorgridcolor": "white",
             "startlinecolor": "#2a3f5f"
            },
            "baxis": {
             "endlinecolor": "#2a3f5f",
             "gridcolor": "white",
             "linecolor": "white",
             "minorgridcolor": "white",
             "startlinecolor": "#2a3f5f"
            },
            "type": "carpet"
           }
          ],
          "choropleth": [
           {
            "colorbar": {
             "outlinewidth": 0,
             "ticks": ""
            },
            "type": "choropleth"
           }
          ],
          "contour": [
           {
            "colorbar": {
             "outlinewidth": 0,
             "ticks": ""
            },
            "colorscale": [
             [
              0,
              "#0d0887"
             ],
             [
              0.1111111111111111,
              "#46039f"
             ],
             [
              0.2222222222222222,
              "#7201a8"
             ],
             [
              0.3333333333333333,
              "#9c179e"
             ],
             [
              0.4444444444444444,
              "#bd3786"
             ],
             [
              0.5555555555555556,
              "#d8576b"
             ],
             [
              0.6666666666666666,
              "#ed7953"
             ],
             [
              0.7777777777777778,
              "#fb9f3a"
             ],
             [
              0.8888888888888888,
              "#fdca26"
             ],
             [
              1,
              "#f0f921"
             ]
            ],
            "type": "contour"
           }
          ],
          "contourcarpet": [
           {
            "colorbar": {
             "outlinewidth": 0,
             "ticks": ""
            },
            "type": "contourcarpet"
           }
          ],
          "heatmap": [
           {
            "colorbar": {
             "outlinewidth": 0,
             "ticks": ""
            },
            "colorscale": [
             [
              0,
              "#0d0887"
             ],
             [
              0.1111111111111111,
              "#46039f"
             ],
             [
              0.2222222222222222,
              "#7201a8"
             ],
             [
              0.3333333333333333,
              "#9c179e"
             ],
             [
              0.4444444444444444,
              "#bd3786"
             ],
             [
              0.5555555555555556,
              "#d8576b"
             ],
             [
              0.6666666666666666,
              "#ed7953"
             ],
             [
              0.7777777777777778,
              "#fb9f3a"
             ],
             [
              0.8888888888888888,
              "#fdca26"
             ],
             [
              1,
              "#f0f921"
             ]
            ],
            "type": "heatmap"
           }
          ],
          "heatmapgl": [
           {
            "colorbar": {
             "outlinewidth": 0,
             "ticks": ""
            },
            "colorscale": [
             [
              0,
              "#0d0887"
             ],
             [
              0.1111111111111111,
              "#46039f"
             ],
             [
              0.2222222222222222,
              "#7201a8"
             ],
             [
              0.3333333333333333,
              "#9c179e"
             ],
             [
              0.4444444444444444,
              "#bd3786"
             ],
             [
              0.5555555555555556,
              "#d8576b"
             ],
             [
              0.6666666666666666,
              "#ed7953"
             ],
             [
              0.7777777777777778,
              "#fb9f3a"
             ],
             [
              0.8888888888888888,
              "#fdca26"
             ],
             [
              1,
              "#f0f921"
             ]
            ],
            "type": "heatmapgl"
           }
          ],
          "histogram": [
           {
            "marker": {
             "pattern": {
              "fillmode": "overlay",
              "size": 10,
              "solidity": 0.2
             }
            },
            "type": "histogram"
           }
          ],
          "histogram2d": [
           {
            "colorbar": {
             "outlinewidth": 0,
             "ticks": ""
            },
            "colorscale": [
             [
              0,
              "#0d0887"
             ],
             [
              0.1111111111111111,
              "#46039f"
             ],
             [
              0.2222222222222222,
              "#7201a8"
             ],
             [
              0.3333333333333333,
              "#9c179e"
             ],
             [
              0.4444444444444444,
              "#bd3786"
             ],
             [
              0.5555555555555556,
              "#d8576b"
             ],
             [
              0.6666666666666666,
              "#ed7953"
             ],
             [
              0.7777777777777778,
              "#fb9f3a"
             ],
             [
              0.8888888888888888,
              "#fdca26"
             ],
             [
              1,
              "#f0f921"
             ]
            ],
            "type": "histogram2d"
           }
          ],
          "histogram2dcontour": [
           {
            "colorbar": {
             "outlinewidth": 0,
             "ticks": ""
            },
            "colorscale": [
             [
              0,
              "#0d0887"
             ],
             [
              0.1111111111111111,
              "#46039f"
             ],
             [
              0.2222222222222222,
              "#7201a8"
             ],
             [
              0.3333333333333333,
              "#9c179e"
             ],
             [
              0.4444444444444444,
              "#bd3786"
             ],
             [
              0.5555555555555556,
              "#d8576b"
             ],
             [
              0.6666666666666666,
              "#ed7953"
             ],
             [
              0.7777777777777778,
              "#fb9f3a"
             ],
             [
              0.8888888888888888,
              "#fdca26"
             ],
             [
              1,
              "#f0f921"
             ]
            ],
            "type": "histogram2dcontour"
           }
          ],
          "mesh3d": [
           {
            "colorbar": {
             "outlinewidth": 0,
             "ticks": ""
            },
            "type": "mesh3d"
           }
          ],
          "parcoords": [
           {
            "line": {
             "colorbar": {
              "outlinewidth": 0,
              "ticks": ""
             }
            },
            "type": "parcoords"
           }
          ],
          "pie": [
           {
            "automargin": true,
            "type": "pie"
           }
          ],
          "scatter": [
           {
            "fillpattern": {
             "fillmode": "overlay",
             "size": 10,
             "solidity": 0.2
            },
            "type": "scatter"
           }
          ],
          "scatter3d": [
           {
            "line": {
             "colorbar": {
              "outlinewidth": 0,
              "ticks": ""
             }
            },
            "marker": {
             "colorbar": {
              "outlinewidth": 0,
              "ticks": ""
             }
            },
            "type": "scatter3d"
           }
          ],
          "scattercarpet": [
           {
            "marker": {
             "colorbar": {
              "outlinewidth": 0,
              "ticks": ""
             }
            },
            "type": "scattercarpet"
           }
          ],
          "scattergeo": [
           {
            "marker": {
             "colorbar": {
              "outlinewidth": 0,
              "ticks": ""
             }
            },
            "type": "scattergeo"
           }
          ],
          "scattergl": [
           {
            "marker": {
             "colorbar": {
              "outlinewidth": 0,
              "ticks": ""
             }
            },
            "type": "scattergl"
           }
          ],
          "scattermapbox": [
           {
            "marker": {
             "colorbar": {
              "outlinewidth": 0,
              "ticks": ""
             }
            },
            "type": "scattermapbox"
           }
          ],
          "scatterpolar": [
           {
            "marker": {
             "colorbar": {
              "outlinewidth": 0,
              "ticks": ""
             }
            },
            "type": "scatterpolar"
           }
          ],
          "scatterpolargl": [
           {
            "marker": {
             "colorbar": {
              "outlinewidth": 0,
              "ticks": ""
             }
            },
            "type": "scatterpolargl"
           }
          ],
          "scatterternary": [
           {
            "marker": {
             "colorbar": {
              "outlinewidth": 0,
              "ticks": ""
             }
            },
            "type": "scatterternary"
           }
          ],
          "surface": [
           {
            "colorbar": {
             "outlinewidth": 0,
             "ticks": ""
            },
            "colorscale": [
             [
              0,
              "#0d0887"
             ],
             [
              0.1111111111111111,
              "#46039f"
             ],
             [
              0.2222222222222222,
              "#7201a8"
             ],
             [
              0.3333333333333333,
              "#9c179e"
             ],
             [
              0.4444444444444444,
              "#bd3786"
             ],
             [
              0.5555555555555556,
              "#d8576b"
             ],
             [
              0.6666666666666666,
              "#ed7953"
             ],
             [
              0.7777777777777778,
              "#fb9f3a"
             ],
             [
              0.8888888888888888,
              "#fdca26"
             ],
             [
              1,
              "#f0f921"
             ]
            ],
            "type": "surface"
           }
          ],
          "table": [
           {
            "cells": {
             "fill": {
              "color": "#EBF0F8"
             },
             "line": {
              "color": "white"
             }
            },
            "header": {
             "fill": {
              "color": "#C8D4E3"
             },
             "line": {
              "color": "white"
             }
            },
            "type": "table"
           }
          ]
         },
         "layout": {
          "annotationdefaults": {
           "arrowcolor": "#2a3f5f",
           "arrowhead": 0,
           "arrowwidth": 1
          },
          "autotypenumbers": "strict",
          "coloraxis": {
           "colorbar": {
            "outlinewidth": 0,
            "ticks": ""
           }
          },
          "colorscale": {
           "diverging": [
            [
             0,
             "#8e0152"
            ],
            [
             0.1,
             "#c51b7d"
            ],
            [
             0.2,
             "#de77ae"
            ],
            [
             0.3,
             "#f1b6da"
            ],
            [
             0.4,
             "#fde0ef"
            ],
            [
             0.5,
             "#f7f7f7"
            ],
            [
             0.6,
             "#e6f5d0"
            ],
            [
             0.7,
             "#b8e186"
            ],
            [
             0.8,
             "#7fbc41"
            ],
            [
             0.9,
             "#4d9221"
            ],
            [
             1,
             "#276419"
            ]
           ],
           "sequential": [
            [
             0,
             "#0d0887"
            ],
            [
             0.1111111111111111,
             "#46039f"
            ],
            [
             0.2222222222222222,
             "#7201a8"
            ],
            [
             0.3333333333333333,
             "#9c179e"
            ],
            [
             0.4444444444444444,
             "#bd3786"
            ],
            [
             0.5555555555555556,
             "#d8576b"
            ],
            [
             0.6666666666666666,
             "#ed7953"
            ],
            [
             0.7777777777777778,
             "#fb9f3a"
            ],
            [
             0.8888888888888888,
             "#fdca26"
            ],
            [
             1,
             "#f0f921"
            ]
           ],
           "sequentialminus": [
            [
             0,
             "#0d0887"
            ],
            [
             0.1111111111111111,
             "#46039f"
            ],
            [
             0.2222222222222222,
             "#7201a8"
            ],
            [
             0.3333333333333333,
             "#9c179e"
            ],
            [
             0.4444444444444444,
             "#bd3786"
            ],
            [
             0.5555555555555556,
             "#d8576b"
            ],
            [
             0.6666666666666666,
             "#ed7953"
            ],
            [
             0.7777777777777778,
             "#fb9f3a"
            ],
            [
             0.8888888888888888,
             "#fdca26"
            ],
            [
             1,
             "#f0f921"
            ]
           ]
          },
          "colorway": [
           "#636efa",
           "#EF553B",
           "#00cc96",
           "#ab63fa",
           "#FFA15A",
           "#19d3f3",
           "#FF6692",
           "#B6E880",
           "#FF97FF",
           "#FECB52"
          ],
          "font": {
           "color": "#2a3f5f"
          },
          "geo": {
           "bgcolor": "white",
           "lakecolor": "white",
           "landcolor": "#E5ECF6",
           "showlakes": true,
           "showland": true,
           "subunitcolor": "white"
          },
          "hoverlabel": {
           "align": "left"
          },
          "hovermode": "closest",
          "mapbox": {
           "style": "light"
          },
          "paper_bgcolor": "white",
          "plot_bgcolor": "#E5ECF6",
          "polar": {
           "angularaxis": {
            "gridcolor": "white",
            "linecolor": "white",
            "ticks": ""
           },
           "bgcolor": "#E5ECF6",
           "radialaxis": {
            "gridcolor": "white",
            "linecolor": "white",
            "ticks": ""
           }
          },
          "scene": {
           "xaxis": {
            "backgroundcolor": "#E5ECF6",
            "gridcolor": "white",
            "gridwidth": 2,
            "linecolor": "white",
            "showbackground": true,
            "ticks": "",
            "zerolinecolor": "white"
           },
           "yaxis": {
            "backgroundcolor": "#E5ECF6",
            "gridcolor": "white",
            "gridwidth": 2,
            "linecolor": "white",
            "showbackground": true,
            "ticks": "",
            "zerolinecolor": "white"
           },
           "zaxis": {
            "backgroundcolor": "#E5ECF6",
            "gridcolor": "white",
            "gridwidth": 2,
            "linecolor": "white",
            "showbackground": true,
            "ticks": "",
            "zerolinecolor": "white"
           }
          },
          "shapedefaults": {
           "line": {
            "color": "#2a3f5f"
           }
          },
          "ternary": {
           "aaxis": {
            "gridcolor": "white",
            "linecolor": "white",
            "ticks": ""
           },
           "baxis": {
            "gridcolor": "white",
            "linecolor": "white",
            "ticks": ""
           },
           "bgcolor": "#E5ECF6",
           "caxis": {
            "gridcolor": "white",
            "linecolor": "white",
            "ticks": ""
           }
          },
          "title": {
           "x": 0.05
          },
          "xaxis": {
           "automargin": true,
           "gridcolor": "white",
           "linecolor": "white",
           "ticks": "",
           "title": {
            "standoff": 15
           },
           "zerolinecolor": "white",
           "zerolinewidth": 2
          },
          "yaxis": {
           "automargin": true,
           "gridcolor": "white",
           "linecolor": "white",
           "ticks": "",
           "title": {
            "standoff": 15
           },
           "zerolinecolor": "white",
           "zerolinewidth": 2
          }
         }
        },
        "title": {
         "text": "Matriz de correlación de Pearson"
        },
        "width": 800,
        "xaxis": {
         "dtick": 1,
         "gridcolor": "rgb(0, 0, 0)",
         "side": "top",
         "ticks": ""
        },
        "yaxis": {
         "dtick": 1,
         "ticks": "",
         "ticksuffix": "  "
        }
       }
      }
     },
     "metadata": {},
     "output_type": "display_data"
    }
   ],
   "source": [
    "\n",
    "# Crear una matriz de correlación interactiva\n",
    "fig = ff.create_annotated_heatmap(\n",
    "    z=correlation_matrix.values,\n",
    "    x=list(correlation_matrix.columns),\n",
    "    y=list(correlation_matrix.index),\n",
    "    annotation_text=correlation_matrix.round(2).values,\n",
    "    colorscale='Viridis',\n",
    "    reversescale=True,\n",
    "    showscale=True\n",
    ")\n",
    "\n",
    "# Ajustar el tamaño y el título\n",
    "fig.update_layout(title='Matriz de correlación de Pearson', width=800, height=700)\n",
    "\n",
    "# Mostrar el gráfico\n",
    "fig.show()"
   ]
  },
  {
   "cell_type": "code",
   "execution_count": 157,
   "metadata": {},
   "outputs": [
    {
     "data": {
      "text/html": [
       "<div>\n",
       "<style scoped>\n",
       "    .dataframe tbody tr th:only-of-type {\n",
       "        vertical-align: middle;\n",
       "    }\n",
       "\n",
       "    .dataframe tbody tr th {\n",
       "        vertical-align: top;\n",
       "    }\n",
       "\n",
       "    .dataframe thead th {\n",
       "        text-align: right;\n",
       "    }\n",
       "</style>\n",
       "<table border=\"1\" class=\"dataframe\">\n",
       "  <thead>\n",
       "    <tr style=\"text-align: right;\">\n",
       "      <th></th>\n",
       "      <th>Movimientos</th>\n",
       "      <th>Fecha de solicitud</th>\n",
       "      <th>Tipo de transacción</th>\n",
       "      <th>Estado</th>\n",
       "      <th>Signo</th>\n",
       "      <th>Monto</th>\n",
       "      <th>Comisión</th>\n",
       "      <th>Impuesto</th>\n",
       "      <th>Pago</th>\n",
       "      <th>Número de identificación</th>\n",
       "      <th>...</th>\n",
       "      <th>RRN</th>\n",
       "      <th>Código de afiliado</th>\n",
       "      <th>Descripción.1</th>\n",
       "      <th>Saldo Actual</th>\n",
       "      <th>Dia</th>\n",
       "      <th>Mes</th>\n",
       "      <th>Año</th>\n",
       "      <th>Hora</th>\n",
       "      <th>Minuto</th>\n",
       "      <th>Segundo</th>\n",
       "    </tr>\n",
       "  </thead>\n",
       "  <tbody>\n",
       "    <tr>\n",
       "      <th>0</th>\n",
       "      <td>543063</td>\n",
       "      <td>2023-09-22 20:54:20</td>\n",
       "      <td>1</td>\n",
       "      <td>0</td>\n",
       "      <td>1</td>\n",
       "      <td>2.0</td>\n",
       "      <td>0.05</td>\n",
       "      <td>0.0</td>\n",
       "      <td>1.95</td>\n",
       "      <td>1</td>\n",
       "      <td>...</td>\n",
       "      <td>14</td>\n",
       "      <td>0</td>\n",
       "      <td>0</td>\n",
       "      <td>39.30</td>\n",
       "      <td>22</td>\n",
       "      <td>9</td>\n",
       "      <td>2023</td>\n",
       "      <td>20</td>\n",
       "      <td>54</td>\n",
       "      <td>20</td>\n",
       "    </tr>\n",
       "    <tr>\n",
       "      <th>1</th>\n",
       "      <td>543064</td>\n",
       "      <td>2023-09-22 20:54:20</td>\n",
       "      <td>0</td>\n",
       "      <td>0</td>\n",
       "      <td>0</td>\n",
       "      <td>2.0</td>\n",
       "      <td>0.00</td>\n",
       "      <td>0.0</td>\n",
       "      <td>0.00</td>\n",
       "      <td>0</td>\n",
       "      <td>...</td>\n",
       "      <td>14</td>\n",
       "      <td>0</td>\n",
       "      <td>0</td>\n",
       "      <td>35.63</td>\n",
       "      <td>22</td>\n",
       "      <td>9</td>\n",
       "      <td>2023</td>\n",
       "      <td>20</td>\n",
       "      <td>54</td>\n",
       "      <td>20</td>\n",
       "    </tr>\n",
       "    <tr>\n",
       "      <th>2</th>\n",
       "      <td>537378</td>\n",
       "      <td>2023-09-20 09:40:38</td>\n",
       "      <td>1</td>\n",
       "      <td>0</td>\n",
       "      <td>1</td>\n",
       "      <td>2.0</td>\n",
       "      <td>0.05</td>\n",
       "      <td>0.0</td>\n",
       "      <td>1.95</td>\n",
       "      <td>1</td>\n",
       "      <td>...</td>\n",
       "      <td>13</td>\n",
       "      <td>0</td>\n",
       "      <td>0</td>\n",
       "      <td>39.30</td>\n",
       "      <td>20</td>\n",
       "      <td>9</td>\n",
       "      <td>2023</td>\n",
       "      <td>9</td>\n",
       "      <td>40</td>\n",
       "      <td>38</td>\n",
       "    </tr>\n",
       "    <tr>\n",
       "      <th>3</th>\n",
       "      <td>537379</td>\n",
       "      <td>2023-09-20 09:40:38</td>\n",
       "      <td>0</td>\n",
       "      <td>0</td>\n",
       "      <td>0</td>\n",
       "      <td>2.0</td>\n",
       "      <td>0.00</td>\n",
       "      <td>0.0</td>\n",
       "      <td>0.00</td>\n",
       "      <td>0</td>\n",
       "      <td>...</td>\n",
       "      <td>13</td>\n",
       "      <td>0</td>\n",
       "      <td>0</td>\n",
       "      <td>35.63</td>\n",
       "      <td>20</td>\n",
       "      <td>9</td>\n",
       "      <td>2023</td>\n",
       "      <td>9</td>\n",
       "      <td>40</td>\n",
       "      <td>38</td>\n",
       "    </tr>\n",
       "    <tr>\n",
       "      <th>4</th>\n",
       "      <td>536745</td>\n",
       "      <td>2023-09-19 20:49:47</td>\n",
       "      <td>1</td>\n",
       "      <td>0</td>\n",
       "      <td>1</td>\n",
       "      <td>1.1</td>\n",
       "      <td>0.03</td>\n",
       "      <td>0.0</td>\n",
       "      <td>1.07</td>\n",
       "      <td>1</td>\n",
       "      <td>...</td>\n",
       "      <td>12</td>\n",
       "      <td>0</td>\n",
       "      <td>0</td>\n",
       "      <td>39.30</td>\n",
       "      <td>19</td>\n",
       "      <td>9</td>\n",
       "      <td>2023</td>\n",
       "      <td>20</td>\n",
       "      <td>49</td>\n",
       "      <td>47</td>\n",
       "    </tr>\n",
       "  </tbody>\n",
       "</table>\n",
       "<p>5 rows × 32 columns</p>\n",
       "</div>"
      ],
      "text/plain": [
       "   Movimientos  Fecha de solicitud  Tipo de transacción  Estado Signo  Monto  \\\n",
       "0       543063 2023-09-22 20:54:20                    1       0     1    2.0   \n",
       "1       543064 2023-09-22 20:54:20                    0       0     0    2.0   \n",
       "2       537378 2023-09-20 09:40:38                    1       0     1    2.0   \n",
       "3       537379 2023-09-20 09:40:38                    0       0     0    2.0   \n",
       "4       536745 2023-09-19 20:49:47                    1       0     1    1.1   \n",
       "\n",
       "   Comisión  Impuesto  Pago  Número de identificación  ...  RRN  \\\n",
       "0      0.05       0.0  1.95                         1  ...   14   \n",
       "1      0.00       0.0  0.00                         0  ...   14   \n",
       "2      0.05       0.0  1.95                         1  ...   13   \n",
       "3      0.00       0.0  0.00                         0  ...   13   \n",
       "4      0.03       0.0  1.07                         1  ...   12   \n",
       "\n",
       "   Código de afiliado  Descripción.1  Saldo Actual  Dia  Mes   Año  Hora  \\\n",
       "0                   0              0         39.30   22    9  2023    20   \n",
       "1                   0              0         35.63   22    9  2023    20   \n",
       "2                   0              0         39.30   20    9  2023     9   \n",
       "3                   0              0         35.63   20    9  2023     9   \n",
       "4                   0              0         39.30   19    9  2023    20   \n",
       "\n",
       "   Minuto  Segundo  \n",
       "0      54       20  \n",
       "1      54       20  \n",
       "2      40       38  \n",
       "3      40       38  \n",
       "4      49       47  \n",
       "\n",
       "[5 rows x 32 columns]"
      ]
     },
     "execution_count": 157,
     "metadata": {},
     "output_type": "execute_result"
    }
   ],
   "source": [
    "dataA.head()"
   ]
  },
  {
   "cell_type": "code",
   "execution_count": 158,
   "metadata": {},
   "outputs": [
    {
     "name": "stdout",
     "output_type": "stream",
     "text": [
      "<class 'pandas.core.frame.DataFrame'>\n",
      "RangeIndex: 30 entries, 0 to 29\n",
      "Data columns (total 32 columns):\n",
      " #   Column                      Non-Null Count  Dtype         \n",
      "---  ------                      --------------  -----         \n",
      " 0   Movimientos                 30 non-null     int64         \n",
      " 1   Fecha de solicitud          30 non-null     datetime64[ns]\n",
      " 2   Tipo de transacción         30 non-null     category      \n",
      " 3   Estado                      30 non-null     category      \n",
      " 4   Signo                       30 non-null     category      \n",
      " 5   Monto                       30 non-null     float64       \n",
      " 6   Comisión                    30 non-null     float64       \n",
      " 7   Impuesto                    30 non-null     float64       \n",
      " 8   Pago                        30 non-null     float64       \n",
      " 9   Número de identificación    30 non-null     object        \n",
      " 10  Número de cliente           30 non-null     float64       \n",
      " 11  Nombre Cliente              30 non-null     object        \n",
      " 12  Teléfono                    30 non-null     float64       \n",
      " 13  Nro de tarjeta enmascarado  30 non-null     float64       \n",
      " 14  Tipo de tarjeta             30 non-null     float64       \n",
      " 15  Descripción                 30 non-null     object        \n",
      " 16  Terminal                    30 non-null     object        \n",
      " 17  Lote                        30 non-null     int64         \n",
      " 18  Recibo                      30 non-null     object        \n",
      " 19  Huella del Dispositivo      30 non-null     float64       \n",
      " 20  Código de respuesta         30 non-null     int64         \n",
      " 21  Código de autorización      30 non-null     int64         \n",
      " 22  RRN                         30 non-null     object        \n",
      " 23  Código de afiliado          30 non-null     int32         \n",
      " 24  Descripción.1               30 non-null     object        \n",
      " 25  Saldo Actual                30 non-null     float64       \n",
      " 26  Dia                         30 non-null     int32         \n",
      " 27  Mes                         30 non-null     int32         \n",
      " 28  Año                         30 non-null     int32         \n",
      " 29  Hora                        30 non-null     int32         \n",
      " 30  Minuto                      30 non-null     int32         \n",
      " 31  Segundo                     30 non-null     int32         \n",
      "dtypes: category(3), datetime64[ns](1), float64(10), int32(7), int64(4), object(7)\n",
      "memory usage: 6.5+ KB\n"
     ]
    }
   ],
   "source": [
    "data.info()"
   ]
  },
  {
   "cell_type": "code",
   "execution_count": 159,
   "metadata": {},
   "outputs": [],
   "source": [
    "columnas_a_eliminar = ['Movimientos', 'Descripción', 'Año', 'Minuto', 'Segundo', 'Descripción.1']\n",
    "data = data.drop(columnas_a_eliminar, axis=1)\n"
   ]
  },
  {
   "cell_type": "code",
   "execution_count": 160,
   "metadata": {},
   "outputs": [
    {
     "data": {
      "text/html": [
       "<div>\n",
       "<style scoped>\n",
       "    .dataframe tbody tr th:only-of-type {\n",
       "        vertical-align: middle;\n",
       "    }\n",
       "\n",
       "    .dataframe tbody tr th {\n",
       "        vertical-align: top;\n",
       "    }\n",
       "\n",
       "    .dataframe thead th {\n",
       "        text-align: right;\n",
       "    }\n",
       "</style>\n",
       "<table border=\"1\" class=\"dataframe\">\n",
       "  <thead>\n",
       "    <tr style=\"text-align: right;\">\n",
       "      <th></th>\n",
       "      <th>Fecha de solicitud</th>\n",
       "      <th>Tipo de transacción</th>\n",
       "      <th>Estado</th>\n",
       "      <th>Signo</th>\n",
       "      <th>Monto</th>\n",
       "      <th>Comisión</th>\n",
       "      <th>Impuesto</th>\n",
       "      <th>Pago</th>\n",
       "      <th>Número de identificación</th>\n",
       "      <th>Número de cliente</th>\n",
       "      <th>...</th>\n",
       "      <th>Recibo</th>\n",
       "      <th>Huella del Dispositivo</th>\n",
       "      <th>Código de respuesta</th>\n",
       "      <th>Código de autorización</th>\n",
       "      <th>RRN</th>\n",
       "      <th>Código de afiliado</th>\n",
       "      <th>Saldo Actual</th>\n",
       "      <th>Dia</th>\n",
       "      <th>Mes</th>\n",
       "      <th>Hora</th>\n",
       "    </tr>\n",
       "  </thead>\n",
       "  <tbody>\n",
       "    <tr>\n",
       "      <th>0</th>\n",
       "      <td>2023-09-22 20:54:20</td>\n",
       "      <td>RECARGA</td>\n",
       "      <td>Aprobada</td>\n",
       "      <td>+</td>\n",
       "      <td>2.0</td>\n",
       "      <td>0.05</td>\n",
       "      <td>0.0</td>\n",
       "      <td>1.95</td>\n",
       "      <td>A4016229</td>\n",
       "      <td>990113547.0</td>\n",
       "      <td>...</td>\n",
       "      <td>STAN202309222054201443</td>\n",
       "      <td>0.0</td>\n",
       "      <td>0</td>\n",
       "      <td>903658</td>\n",
       "      <td>RRN202309222054201443</td>\n",
       "      <td>0</td>\n",
       "      <td>39.30</td>\n",
       "      <td>22</td>\n",
       "      <td>9</td>\n",
       "      <td>20</td>\n",
       "    </tr>\n",
       "    <tr>\n",
       "      <th>1</th>\n",
       "      <td>2023-09-22 20:54:20</td>\n",
       "      <td>DEBITO</td>\n",
       "      <td>Aprobada</td>\n",
       "      <td>-</td>\n",
       "      <td>2.0</td>\n",
       "      <td>0.00</td>\n",
       "      <td>0.0</td>\n",
       "      <td>0.00</td>\n",
       "      <td>0</td>\n",
       "      <td>0.0</td>\n",
       "      <td>...</td>\n",
       "      <td>STAN202309222054201443</td>\n",
       "      <td>0.0</td>\n",
       "      <td>0</td>\n",
       "      <td>687605</td>\n",
       "      <td>RRN202309222054201443</td>\n",
       "      <td>0</td>\n",
       "      <td>35.63</td>\n",
       "      <td>22</td>\n",
       "      <td>9</td>\n",
       "      <td>20</td>\n",
       "    </tr>\n",
       "    <tr>\n",
       "      <th>2</th>\n",
       "      <td>2023-09-20 09:40:38</td>\n",
       "      <td>RECARGA</td>\n",
       "      <td>Aprobada</td>\n",
       "      <td>+</td>\n",
       "      <td>2.0</td>\n",
       "      <td>0.05</td>\n",
       "      <td>0.0</td>\n",
       "      <td>1.95</td>\n",
       "      <td>A4016229</td>\n",
       "      <td>990113547.0</td>\n",
       "      <td>...</td>\n",
       "      <td>STAN202309200940377953</td>\n",
       "      <td>0.0</td>\n",
       "      <td>0</td>\n",
       "      <td>671536</td>\n",
       "      <td>RRN202309200940377953</td>\n",
       "      <td>0</td>\n",
       "      <td>39.30</td>\n",
       "      <td>20</td>\n",
       "      <td>9</td>\n",
       "      <td>9</td>\n",
       "    </tr>\n",
       "    <tr>\n",
       "      <th>3</th>\n",
       "      <td>2023-09-20 09:40:38</td>\n",
       "      <td>DEBITO</td>\n",
       "      <td>Aprobada</td>\n",
       "      <td>-</td>\n",
       "      <td>2.0</td>\n",
       "      <td>0.00</td>\n",
       "      <td>0.0</td>\n",
       "      <td>0.00</td>\n",
       "      <td>0</td>\n",
       "      <td>0.0</td>\n",
       "      <td>...</td>\n",
       "      <td>STAN202309200940377953</td>\n",
       "      <td>0.0</td>\n",
       "      <td>0</td>\n",
       "      <td>333365</td>\n",
       "      <td>RRN202309200940377953</td>\n",
       "      <td>0</td>\n",
       "      <td>35.63</td>\n",
       "      <td>20</td>\n",
       "      <td>9</td>\n",
       "      <td>9</td>\n",
       "    </tr>\n",
       "    <tr>\n",
       "      <th>4</th>\n",
       "      <td>2023-09-19 20:49:47</td>\n",
       "      <td>RECARGA</td>\n",
       "      <td>Aprobada</td>\n",
       "      <td>+</td>\n",
       "      <td>1.1</td>\n",
       "      <td>0.03</td>\n",
       "      <td>0.0</td>\n",
       "      <td>1.07</td>\n",
       "      <td>A4016229</td>\n",
       "      <td>990113547.0</td>\n",
       "      <td>...</td>\n",
       "      <td>STAN202309192049469458</td>\n",
       "      <td>0.0</td>\n",
       "      <td>0</td>\n",
       "      <td>56559</td>\n",
       "      <td>RRN202309192049469458</td>\n",
       "      <td>0</td>\n",
       "      <td>39.30</td>\n",
       "      <td>19</td>\n",
       "      <td>9</td>\n",
       "      <td>20</td>\n",
       "    </tr>\n",
       "  </tbody>\n",
       "</table>\n",
       "<p>5 rows × 26 columns</p>\n",
       "</div>"
      ],
      "text/plain": [
       "   Fecha de solicitud Tipo de transacción    Estado Signo  Monto  Comisión  \\\n",
       "0 2023-09-22 20:54:20             RECARGA  Aprobada     +    2.0      0.05   \n",
       "1 2023-09-22 20:54:20              DEBITO  Aprobada     -    2.0      0.00   \n",
       "2 2023-09-20 09:40:38             RECARGA  Aprobada     +    2.0      0.05   \n",
       "3 2023-09-20 09:40:38              DEBITO  Aprobada     -    2.0      0.00   \n",
       "4 2023-09-19 20:49:47             RECARGA  Aprobada     +    1.1      0.03   \n",
       "\n",
       "   Impuesto  Pago Número de identificación  Número de cliente  ...  \\\n",
       "0       0.0  1.95                 A4016229        990113547.0  ...   \n",
       "1       0.0  0.00                        0                0.0  ...   \n",
       "2       0.0  1.95                 A4016229        990113547.0  ...   \n",
       "3       0.0  0.00                        0                0.0  ...   \n",
       "4       0.0  1.07                 A4016229        990113547.0  ...   \n",
       "\n",
       "                   Recibo  Huella del Dispositivo  Código de respuesta  \\\n",
       "0  STAN202309222054201443                     0.0                    0   \n",
       "1  STAN202309222054201443                     0.0                    0   \n",
       "2  STAN202309200940377953                     0.0                    0   \n",
       "3  STAN202309200940377953                     0.0                    0   \n",
       "4  STAN202309192049469458                     0.0                    0   \n",
       "\n",
       "   Código de autorización                    RRN  Código de afiliado  \\\n",
       "0                  903658  RRN202309222054201443                   0   \n",
       "1                  687605  RRN202309222054201443                   0   \n",
       "2                  671536  RRN202309200940377953                   0   \n",
       "3                  333365  RRN202309200940377953                   0   \n",
       "4                   56559  RRN202309192049469458                   0   \n",
       "\n",
       "  Saldo Actual  Dia  Mes  Hora  \n",
       "0        39.30   22    9    20  \n",
       "1        35.63   22    9    20  \n",
       "2        39.30   20    9     9  \n",
       "3        35.63   20    9     9  \n",
       "4        39.30   19    9    20  \n",
       "\n",
       "[5 rows x 26 columns]"
      ]
     },
     "execution_count": 160,
     "metadata": {},
     "output_type": "execute_result"
    }
   ],
   "source": [
    "data.head()"
   ]
  },
  {
   "cell_type": "code",
   "execution_count": 161,
   "metadata": {},
   "outputs": [
    {
     "data": {
      "image/png": "[encoded data removed]",
      "text/plain": [
       "<Figure size 640x480 with 1 Axes>"
      ]
     },
     "metadata": {},
     "output_type": "display_data"
    }
   ],
   "source": [
    "plot_bar(data)"
   ]
  },
  {
   "cell_type": "code",
   "execution_count": 162,
   "metadata": {},
   "outputs": [
    {
     "data": {
      "image/png": "[encoded data removed]",
      "text/plain": [
       "<Figure size 640x480 with 1 Axes>"
      ]
     },
     "metadata": {},
     "output_type": "display_data"
    }
   ],
   "source": [
    "plot_pie(data)"
   ]
  },
  {
   "cell_type": "code",
   "execution_count": 163,
   "metadata": {},
   "outputs": [
    {
     "data": {
      "image/png": "[encoded data removed]",
      "text/plain": [
       "<Figure size 640x480 with 1 Axes>"
      ]
     },
     "metadata": {},
     "output_type": "display_data"
    }
   ],
   "source": [
    "plot_histogram(data)"
   ]
  },
  {
   "cell_type": "code",
   "execution_count": 164,
   "metadata": {},
   "outputs": [
    {
     "data": {
      "image/png": "[encoded data removed]",
      "text/plain": [
       "<Figure size 640x480 with 1 Axes>"
      ]
     },
     "metadata": {},
     "output_type": "display_data"
    }
   ],
   "source": [
    "plot_line(data)"
   ]
  },
  {
   "cell_type": "code",
   "execution_count": 165,
   "metadata": {},
   "outputs": [
    {
     "data": {
      "image/png": "[encoded data removed]",
      "text/plain": [
       "<Figure size 640x480 with 1 Axes>"
      ]
     },
     "metadata": {},
     "output_type": "display_data"
    }
   ],
   "source": [
    "plot_area(data)"
   ]
  },
  {
   "cell_type": "code",
   "execution_count": 166,
   "metadata": {},
   "outputs": [
    {
     "data": {
      "image/png": "[encoded data removed]",
      "text/plain": [
       "<Figure size 640x480 with 1 Axes>"
      ]
     },
     "metadata": {},
     "output_type": "display_data"
    }
   ],
   "source": [
    "plot_scatter(data)"
   ]
  },
  {
   "cell_type": "code",
   "execution_count": 167,
   "metadata": {},
   "outputs": [
    {
     "data": {
      "image/png": "[encoded data removed]",
      "text/plain": [
       "<Figure size 640x480 with 1 Axes>"
      ]
     },
     "metadata": {},
     "output_type": "display_data"
    }
   ],
   "source": [
    "plot_box(data)"
   ]
  },
  {
   "cell_type": "markdown",
   "metadata": {},
   "source": [
    "# INTERACTIVO"
   ]
  },
  {
   "cell_type": "code",
   "execution_count": 168,
   "metadata": {},
   "outputs": [
    {
     "data": {
      "application/vnd.jupyter.widget-view+json": {
       "model_id": "b2cbe464bffd4db48d95cc658b89410b",
       "version_major": 2,
       "version_minor": 0
      },
      "text/plain": [
       "interactive(children=(Dropdown(description='col', options=('Tipo de transacción', 'Estado', 'Signo', 'Número d…"
      ]
     },
     "metadata": {},
     "output_type": "display_data"
    },
    {
     "data": {
      "application/vnd.jupyter.widget-view+json": {
       "model_id": "4f33c79b809b4d88b3e8e8887b9a20d8",
       "version_major": 2,
       "version_minor": 0
      },
      "text/plain": [
       "interactive(children=(Dropdown(description='col', options=('Tipo de transacción', 'Estado', 'Signo', 'Número d…"
      ]
     },
     "metadata": {},
     "output_type": "display_data"
    },
    {
     "data": {
      "application/vnd.jupyter.widget-view+json": {
       "model_id": "0d1032c9563445f9919a87ff85370467",
       "version_major": 2,
       "version_minor": 0
      },
      "text/plain": [
       "interactive(children=(Dropdown(description='col', options=('Monto', 'Comisión', 'Impuesto', 'Pago', 'Número de…"
      ]
     },
     "metadata": {},
     "output_type": "display_data"
    },
    {
     "data": {
      "application/vnd.jupyter.widget-view+json": {
       "model_id": "78ffa1bce3c446709faeff2fd00797f9",
       "version_major": 2,
       "version_minor": 0
      },
      "text/plain": [
       "interactive(children=(Dropdown(description='date_col', options=('Fecha de solicitud',), value='Fecha de solici…"
      ]
     },
     "metadata": {},
     "output_type": "display_data"
    },
    {
     "data": {
      "application/vnd.jupyter.widget-view+json": {
       "model_id": "afbd98311f89419eb4b837e6cec59576",
       "version_major": 2,
       "version_minor": 0
      },
      "text/plain": [
       "interactive(children=(Dropdown(description='x_col', options=('Monto', 'Comisión', 'Impuesto', 'Pago', 'Número …"
      ]
     },
     "metadata": {},
     "output_type": "display_data"
    },
    {
     "data": {
      "application/vnd.jupyter.widget-view+json": {
       "model_id": "90c5a5ab53244309bb5e2eeca1ddcf0e",
       "version_major": 2,
       "version_minor": 0
      },
      "text/plain": [
       "interactive(children=(Dropdown(description='col', options=('Monto', 'Comisión', 'Impuesto', 'Pago', 'Número de…"
      ]
     },
     "metadata": {},
     "output_type": "display_data"
    },
    {
     "data": {
      "application/vnd.jupyter.widget-view+json": {
       "model_id": "b71b5e8cffaa41feabeeef071b6c6f3c",
       "version_major": 2,
       "version_minor": 0
      },
      "text/plain": [
       "interactive(children=(Dropdown(description='date_col', options=('Fecha de solicitud',), value='Fecha de solici…"
      ]
     },
     "metadata": {},
     "output_type": "display_data"
    }
   ],
   "source": [
    "import pandas as pd\n",
    "import matplotlib.pyplot as plt\n",
    "import ipywidgets as widgets\n",
    "from IPython.display import display, clear_output\n",
    "\n",
    "numeric_cols = data.select_dtypes(include=['float64', 'int64', 'int32']).columns.tolist()\n",
    "categorical_cols = data.select_dtypes(include=['object', 'category']).columns.tolist()\n",
    "date_cols = data.select_dtypes(include=['datetime']).columns.tolist()\n",
    "\n",
    "# Gráfico de barras\n",
    "@widgets.interact(col=categorical_cols)\n",
    "def interactive_bar(col=categorical_cols[0]):\n",
    "    data[col].value_counts().plot(kind='bar', color='skyblue')\n",
    "    plt.title(f'Frecuencia de {col}')\n",
    "    plt.xlabel(col)\n",
    "    plt.ylabel('Frecuencia')\n",
    "    plt.xticks(rotation=45, ha='right')\n",
    "    plt.tight_layout()\n",
    "    plt.show()\n",
    "\n",
    "# Gráfico de pastel\n",
    "@widgets.interact(col=categorical_cols)\n",
    "def interactive_pie(col=categorical_cols[0]):\n",
    "    data[col].value_counts().plot(kind='pie', autopct='%1.1f%%', startangle=90)\n",
    "    plt.title(f'Proporción de {col}')\n",
    "    plt.ylabel('')\n",
    "    plt.show()\n",
    "\n",
    "# Histograma\n",
    "@widgets.interact(col=numeric_cols, bins=widgets.IntSlider(value=30, min=10, max=100, step=1))\n",
    "def interactive_histogram(col=numeric_cols[0], bins=30):\n",
    "    plt.hist(data[col], bins=bins, color='lightgreen', edgecolor='black')\n",
    "    plt.title(f'Distribución de {col}')\n",
    "    plt.xlabel(col)\n",
    "    plt.ylabel('Frecuencia')\n",
    "    plt.grid(axis='y')\n",
    "    plt.show()\n",
    "\n",
    "# Gráfico de línea\n",
    "@widgets.interact(date_col=date_cols, y_col=numeric_cols)\n",
    "def interactive_line(date_col=date_cols[0], y_col=numeric_cols[0]):\n",
    "    plt.plot(data[date_col], data[y_col], color='royalblue')\n",
    "    plt.title(f'Tendencia de {y_col} en función de {date_col}')\n",
    "    plt.xlabel(date_col)\n",
    "    plt.ylabel(y_col)\n",
    "    plt.xticks(rotation=45)\n",
    "    plt.grid(True, which='both', linestyle='--', linewidth=0.5)\n",
    "    plt.tight_layout()\n",
    "    plt.show()\n",
    "\n",
    "# Gráfico de dispersión\n",
    "@widgets.interact(x_col=numeric_cols, y_col=numeric_cols)\n",
    "def interactive_scatter(x_col=numeric_cols[0], y_col=numeric_cols[1]):\n",
    "    plt.scatter(data[x_col], data[y_col], color='purple', alpha=0.6)\n",
    "    plt.title(f'Relación entre {x_col} y {y_col}')\n",
    "    plt.xlabel(x_col)\n",
    "    plt.ylabel(y_col)\n",
    "    plt.grid(True, which='both', linestyle='--', linewidth=0.5)\n",
    "    plt.tight_layout()\n",
    "    plt.show()\n",
    "\n",
    "# Box plot\n",
    "@widgets.interact(col=numeric_cols)\n",
    "def interactive_box(col=numeric_cols[0]):\n",
    "    plt.boxplot(data[col], vert=False, patch_artist=True, boxprops=dict(facecolor='lightyellow'))\n",
    "    plt.title(f'Distribución de {col}')\n",
    "    plt.xlabel(col)\n",
    "    plt.yticks([])\n",
    "    plt.grid(axis='x')\n",
    "    plt.show()\n",
    "\n",
    "# Gráfico de área\n",
    "@widgets.interact(date_col=date_cols, y_col=numeric_cols)\n",
    "def interactive_area(date_col=date_cols[0], y_col=numeric_cols[0]):\n",
    "    plt.fill_between(data[date_col], data[y_col], color='lightpink', label=y_col)\n",
    "    plt.title(f'Evolución de {y_col} en función de {date_col}')\n",
    "    plt.xlabel(date_col)\n",
    "    plt.ylabel(y_col)\n",
    "    plt.xticks(rotation=45)\n",
    "    plt.grid(True, which='both', linestyle='--', linewidth=0.5)\n",
    "    plt.legend()\n",
    "    plt.tight_layout()\n",
    "    plt.show()\n"
   ]
  }
 ],
 "metadata": {
  "kernelspec": {
   "display_name": "Python311",
   "language": "python",
   "name": "python3"
  },
  "language_info": {
   "codemirror_mode": {
    "name": "ipython",
    "version": 3
   },
   "file_extension": ".py",
   "mimetype": "text/x-python",
   "name": "python",
   "nbconvert_exporter": "python",
   "pygments_lexer": "ipython3",
   "version": "3.11.5"
  },
  "orig_nbformat": 4
 },
 "nbformat": 4,
 "nbformat_minor": 2
}
